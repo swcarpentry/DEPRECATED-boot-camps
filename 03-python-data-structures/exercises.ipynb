{
 "metadata": {
  "name": "exercises"
 },
 "nbformat": 3,
 "nbformat_minor": 0,
 "worksheets": [
  {
   "cells": [
    {
     "cell_type": "markdown",
     "metadata": {},
     "source": [
      "# Exercise 1\n",
      "\n",
      "1. Calculate the mean of the numbers 2, 3, and 10."
     ]
    },
    {
     "cell_type": "code",
     "collapsed": true,
     "input": [
      "  "
     ],
     "language": "python",
     "metadata": {},
     "outputs": []
    },
    {
     "cell_type": "markdown",
     "metadata": {},
     "source": [
      "# Exercise 2\n",
      "\n",
      "1. Make a list with 5 things in it, say, \"Cleese\", \"Chapman\", \"Idle\", \"Palin\", and \"Gilliam\""
     ]
    },
    {
     "cell_type": "code",
     "collapsed": false,
     "input": [
      "listofsillypeople = "
     ],
     "language": "python",
     "metadata": {},
     "outputs": []
    },
    {
     "cell_type": "markdown",
     "metadata": {},
     "source": [
      "2. Add two more things, say, \"Izzard\" and \"Booth\""
     ]
    },
    {
     "cell_type": "code",
     "collapsed": true,
     "input": [],
     "language": "python",
     "metadata": {},
     "outputs": []
    },
    {
     "cell_type": "markdown",
     "metadata": {},
     "source": [
      "Retrieve the \"Chapman\" field from listofsillypeople."
     ]
    },
    {
     "cell_type": "code",
     "collapsed": false,
     "input": [],
     "language": "python",
     "metadata": {},
     "outputs": []
    },
    {
     "cell_type": "markdown",
     "metadata": {},
     "source": [
      "# Exercise 3\n",
      "\n",
      "1. Make a dictionary whose keys are the strings \"zero\" through \"nine\" and whose values are ints 0 through 9."
     ]
    },
    {
     "cell_type": "code",
     "collapsed": true,
     "input": [
      "digitsdict = {}"
     ],
     "language": "python",
     "metadata": {},
     "outputs": []
    },
    {
     "cell_type": "markdown",
     "metadata": {},
     "source": [
      "Predict the output of the following command"
     ]
    },
    {
     "cell_type": "code",
     "collapsed": true,
     "input": [
      "print digitsdict[\"nine\"]+digitsdict[\"seven\"]"
     ],
     "language": "python",
     "metadata": {},
     "outputs": []
    },
    {
     "cell_type": "markdown",
     "metadata": {},
     "source": [
      "# Exercise 5\n",
      "Create a list containing the strings \"zero\", \"one\", \"two\", \"three\", \"four\", \"five\", \"six\", \"seven\", \"eight\", and \"nine\"."
     ]
    },
    {
     "cell_type": "code",
     "collapsed": false,
     "input": [
      "digitslist = "
     ],
     "language": "python",
     "metadata": {},
     "outputs": []
    },
    {
     "cell_type": "markdown",
     "metadata": {},
     "source": [
      "Predict the output of the following"
     ]
    },
    {
     "cell_type": "code",
     "collapsed": false,
     "input": [
      "print digitslist[9]+digitslist[7]"
     ],
     "language": "python",
     "metadata": {},
     "outputs": []
    },
    {
     "cell_type": "markdown",
     "metadata": {},
     "source": [
      "## Exercise 6\n",
      "Read the file 'big_animals.txt' and print each line and the length of each line."
     ]
    },
    {
     "cell_type": "code",
     "collapsed": false,
     "input": [
      "fh_animals = open(\"big_animals.txt\")\n",
      "\n"
     ],
     "language": "python",
     "metadata": {},
     "outputs": []
    }
   ],
   "metadata": {}
  }
 ]
}