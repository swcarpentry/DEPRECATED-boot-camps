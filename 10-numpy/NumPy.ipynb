{
 "metadata": {
  "name": "NumPy"
 },
 "nbformat": 3,
 "nbformat_minor": 0,
 "worksheets": [
  {
   "cells": [
    {
     "cell_type": "markdown",
     "metadata": {},
     "source": [
      "NumPy: Numerical Python\n",
      "================\n",
      "\n",
      "**Based on lecture materials by Matthew Terry and Katy Huff**\n",
      "\n",
      "This section will cover a broad overview of NumPy with brief illustrative\n",
      "examples geared towards getting people familiar with the basic use\n",
      "cases. Since NumPy has many advanced features that may be useful to\n",
      "experienced programmers, these notes will occasionally link to more\n",
      "advanced examples that readers can peruse on their own time.\n",
      "\n",
      "**Aside: Code Examples**\n",
      "\n",
      "In all the examples below, we assume that `import numpy` has already been\n",
      "executed. If any other modules are needed, we will import them\n",
      "explicitly.\n",
      "\n",
      "NumPy basics\n",
      "============\n",
      "\n",
      "What is NumPy?\n",
      "---------------\n",
      "\n",
      "NumPy is a Python package implementing efficient collections of specific\n",
      "types of data (generally numerical), similar to the standard array\n",
      "module (but with many more features). NumPy arrays differ from lists and\n",
      "tuples in that the data is contiguous in memory. A Python **list**, \n",
      "```[0, 1, 2]```, in contrast, is actually an array of pointers to Python\n",
      "objects representing each number. This allows NumPy arrays to be\n",
      "considerably faster for numerical operations than Python lists/tuples.\n",
      "\n",
      "Creating NumPy Arrays\n",
      "---------------------\n",
      "\n",
      "Creating a NumPy array is as simple as passing a sequence to\n",
      "numpy.array. You can also explicitly specify the data-type if the\n",
      "automatically-chosen one would be unsuitable."
     ]
    },
    {
     "cell_type": "code",
     "collapsed": false,
     "input": [
      "A = numpy.array([1, 2.3, 4])\n",
      "A.dtype"
     ],
     "language": "python",
     "metadata": {},
     "outputs": []
    },
    {
     "cell_type": "code",
     "collapsed": false,
     "input": [
      "B = numpy.array([1, 2.3, 4], dtype=int)   \n",
      "B.dtype"
     ],
     "language": "python",
     "metadata": {},
     "outputs": []
    },
    {
     "cell_type": "markdown",
     "metadata": {},
     "source": [
      "As you might expect, creating a NumPy array this way can be slow, since\n",
      "it must manually convert each element of a list into its equivalent C\n",
      "type (int objects become C ints, etc). There are many other ways to\n",
      "create NumPy arrays, such as **numpy.identity**, **numpy.zeros**,\n",
      "**numpy.zeros\\_like**, or by manually specifying the dimensions and type\n",
      "of the array with the low-level creation function:"
     ]
    },
    {
     "cell_type": "code",
     "collapsed": false,
     "input": [
      "numpy.ndarray((2, 3, 4), dtype=complex) # new 2x3x4 array of complex numbers "
     ],
     "language": "python",
     "metadata": {},
     "outputs": []
    },
    {
     "cell_type": "markdown",
     "metadata": {},
     "source": [
      "For many of the examples below, we will be using **numpy.arange** which,\n",
      "similar to the Python built-in function **range**, returns a NumPy array\n",
      "of integers from 0 to N-1, inclusive. Like **range**, you can also\n",
      "specify a starting value and a step."
     ]
    },
    {
     "cell_type": "code",
     "collapsed": false,
     "input": [
      "numpy.arange(2, 5)"
     ],
     "language": "python",
     "metadata": {},
     "outputs": []
    },
    {
     "cell_type": "code",
     "collapsed": false,
     "input": [
      "numpy.arange(1, 5, 2)"
     ],
     "language": "python",
     "metadata": {},
     "outputs": []
    },
    {
     "cell_type": "code",
     "collapsed": false,
     "input": [
      "numpy.arange(1, 10, 2)"
     ],
     "language": "python",
     "metadata": {},
     "outputs": []
    },
    {
     "cell_type": "markdown",
     "metadata": {},
     "source": [
      "### Exercise : Create an Array\n",
      "\n",
      "Create a NumPy array with values ranging from 0 to 10, in increments of\n",
      "0.5. Don't forget to use **help()** to find useful functions!"
     ]
    },
    {
     "cell_type": "code",
     "collapsed": false,
     "input": [],
     "language": "python",
     "metadata": {},
     "outputs": []
    },
    {
     "cell_type": "markdown",
     "metadata": {},
     "source": [
      "Data types\n",
      "----------\n",
      "\n",
      "When creating a NumPy array, you supply a dtype (\"data type\"), or one is\n",
      "chosen for you. There are a total of 21 different array scalar types,\n",
      "which can be used to specify the dtype. In addition to the scalar type,\n",
      "you may also specify byte order (little- or big-endian) or even multiple\n",
      "scalar types to be used as a light-weight tuple (similar to a C struct).\n",
      "For everyday use, however, you can just pass in the appropriate scalar\n",
      "type and NumPy will figure it out. Some common scalar types include:\n",
      "\n",
      "    int     # Python-compatible int (usually a C long)\n",
      "    intc    # C int\n",
      "    float   # Python-compatible float (usually a C double)\n",
      "    single  # C float\n",
      "    double  # C double\n",
      "    complex # Python-compatible complex\n",
      "\n",
      "List operations\n",
      "---------------\n",
      "\n",
      "For basic operations, NumPy arrays can be accessed just like Python\n",
      "lists and tuples. This means that you can use the square brackets to\n",
      "access elements, **len()** to access the size of the array, and so on."
     ]
    },
    {
     "cell_type": "code",
     "collapsed": false,
     "input": [
      "A = numpy.arange(5)\n",
      "A"
     ],
     "language": "python",
     "metadata": {},
     "outputs": []
    },
    {
     "cell_type": "code",
     "collapsed": false,
     "input": [
      "A[3]"
     ],
     "language": "python",
     "metadata": {},
     "outputs": []
    },
    {
     "cell_type": "code",
     "collapsed": false,
     "input": [
      "A[3] = 42\n",
      "A"
     ],
     "language": "python",
     "metadata": {},
     "outputs": []
    },
    {
     "cell_type": "code",
     "collapsed": false,
     "input": [
      "len(A)"
     ],
     "language": "python",
     "metadata": {},
     "outputs": []
    },
    {
     "cell_type": "markdown",
     "metadata": {},
     "source": [
      "Arithmetic\n",
      "----------\n",
      "\n",
      "Since NumPy exists to perform efficient numerical operations in Python,\n",
      "it stands to reason that NumPy arrays have all the usual arithmetic\n",
      "operations available to them. These operations are performed\n",
      "element-wise (i.e. the same operation is performed independently on each\n",
      "element of the array)."
     ]
    },
    {
     "cell_type": "code",
     "collapsed": false,
     "input": [
      "A = numpy.arange(5)\n",
      "B = numpy.arange(5, 10)\n",
      "A"
     ],
     "language": "python",
     "metadata": {},
     "outputs": []
    },
    {
     "cell_type": "code",
     "collapsed": false,
     "input": [
      "B"
     ],
     "language": "python",
     "metadata": {},
     "outputs": []
    },
    {
     "cell_type": "code",
     "collapsed": false,
     "input": [
      "A + B"
     ],
     "language": "python",
     "metadata": {},
     "outputs": []
    },
    {
     "cell_type": "code",
     "collapsed": false,
     "input": [
      "B - A"
     ],
     "language": "python",
     "metadata": {},
     "outputs": []
    },
    {
     "cell_type": "code",
     "collapsed": false,
     "input": [
      "A * B"
     ],
     "language": "python",
     "metadata": {},
     "outputs": []
    },
    {
     "cell_type": "markdown",
     "metadata": {},
     "source": [
      "In addition, if one of the arguments is a scalar, that value will be\n",
      "applied to all the elements of the array."
     ]
    },
    {
     "cell_type": "code",
     "collapsed": false,
     "input": [
      "A = numpy.arange(5)\n",
      "2 * A"
     ],
     "language": "python",
     "metadata": {},
     "outputs": []
    },
    {
     "cell_type": "code",
     "collapsed": false,
     "input": [
      "A ** 2"
     ],
     "language": "python",
     "metadata": {},
     "outputs": []
    },
    {
     "cell_type": "code",
     "collapsed": false,
     "input": [
      "A + 10"
     ],
     "language": "python",
     "metadata": {},
     "outputs": []
    },
    {
     "cell_type": "markdown",
     "metadata": {},
     "source": [
      "Comparison\n",
      "----------\n",
      "\n",
      "Much like the basic arithmetic operations we discussed above, comparison\n",
      "operations are perfomed element-wise. That is, rather than returning a\n",
      "single boolean, comparison operators compare each element in both arrays\n",
      "pairwise, and return an **array** of booleans (if the sizes of the input\n",
      "arrays are incompatible, the comparison will simply return False). For\n",
      "example:"
     ]
    },
    {
     "cell_type": "code",
     "collapsed": false,
     "input": [
      "A = numpy.array([1, 2, 3, 4, 5])\n",
      "B = numpy.array([1, 1, 3, 3, 5])\n",
      "A == B"
     ],
     "language": "python",
     "metadata": {},
     "outputs": []
    },
    {
     "cell_type": "markdown",
     "metadata": {},
     "source": [
      "From here, you can use the methods .any() and .all() to return a single\n",
      "boolean indicating whether any or all values in the array are True,\n",
      "respectively.\n",
      "\n",
      "Advanced Indexing\n",
      "-----------------\n",
      "\n",
      "In addition to the usual methods of indexing lists with an integer (or\n",
      "with a series of colon-separated integers for a slice), NumPy allows you\n",
      "to index arrays in a wide variety of different ways for more advanced\n",
      "operations.\n",
      "\n",
      "Multi-dimensional Indexing\n",
      "--------------------------\n",
      "\n",
      "Unlike Python lists and tuples, NumPy arrays can be multidimensional.\n",
      "This complicates somewhat how they are indexed. To access a single\n",
      "element, you simply pass in a comma-separated list of indices as a\n",
      "subscript. However, there are many other things you can do when indexing\n",
      "multidimensional arrays.\n",
      "\n",
      "For instance, suppose you want the elements of a 2D array where the\n",
      "first dimension is 1. NumPy makes this extremely simple:"
     ]
    },
    {
     "cell_type": "code",
     "collapsed": false,
     "input": [
      "A = numpy.arange(16).reshape(4, 4)\n",
      "A"
     ],
     "language": "python",
     "metadata": {},
     "outputs": []
    },
    {
     "cell_type": "code",
     "collapsed": false,
     "input": [
      "A[1]"
     ],
     "language": "python",
     "metadata": {},
     "outputs": []
    },
    {
     "cell_type": "markdown",
     "metadata": {},
     "source": [
      "Now suppose you want the elements of that array where the **second**\n",
      "dimension is 1. To do this, you can use \"slices\" of an entire dimension\n",
      "as a placeholder by typing : as your first \"index\". Continuing from\n",
      "above:"
     ]
    },
    {
     "cell_type": "code",
     "collapsed": false,
     "input": [
      "A[:, 1]"
     ],
     "language": "python",
     "metadata": {},
     "outputs": []
    },
    {
     "cell_type": "markdown",
     "metadata": {},
     "source": [
      "As you'd expect, this type of indexing can become quite complicated with\n",
      "arrays of high dimension.\n",
      "\n",
      "### Exercise : Selective Array Display\n",
      "\n",
      "Using what we've learned about slicing and indexing, print just the\n",
      "upper-left quarter of the array A above."
     ]
    },
    {
     "cell_type": "code",
     "collapsed": false,
     "input": [],
     "language": "python",
     "metadata": {},
     "outputs": []
    },
    {
     "cell_type": "markdown",
     "metadata": {},
     "source": [
      "Indexing with Arrays\n",
      "--------------------\n",
      "\n",
      "NumPy arrays can be indexed with other arrays, using either an array of\n",
      "indices, or an array of booleans of the same length. In the former case,\n",
      "NumPy returns a view of the data in the specified indices as a new\n",
      "array. In the latter, NumPy returns a view of the array with only the\n",
      "elements where the index array is True. (We'll discuss the difference\n",
      "between views and copies in a moment.) This makes normally-tedious\n",
      "operations like clamping extremely simple.\n",
      "\n",
      "Indexing with an array of indices:"
     ]
    },
    {
     "cell_type": "code",
     "collapsed": false,
     "input": [
      "A = numpy.arange(5, 10)\n",
      "A"
     ],
     "language": "python",
     "metadata": {},
     "outputs": []
    },
    {
     "cell_type": "code",
     "collapsed": false,
     "input": [
      "A[[0, 2, 3]]"
     ],
     "language": "python",
     "metadata": {},
     "outputs": []
    },
    {
     "cell_type": "code",
     "collapsed": false,
     "input": [
      "A[[0, 2, 3]] = 0\n",
      "A"
     ],
     "language": "python",
     "metadata": {},
     "outputs": []
    },
    {
     "cell_type": "markdown",
     "metadata": {},
     "source": [
      "Indexing with an array of booleans:"
     ]
    },
    {
     "cell_type": "code",
     "collapsed": false,
     "input": [
      "A = numpy.random.randint(10, size=10)\n",
      "A"
     ],
     "language": "python",
     "metadata": {},
     "outputs": []
    },
    {
     "cell_type": "code",
     "collapsed": false,
     "input": [
      "A[A > 5] = 5\n",
      "A"
     ],
     "language": "python",
     "metadata": {},
     "outputs": []
    },
    {
     "cell_type": "markdown",
     "metadata": {},
     "source": [
      "NumPy Gotchas\n",
      "=============\n",
      "\n",
      "NumPy has some important interface differences from Python lists and\n",
      "tuples that can confuse new users of the library. Below are the most\n",
      "notable of these.\n",
      "\n",
      "Multiplication and Addition\n",
      "---------------------------\n",
      "\n",
      "As you may have noticed above, since NumPy arrays are modeled more\n",
      "closely after vectors and matrices, multiplying by a scalar will\n",
      "multiply each element of the array, whereas multiplying a list by a\n",
      "scalar will repeat that list N times."
     ]
    },
    {
     "cell_type": "code",
     "collapsed": false,
     "input": [
      "numpy.arange(5) * 2"
     ],
     "language": "python",
     "metadata": {},
     "outputs": []
    },
    {
     "cell_type": "code",
     "collapsed": false,
     "input": [
      "range(5) * 2"
     ],
     "language": "python",
     "metadata": {},
     "outputs": []
    },
    {
     "cell_type": "markdown",
     "metadata": {},
     "source": [
      "Similarly, when adding two NumPy arrays together, we get the vector sum\n",
      "back, whereas when adding two lists together, we get the concatenation\n",
      "back."
     ]
    },
    {
     "cell_type": "code",
     "collapsed": false,
     "input": [
      "numpy.arange(5) + numpy.arange(5)"
     ],
     "language": "python",
     "metadata": {},
     "outputs": []
    },
    {
     "cell_type": "code",
     "collapsed": false,
     "input": [
      "range(5) + range(5)"
     ],
     "language": "python",
     "metadata": {},
     "outputs": []
    },
    {
     "cell_type": "markdown",
     "metadata": {},
     "source": [
      "Views vs. Copies\n",
      "----------------\n",
      "\n",
      "In order to be as efficient as possible, NumPy uses \"views\" instead of\n",
      "copies wherever possible. That is, NumPy arrays derived from another\n",
      "base array generally refer to the ''exact same data'' as the base array.\n",
      "The consequence of this is that modification of these derived arrays\n",
      "will also modify the base array. You saw this above in how the result of\n",
      "an array indexed by an array of indices is a ''copy'', but an array\n",
      "indexed by an array of booleans is a ''view''. (Phew!)\n",
      "\n",
      "Specifically, slices of arrays are always views, unlike slices of lists\n",
      "or tuples, which are always copies."
     ]
    },
    {
     "cell_type": "code",
     "collapsed": false,
     "input": [
      "A = numpy.arange(5)\n",
      "B = A[0:1]\n",
      "B[0] = 42\n",
      "A"
     ],
     "language": "python",
     "metadata": {},
     "outputs": []
    },
    {
     "cell_type": "code",
     "collapsed": false,
     "input": [
      "A = range(5)\n",
      "B = A[0:1]\n",
      "B[0] = 42\n",
      "A"
     ],
     "language": "python",
     "metadata": {},
     "outputs": []
    },
    {
     "cell_type": "markdown",
     "metadata": {},
     "source": [
      "### Exercise : Copy a NumPy Array\n",
      "\n",
      "Figure out how to create a copy of a NumPy array. Remember: since NumPy\n",
      "slices are views, you can't use the trick you'd use for Python lists,\n",
      "i.e. copy = list[:]."
     ]
    },
    {
     "cell_type": "code",
     "collapsed": false,
     "input": [],
     "language": "python",
     "metadata": {},
     "outputs": []
    },
    {
     "cell_type": "markdown",
     "metadata": {},
     "source": [
      "Mathematics with NumPy\n",
      "======================\n",
      "\n",
      "Being designed for scientific computing, NumPy also contains a host of\n",
      "common mathematical functions, including linear algebra functions, fast\n",
      "Fourier transforms, and probability/statistics functions. While there\n",
      "isn't space to go over ''all'' of these in detail, we will provide an\n",
      "overview of the most common/essential of these.\n",
      "\n",
      "Basics\n",
      "------\n",
      "\n",
      "All NumPy arrays have a collection of basic operations built-in. Most of\n",
      "these can be used to operate only on a particular axis of the array, but\n",
      "for simplicity, we will only show them in action on one-dimensional\n",
      "arrays."
     ]
    },
    {
     "cell_type": "code",
     "collapsed": false,
     "input": [
      "A = numpy.random.randint(10, size=10)\n",
      "A"
     ],
     "language": "python",
     "metadata": {},
     "outputs": []
    },
    {
     "cell_type": "code",
     "collapsed": false,
     "input": [
      "A.min()"
     ],
     "language": "python",
     "metadata": {},
     "outputs": []
    },
    {
     "cell_type": "code",
     "collapsed": false,
     "input": [
      "A.max()"
     ],
     "language": "python",
     "metadata": {},
     "outputs": []
    },
    {
     "cell_type": "code",
     "collapsed": false,
     "input": [
      "A.mean()"
     ],
     "language": "python",
     "metadata": {},
     "outputs": []
    },
    {
     "cell_type": "code",
     "collapsed": false,
     "input": [
      "A.std() # standard deviation"
     ],
     "language": "python",
     "metadata": {},
     "outputs": []
    },
    {
     "cell_type": "code",
     "collapsed": false,
     "input": [
      "A.sum()"
     ],
     "language": "python",
     "metadata": {},
     "outputs": []
    },
    {
     "cell_type": "markdown",
     "metadata": {},
     "source": [
      "Performance comparison\n",
      "------\n",
      "\n",
      "To illustrate the speedup from using NumPy for numerical computing,\n",
      "let's compare the time it takes to sum up 1,000,000 values in a\n",
      "NumPy array vs. a Python list."
     ]
    },
    {
     "cell_type": "code",
     "collapsed": false,
     "input": [
      "import random\n",
      "A = numpy.random.randint(10, size=1000000)\n",
      "B = [random.randint(0, 10) for r in range(1000000)]"
     ],
     "language": "python",
     "metadata": {},
     "outputs": [],
     "prompt_number": 1
    },
    {
     "cell_type": "code",
     "collapsed": false,
     "input": [
      "%timeit A.sum()"
     ],
     "language": "python",
     "metadata": {},
     "outputs": [
      {
       "output_type": "stream",
       "stream": "stdout",
       "text": [
        "1000 loops, best of 3: 892 us per loop\n"
       ]
      }
     ],
     "prompt_number": 5
    },
    {
     "cell_type": "code",
     "collapsed": false,
     "input": [
      "%timeit sum(B)"
     ],
     "language": "python",
     "metadata": {},
     "outputs": [
      {
       "output_type": "stream",
       "stream": "stdout",
       "text": [
        "10 loops, best of 3: 119 ms per loop\n"
       ]
      }
     ],
     "prompt_number": 3
    },
    {
     "cell_type": "markdown",
     "metadata": {},
     "source": [
      "119 milliseconds (ms) = 119,000 microseconds (us). That is orders\n",
      "of magnitude difference in performance! Just imagine if you had to\n",
      "do anything more complicated than sum the elements.\n",
      "\n",
      "\n",
      "Operations for N-dimensional arrays\n",
      "------\n",
      "\n",
      "For 2-dimensional (or more) arrays, there are some other common\n",
      "operations:"
     ]
    },
    {
     "cell_type": "code",
     "collapsed": false,
     "input": [
      "A = numpy.arange(16).reshape(4, 4)\n",
      "A"
     ],
     "language": "python",
     "metadata": {},
     "outputs": []
    },
    {
     "cell_type": "code",
     "collapsed": false,
     "input": [
      "A.T # transpose"
     ],
     "language": "python",
     "metadata": {},
     "outputs": []
    },
    {
     "cell_type": "code",
     "collapsed": false,
     "input": [
      "A.trace()"
     ],
     "language": "python",
     "metadata": {},
     "outputs": []
    },
    {
     "cell_type": "markdown",
     "metadata": {},
     "source": [
      "There are many more methods like these available with NumPy arrays. Be\n",
      "sure to consult the NumPy documentation before writing your own\n",
      "versions!\n",
      "\n",
      "\n",
      "Matrices\n",
      "--------\n",
      "\n",
      "So far, we've used two-dimensional arrays to represent matrix-like\n",
      "objects. However, NumPy provides a specialized class for this. The\n",
      "matrix class is almost identical to a two-dimensional NumPy array, but\n",
      "has a few changes to the interface to simplify common linear algebraic\n",
      "tasks. These are:\n",
      "\n",
      "* The `*` operator is performs matrix multiplication\n",
      "* The `**` operator performs matrix exponentiation\n",
      "* The property `.I` (or the method `.getI()`) returns the matrix inverse\n",
      "* The property `.H` (or the method `.getH()`) returns the conjugate transpose\n",
      "\n",
      "### Example: Solving a System of Linear Equations\n",
      "\n",
      "Let's say we have the following system of equations:\n",
      "\n",
      "$3x_0 + 2x_1 - x_2 = 1$\n",
      "\n",
      "$2x_0 - 2x_1 + 4x_2 = -2$\n",
      "\n",
      "$-x_0 + \\frac{1}{2}x_1 - x_2 = 0$\n",
      "\n",
      "And we want to solve for $x_0$, $x_1$, and $x_2$.\n",
      "\n",
      "Of course, there's an operation for that:"
     ]
    },
    {
     "cell_type": "code",
     "collapsed": false,
     "input": [
      "import numpy.linalg\n",
      "\n",
      "# coefficient matrix\n",
      "A = numpy.matrix([[3, 2, -1], [2, -2, 4], [-1, .5, -1]])\n",
      "\n",
      "# dependent variable values\n",
      "B = numpy.array([1, -2, 0])\n",
      "\n",
      "solution = numpy.linalg.solve(A, B)\n",
      "\n",
      "print \"x_0 =\", solution[0]\n",
      "print \"x_1 =\", solution[1]\n",
      "print \"x_2 =\", solution[2]"
     ],
     "language": "python",
     "metadata": {},
     "outputs": []
    },
    {
     "cell_type": "markdown",
     "metadata": {},
     "source": [
      "And there you have it! You'll never have to do linear algebra by hand again.\n",
      "\n",
      "\n",
      "Universal Functions\n",
      "===================\n",
      "\n",
      "Universal functions (also called ufuncs) are high-speed, element-wise\n",
      "operations on NumPy arrays. They are, in essence, what allows you to\n",
      "operate on NumPy arrays efficiently. There are a large number of\n",
      "universal functions available covering most of the basic operations that\n",
      "get performed on data, like addition, subtraction, logarithms, and so\n",
      "on. Calling a ufunc is a simple matter:"
     ]
    },
    {
     "cell_type": "code",
     "collapsed": false,
     "input": [
      "A = numpy.arange(1,10)\n",
      "numpy.log10(A)"
     ],
     "language": "python",
     "metadata": {},
     "outputs": []
    },
    {
     "cell_type": "markdown",
     "metadata": {},
     "source": [
      "In addition to basic operation like above, ufuncs that take two input\n",
      "arrays and return an output array can be used in more advanced ways.\n",
      "\n",
      "ufuncs\n",
      "------\n",
      "\n",
      "### Exercise : Elementwise Operations\n",
      "\n",
      "Using ufuncs, calculate the reciprocal of each element in the following\n",
      "array:"
     ]
    },
    {
     "cell_type": "code",
     "collapsed": false,
     "input": [
      "[8.1, 1.6, 0.9, 4.3, 7.0, 7.3, 4.7, 8.2, 7.2, 3.0,\n",
      "1.4, 9.8, 5.7, 0.7, 8.7, 4.6, 8.8, 0.9, 4.4, 4.4]"
     ],
     "language": "python",
     "metadata": {},
     "outputs": []
    },
    {
     "cell_type": "markdown",
     "metadata": {},
     "source": [
      "External Resources\n",
      "==================\n",
      "\n",
      "NumPy has too many features to discuss here. However, there are plenty\n",
      "of resources on the web that describe NumPy in detail. Here is a\n",
      "selection of them:\n",
      "\n",
      " * [NumPy user's guide](http://docs.scipy.org/doc/numpy/user)\n",
      " * [NumPy Reference](http://docs.scipy.org/doc/numpy/reference/)\n",
      " * [NumPy For Matlab Users](http://www.scipy.org/NumPy_for_Matlab_Users)\n",
      " * [NumPy CookBook](http://www.scipy.org/Cookbook)\n",
      "\n",
      "If you're familiar with R and want a R-like DataFrame, we recommend\n",
      "the [pandas (Python for Data Analysis)](http://pandas.pydata.org/) library.\n",
      "pandas builds on NumPy's efficient array operations and simplifies the\n",
      "entire process of reading in data from files, analyzing the data, and\n",
      "plotting the data in graphs."
     ]
    }
   ],
   "metadata": {}
  }
 ]
}