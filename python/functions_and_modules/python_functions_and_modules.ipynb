{
 "metadata": {
  "name": "python_functions_and_modules"
 }, 
 "nbformat": 2, 
 "worksheets": [
  {
   "cells": [
    {
     "cell_type": "markdown", 
     "source": [
      "# Python: Functions and Modules"
     ]
    }, 
    {
     "cell_type": "markdown", 
     "source": [
      "Materials by: [John Blischak](https://github.com/jdblischak \"GitHub\") and other Software Carpentry instructors (Joshua R. Smith, Milad Fatenejad, Katy Huff, Tommy Guy and many more)"
     ]
    }, 
    {
     "cell_type": "markdown", 
     "source": [
      "As you saw in the last lesson, computers are very useful for doing the same operation over and over. When you know you will be performing the same operation many times, it is best to abstract this functionality into a function (aka method). For example, you used the function `open` in an earlier section. This allowed you to easily open a conncetion to a file without worrying about the underlying code that made it possible (this idea is known as abstraction).   "
     ]
    }, 
    {
     "cell_type": "markdown", 
     "source": [
      "# Built-in string methods", 
      "The base distribution comes with many useful functions. When a function works on a specific type of data (lists, strings, dictionaries, etc.), it is called a method.  I will cover some of the basic string methods since they are very useful for reading data into Python."
     ]
    }, 
    {
     "cell_type": "code", 
     "collapsed": false, 
     "input": [
      "# Find the start codon of a gene", 
      "dna = 'CTGTTGACATGCATTCACGCTACGCTAGCT'", 
      "dna.find('ATG')"
     ], 
     "language": "python", 
     "outputs": [
      {
       "output_type": "pyout", 
       "prompt_number": 1, 
       "text": [
        "8"
       ]
      }
     ], 
     "prompt_number": 1
    }, 
    {
     "cell_type": "code", 
     "collapsed": false, 
     "input": [
      "# parsing a line from a comma-delimted file", 
      "lotto_numbers = '4,8,15,16,23,42\\n'", 
      "lotto_numbers.strip().split(',')"
     ], 
     "language": "python", 
     "outputs": [
      {
       "output_type": "pyout", 
       "prompt_number": 2, 
       "text": [
        "['4', '8', '15', '16', '23', '42']"
       ]
      }
     ], 
     "prompt_number": 2
    }, 
    {
     "cell_type": "code", 
     "collapsed": false, 
     "input": [
      "question = '%H%ow%z%d%@d%z%th%ez$%@p%ste%rzb%ur%nz%$%@szt%on%gue%?%'", 
      "print question.replace('%', '').replace('@', 'i').replace('$', 'h').replace('z', ' ')"
     ], 
     "language": "python", 
     "outputs": [
      {
       "output_type": "stream", 
       "stream": "stdout", 
       "text": [
        "How did the hipster burn his tongue?"
       ]
      }
     ], 
     "prompt_number": 3
    }, 
    {
     "cell_type": "code", 
     "collapsed": false, 
     "input": [
      "answer = '=H=&!dr=a=nk!c=~ff&&!be=f~r&=!i=t!w=as!c=~~l.='", 
      "print answer.replace('=', '').replace('&', 'e').replace('~', 'o').replace('!', ' ')"
     ], 
     "language": "python", 
     "outputs": [
      {
       "output_type": "stream", 
       "stream": "stdout", 
       "text": [
        "He drank coffee before it was cool."
       ]
      }
     ], 
     "prompt_number": 4
    }, 
    {
     "cell_type": "markdown", 
     "source": [
      "## Short Exercise: Calculate GC content of DNA"
     ]
    }, 
    {
     "cell_type": "markdown", 
     "source": [
      "Because the binding strength of guanine (G) to cytosine (C) is different from the binding strength of adenine (A) to thymine (T) (and many other differences), it is often useful to know the fraction of a DNA sequence that is G's or C's. Go to the [string method section](http://docs.python.org/2/library/string.html) of the Python documentation and find the string method that will allow you to calculate this fraction."
     ]
    }, 
    {
     "cell_type": "code", 
     "collapsed": false, 
     "input": [
      "# Calculate the fraction of G's and C's in this DNA sequence", 
      "seq1 = 'ACGTACGTAGCTAGTAGCTACGTAGCTACGTA'", 
      "gc = "
     ], 
     "language": "python", 
     "outputs": [
      {
       "ename": "SyntaxError", 
       "evalue": "invalid syntax (<ipython-input-5-d272026cf214>, line 3)", 
       "output_type": "pyerr", 
       "traceback": [
        "\u001b[0;36m  File \u001b[0;32m\"<ipython-input-5-d272026cf214>\"\u001b[0;36m, line \u001b[0;32m3\u001b[0m\n\u001b[0;31m    gc =\u001b[0m\n\u001b[0m         ^\u001b[0m\n\u001b[0;31mSyntaxError\u001b[0m\u001b[0;31m:\u001b[0m invalid syntax\n"
       ]
      }
     ], 
     "prompt_number": 5
    }, 
    {
     "cell_type": "markdown", 
     "source": [
      "Check your work:"
     ]
    }, 
    {
     "cell_type": "code", 
     "collapsed": false, 
     "input": [
      "round(gc, ndigits = 2) == .47"
     ], 
     "language": "python", 
     "outputs": [
      {
       "ename": "NameError", 
       "evalue": "name 'gc' is not defined", 
       "output_type": "pyerr", 
       "traceback": [
        "\u001b[0;31m---------------------------------------------------------------------------\u001b[0m\n\u001b[0;31mNameError\u001b[0m                                 Traceback (most recent call last)", 
        "\u001b[0;32m/home/swc/boot-camps/python/functions_and_modules/<ipython-input-6-6fe56a376a82>\u001b[0m in \u001b[0;36m<module>\u001b[0;34m()\u001b[0m\n\u001b[0;32m----> 1\u001b[0;31m \u001b[0mround\u001b[0m\u001b[0;34m(\u001b[0m\u001b[0mgc\u001b[0m\u001b[0;34m,\u001b[0m \u001b[0mndigits\u001b[0m \u001b[0;34m=\u001b[0m \u001b[0;36m2\u001b[0m\u001b[0;34m)\u001b[0m \u001b[0;34m==\u001b[0m \u001b[0;36m.47\u001b[0m\u001b[0;34m\u001b[0m\u001b[0m\n\u001b[0m", 
        "\u001b[0;31mNameError\u001b[0m: name 'gc' is not defined"
       ]
      }
     ], 
     "prompt_number": 6
    }, 
    {
     "cell_type": "markdown", 
     "source": [
      "# Creating your own functions!", 
      "When there is not an available function to perform a task, you can write your own functions."
     ]
    }, 
    {
     "cell_type": "code", 
     "collapsed": true, 
     "input": [
      "def square(x):", 
      "    return x * x"
     ], 
     "language": "python", 
     "outputs": [], 
     "prompt_number": 7
    }, 
    {
     "cell_type": "code", 
     "collapsed": false, 
     "input": [
      "print square(2), square(square(2))"
     ], 
     "language": "python", 
     "outputs": [
      {
       "output_type": "stream", 
       "stream": "stdout", 
       "text": [
        "4 16"
       ]
      }
     ], 
     "prompt_number": 8
    }, 
    {
     "cell_type": "code", 
     "collapsed": true, 
     "input": [
      "def hello(time, name):", 
      "    \"\"\"Print a nice message. Time and name should both be strings.", 
      "    ", 
      "    Example: hello('morning', 'Software Carpentry')", 
      "    \"\"\"", 
      "    print 'Good ' + time + ', ' + name + '!'"
     ], 
     "language": "python", 
     "outputs": [], 
     "prompt_number": 9
    }, 
    {
     "cell_type": "code", 
     "collapsed": false, 
     "input": [
      "hello('afternoon', 'Software Carpentry')"
     ], 
     "language": "python", 
     "outputs": [
      {
       "output_type": "stream", 
       "stream": "stdout", 
       "text": [
        "Good afternoon, Software Carpentry!"
       ]
      }
     ], 
     "prompt_number": 10
    }, 
    {
     "cell_type": "markdown", 
     "source": [
      "The description right below the function name is called a docstring. For best practices on composing docstrings, read [PEP 257 -- Docstring Conventions](http://www.python.org/dev/peps/pep-0257/)."
     ]
    }, 
    {
     "cell_type": "markdown", 
     "source": [
      "## Short exercise: Write a function to calculate GC content of DNA", 
      "Make a function that calculate the GC content of a given DNA sequence. For the more advanced participants, make your function able to handle sequences of mixed case (see the third test case)."
     ]
    }, 
    {
     "cell_type": "code", 
     "collapsed": true, 
     "input": [
      "def calculate_gc(x):", 
      "    \"\"\"Calculates the GC content of DNA sequence x.", 
      "    x: a string composed only of A's, T's, G's, and C's.\"\"\""
     ], 
     "language": "python", 
     "outputs": [], 
     "prompt_number": 11
    }, 
    {
     "cell_type": "markdown", 
     "source": [
      "Check your work:"
     ]
    }, 
    {
     "cell_type": "code", 
     "collapsed": false, 
     "input": [
      "print round(calculate_gc('ATGC'), ndigits = 2) == 0.50", 
      "print round(calculate_gc('AGCGTCGTCAGTCGT'), ndigits = 2) == 0.60", 
      "print round(calculate_gc('ATaGtTCaAGcTCgATtGaATaGgTAaCt'), ndigits = 2) == 0.34"
     ], 
     "language": "python", 
     "outputs": [
      {
       "ename": "TypeError", 
       "evalue": "a float is required", 
       "output_type": "pyerr", 
       "traceback": [
        "\u001b[0;31m---------------------------------------------------------------------------\u001b[0m\n\u001b[0;31mTypeError\u001b[0m                                 Traceback (most recent call last)", 
        "\u001b[0;32m/home/swc/boot-camps/python/functions_and_modules/<ipython-input-12-fba23dfd8bd8>\u001b[0m in \u001b[0;36m<module>\u001b[0;34m()\u001b[0m\n\u001b[0;32m----> 1\u001b[0;31m \u001b[0;32mprint\u001b[0m \u001b[0mround\u001b[0m\u001b[0;34m(\u001b[0m\u001b[0mcalculate_gc\u001b[0m\u001b[0;34m(\u001b[0m\u001b[0;34m'ATGC'\u001b[0m\u001b[0;34m)\u001b[0m\u001b[0;34m,\u001b[0m \u001b[0mndigits\u001b[0m \u001b[0;34m=\u001b[0m \u001b[0;36m2\u001b[0m\u001b[0;34m)\u001b[0m \u001b[0;34m==\u001b[0m \u001b[0;36m0.50\u001b[0m\u001b[0;34m\u001b[0m\u001b[0m\n\u001b[0m\u001b[1;32m      2\u001b[0m \u001b[0;32mprint\u001b[0m \u001b[0mround\u001b[0m\u001b[0;34m(\u001b[0m\u001b[0mcalculate_gc\u001b[0m\u001b[0;34m(\u001b[0m\u001b[0;34m'AGCGTCGTCAGTCGT'\u001b[0m\u001b[0;34m)\u001b[0m\u001b[0;34m,\u001b[0m \u001b[0mndigits\u001b[0m \u001b[0;34m=\u001b[0m \u001b[0;36m2\u001b[0m\u001b[0;34m)\u001b[0m \u001b[0;34m==\u001b[0m \u001b[0;36m0.60\u001b[0m\u001b[0;34m\u001b[0m\u001b[0m\n\u001b[1;32m      3\u001b[0m \u001b[0;32mprint\u001b[0m \u001b[0mround\u001b[0m\u001b[0;34m(\u001b[0m\u001b[0mcalculate_gc\u001b[0m\u001b[0;34m(\u001b[0m\u001b[0;34m'ATaGtTCaAGcTCgATtGaATaGgTAaCt'\u001b[0m\u001b[0;34m)\u001b[0m\u001b[0;34m,\u001b[0m \u001b[0mndigits\u001b[0m \u001b[0;34m=\u001b[0m \u001b[0;36m2\u001b[0m\u001b[0;34m)\u001b[0m \u001b[0;34m==\u001b[0m \u001b[0;36m0.34\u001b[0m\u001b[0;34m\u001b[0m\u001b[0m\n", 
        "\u001b[0;31mTypeError\u001b[0m: a float is required"
       ]
      }
     ], 
     "prompt_number": 12
    }, 
    {
     "cell_type": "markdown", 
     "source": [
      "# Modules", 
      "Python has a lot of useful data type and functions built into the language, some of which you have already seen. For a full list, you can type `dir(__builtins__)`. However, there are even more functions stored in modules. An example is the sine function, which is stored in the math module. In order to access mathematical functions, like sin, we need to `import` the math module. Lets take a look at a simple example:"
     ]
    }, 
    {
     "cell_type": "code", 
     "collapsed": false, 
     "input": [
      "print sin(3) # Error! Python doesn't know what sin is...yet"
     ], 
     "language": "python", 
     "outputs": [
      {
       "ename": "NameError", 
       "evalue": "name 'sin' is not defined", 
       "output_type": "pyerr", 
       "traceback": [
        "\u001b[0;31m---------------------------------------------------------------------------\u001b[0m\n\u001b[0;31mNameError\u001b[0m                                 Traceback (most recent call last)", 
        "\u001b[0;32m/home/swc/boot-camps/python/functions_and_modules/<ipython-input-13-093a72c28f21>\u001b[0m in \u001b[0;36m<module>\u001b[0;34m()\u001b[0m\n\u001b[0;32m----> 1\u001b[0;31m \u001b[0;32mprint\u001b[0m \u001b[0msin\u001b[0m\u001b[0;34m(\u001b[0m\u001b[0;36m3\u001b[0m\u001b[0;34m)\u001b[0m \u001b[0;31m# Error! Python doesn't know what sin is...yet\u001b[0m\u001b[0;34m\u001b[0m\u001b[0m\n\u001b[0m", 
        "\u001b[0;31mNameError\u001b[0m: name 'sin' is not defined"
       ]
      }
     ], 
     "prompt_number": 13
    }, 
    {
     "cell_type": "code", 
     "collapsed": false, 
     "input": [
      "import math # Import the math module", 
      "math.sin(3)"
     ], 
     "language": "python", 
     "outputs": [
      {
       "output_type": "pyout", 
       "prompt_number": 14, 
       "text": [
        "0.1411200080598672"
       ]
      }
     ], 
     "prompt_number": 14
    }, 
    {
     "cell_type": "code", 
     "collapsed": false, 
     "input": [
      "print dir(math) # See a list of everything in the math module"
     ], 
     "language": "python", 
     "outputs": [
      {
       "output_type": "stream", 
       "stream": "stdout", 
       "text": [
        "['__doc__', '__name__', '__package__', 'acos', 'acosh', 'asin', 'asinh', 'atan', 'atan2', 'atanh', 'ceil', 'copysign', 'cos', 'cosh', 'degrees', 'e', 'erf', 'erfc', 'exp', 'expm1', 'fabs', 'factorial', 'floor', 'fmod', 'frexp', 'fsum', 'gamma', 'hypot', 'isinf', 'isnan', 'ldexp', 'lgamma', 'log', 'log10', 'log1p', 'modf', 'pi', 'pow', 'radians', 'sin', 'sinh', 'sqrt', 'tan', 'tanh', 'trunc']"
       ]
      }
     ], 
     "prompt_number": 15
    }, 
    {
     "cell_type": "code", 
     "collapsed": true, 
     "input": [
      "help(math) # Get help information for the math module"
     ], 
     "language": "python", 
     "outputs": [
      {
       "output_type": "stream", 
       "stream": "stdout", 
       "text": [
        "Help on built-in module math:", 
        "", 
        "NAME", 
        "    math", 
        "", 
        "FILE", 
        "    (built-in)", 
        "", 
        "DESCRIPTION", 
        "    This module is always available.  It provides access to the", 
        "    mathematical functions defined by the C standard.", 
        "", 
        "FUNCTIONS", 
        "    acos(...)", 
        "        acos(x)", 
        "        ", 
        "        Return the arc cosine (measured in radians) of x.", 
        "    ", 
        "    acosh(...)", 
        "        acosh(x)", 
        "        ", 
        "        Return the hyperbolic arc cosine (measured in radians) of x.", 
        "    ", 
        "    asin(...)", 
        "        asin(x)", 
        "        ", 
        "        Return the arc sine (measured in radians) of x.", 
        "    ", 
        "    asinh(...)", 
        "        asinh(x)", 
        "        ", 
        "        Return the hyperbolic arc sine (measured in radians) of x.", 
        "    ", 
        "    atan(...)", 
        "        atan(x)", 
        "        ", 
        "        Return the arc tangent (measured in radians) of x.", 
        "    ", 
        "    atan2(...)", 
        "        atan2(y, x)", 
        "        ", 
        "        Return the arc tangent (measured in radians) of y/x.", 
        "        Unlike atan(y/x), the signs of both x and y are considered.", 
        "    ", 
        "    atanh(...)", 
        "        atanh(x)", 
        "        ", 
        "        Return the hyperbolic arc tangent (measured in radians) of x.", 
        "    ", 
        "    ceil(...)", 
        "        ceil(x)", 
        "        ", 
        "        Return the ceiling of x as a float.", 
        "        This is the smallest integral value >= x.", 
        "    ", 
        "    copysign(...)", 
        "        copysign(x, y)", 
        "        ", 
        "        Return x with the sign of y.", 
        "    ", 
        "    cos(...)", 
        "        cos(x)", 
        "        ", 
        "        Return the cosine of x (measured in radians).", 
        "    ", 
        "    cosh(...)", 
        "        cosh(x)", 
        "        ", 
        "        Return the hyperbolic cosine of x.", 
        "    ", 
        "    degrees(...)", 
        "        degrees(x)", 
        "        ", 
        "        Convert angle x from radians to degrees.", 
        "    ", 
        "    erf(...)", 
        "        erf(x)", 
        "        ", 
        "        Error function at x.", 
        "    ", 
        "    erfc(...)", 
        "        erfc(x)", 
        "        ", 
        "        Complementary error function at x.", 
        "    ", 
        "    exp(...)", 
        "        exp(x)", 
        "        ", 
        "        Return e raised to the power of x.", 
        "    ", 
        "    expm1(...)", 
        "        expm1(x)", 
        "        ", 
        "        Return exp(x)-1.", 
        "        This function avoids the loss of precision involved in the direct evaluation of exp(x)-1 for small x.", 
        "    ", 
        "    fabs(...)", 
        "        fabs(x)", 
        "        ", 
        "        Return the absolute value of the float x.", 
        "    ", 
        "    factorial(...)", 
        "        factorial(x) -> Integral", 
        "        ", 
        "        Find x!. Raise a ValueError if x is negative or non-integral.", 
        "    ", 
        "    floor(...)", 
        "        floor(x)", 
        "        ", 
        "        Return the floor of x as a float.", 
        "        This is the largest integral value <= x.", 
        "    ", 
        "    fmod(...)", 
        "        fmod(x, y)", 
        "        ", 
        "        Return fmod(x, y), according to platform C.  x % y may differ.", 
        "    ", 
        "    frexp(...)", 
        "        frexp(x)", 
        "        ", 
        "        Return the mantissa and exponent of x, as pair (m, e).", 
        "        m is a float and e is an int, such that x = m * 2.**e.", 
        "        If x is 0, m and e are both 0.  Else 0.5 <= abs(m) < 1.0.", 
        "    ", 
        "    fsum(...)", 
        "        fsum(iterable)", 
        "        ", 
        "        Return an accurate floating point sum of values in the iterable.", 
        "        Assumes IEEE-754 floating point arithmetic.", 
        "    ", 
        "    gamma(...)", 
        "        gamma(x)", 
        "        ", 
        "        Gamma function at x.", 
        "    ", 
        "    hypot(...)", 
        "        hypot(x, y)", 
        "        ", 
        "        Return the Euclidean distance, sqrt(x*x + y*y).", 
        "    ", 
        "    isinf(...)", 
        "        isinf(x) -> bool", 
        "        ", 
        "        Check if float x is infinite (positive or negative).", 
        "    ", 
        "    isnan(...)", 
        "        isnan(x) -> bool", 
        "        ", 
        "        Check if float x is not a number (NaN).", 
        "    ", 
        "    ldexp(...)", 
        "        ldexp(x, i)", 
        "        ", 
        "        Return x * (2**i).", 
        "    ", 
        "    lgamma(...)", 
        "        lgamma(x)", 
        "        ", 
        "        Natural logarithm of absolute value of Gamma function at x.", 
        "    ", 
        "    log(...)", 
        "        log(x[, base])", 
        "        ", 
        "        Return the logarithm of x to the given base.", 
        "        If the base not specified, returns the natural logarithm (base e) of x.", 
        "    ", 
        "    log10(...)", 
        "        log10(x)", 
        "        ", 
        "        Return the base 10 logarithm of x.", 
        "    ", 
        "    log1p(...)", 
        "        log1p(x)", 
        "        ", 
        "        Return the natural logarithm of 1+x (base e).", 
        "        The result is computed in a way which is accurate for x near zero.", 
        "    ", 
        "    modf(...)", 
        "        modf(x)", 
        "        ", 
        "        Return the fractional and integer parts of x.  Both results carry the sign", 
        "        of x and are floats.", 
        "    ", 
        "    pow(...)", 
        "        pow(x, y)", 
        "        ", 
        "        Return x**y (x to the power of y).", 
        "    ", 
        "    radians(...)", 
        "        radians(x)", 
        "        ", 
        "        Convert angle x from degrees to radians.", 
        "    ", 
        "    sin(...)", 
        "        sin(x)", 
        "        ", 
        "        Return the sine of x (measured in radians).", 
        "    ", 
        "    sinh(...)", 
        "        sinh(x)", 
        "        ", 
        "        Return the hyperbolic sine of x.", 
        "    ", 
        "    sqrt(...)", 
        "        sqrt(x)", 
        "        ", 
        "        Return the square root of x.", 
        "    ", 
        "    tan(...)", 
        "        tan(x)", 
        "        ", 
        "        Return the tangent of x (measured in radians).", 
        "    ", 
        "    tanh(...)", 
        "        tanh(x)", 
        "        ", 
        "        Return the hyperbolic tangent of x.", 
        "    ", 
        "    trunc(...)", 
        "        trunc(x:Real) -> Integral", 
        "        ", 
        "        Truncates x to the nearest Integral toward 0. Uses the __trunc__ magic method.", 
        "", 
        "DATA", 
        "    e = 2.718281828459045", 
        "    pi = 3.141592653589793", 
        ""
       ]
      }
     ], 
     "prompt_number": 16
    }, 
    {
     "cell_type": "markdown", 
     "source": [
      "It is not very difficult to use modules - you just have to know the module name and import it. There are a few variations on the import statement that can be used to make your life easier. Lets take a look at an example:"
     ]
    }, 
    {
     "cell_type": "code", 
     "collapsed": false, 
     "input": [
      "from math import *  # import everything from math into the global namespace (A BAD IDEA IN GENERAL)", 
      "print sin(3)        # notice that we don't need to type math.sin anymore", 
      "print tan(3)        # the tangent function was also in math, so we can use that too"
     ], 
     "language": "python", 
     "outputs": [
      {
       "output_type": "stream", 
       "stream": "stdout", 
       "text": [
        "0.14112000806", 
        "-0.142546543074"
       ]
      }
     ], 
     "prompt_number": 17
    }, 
    {
     "cell_type": "code", 
     "collapsed": true, 
     "input": [
      "reset # Clear everything from IPython"
     ], 
     "language": "python", 
     "outputs": [], 
     "prompt_number": 18
    }, 
    {
     "cell_type": "code", 
     "collapsed": false, 
     "input": [
      "from math import sin  # Import just sin from the math module. This is a good idea.", 
      "print sin(3)          # We can use sin because we just imported it", 
      "print tan(3)          # Error: We only imported sin - not tan"
     ], 
     "language": "python", 
     "outputs": [
      {
       "ename": "NameError", 
       "evalue": "name 'tan' is not defined", 
       "output_type": "pyerr", 
       "traceback": [
        "\u001b[0;31m---------------------------------------------------------------------------\u001b[0m\n\u001b[0;31mNameError\u001b[0m                                 Traceback (most recent call last)", 
        "\u001b[0;32m/home/swc/boot-camps/python/functions_and_modules/<ipython-input-19-b901467414cf>\u001b[0m in \u001b[0;36m<module>\u001b[0;34m()\u001b[0m\n\u001b[1;32m      1\u001b[0m \u001b[0;32mfrom\u001b[0m \u001b[0mmath\u001b[0m \u001b[0;32mimport\u001b[0m \u001b[0msin\u001b[0m  \u001b[0;31m# Import just sin from the math module. This is a good idea.\u001b[0m\u001b[0;34m\u001b[0m\u001b[0m\n\u001b[1;32m      2\u001b[0m \u001b[0;32mprint\u001b[0m \u001b[0msin\u001b[0m\u001b[0;34m(\u001b[0m\u001b[0;36m3\u001b[0m\u001b[0;34m)\u001b[0m          \u001b[0;31m# We can use sin because we just imported it\u001b[0m\u001b[0;34m\u001b[0m\u001b[0m\n\u001b[0;32m----> 3\u001b[0;31m \u001b[0;32mprint\u001b[0m \u001b[0mtan\u001b[0m\u001b[0;34m(\u001b[0m\u001b[0;36m3\u001b[0m\u001b[0;34m)\u001b[0m          \u001b[0;31m# Error: We only imported sin - not tan\u001b[0m\u001b[0;34m\u001b[0m\u001b[0m\n\u001b[0m", 
        "\u001b[0;31mNameError\u001b[0m: name 'tan' is not defined"
       ]
      }, 
      {
       "output_type": "stream", 
       "stream": "stdout", 
       "text": [
        "0.14112000806"
       ]
      }
     ], 
     "prompt_number": 19
    }, 
    {
     "cell_type": "code", 
     "collapsed": true, 
     "input": [
      "reset                 # Clear everything"
     ], 
     "language": "python", 
     "outputs": [], 
     "prompt_number": 20
    }, 
    {
     "cell_type": "code", 
     "collapsed": false, 
     "input": [
      "import math as m      # Same as import math, except we are renaming the module m", 
      "print m.sin(3)        # This is really handy if you have module names that are long"
     ], 
     "language": "python", 
     "outputs": [
      {
       "output_type": "stream", 
       "stream": "stdout", 
       "text": [
        "0.14112000806"
       ]
      }
     ], 
     "prompt_number": 21
    }, 
    {
     "cell_type": "markdown", 
     "source": [
      "## The General Problem", 
      "![xkcd](http://imgs.xkcd.com/comics/the_general_problem.png \"I find that when someone's taking time to do something right in the present, they're a perfectionist with no ability to prioritize, whereas when someone took time to do something right in the past, they're a master artisan of great foresight.\")", 
      "From [xkcd](http://www.xkcd.com)", 
      "", 
      "Now that you can write your own functions, you too will experience the dilemma of deciding whether to spend the extra time to make your code more general, and therefore more easily reused in the future."
     ]
    }, 
    {
     "cell_type": "markdown", 
     "source": [
      "# Longer exercise: Reading Cochlear implant into Python", 
      "For this exercise we will return to the cochlear implant data first introduced in the section on the shell. In order to analyse the data, we need to import the data into Python. Furthermore, since this is something that would have to be done many times, we will write a function to do this. As before, beginners should aim to complete Part 1 and more advanced participants should try to complete Part 2 and Part 3 as well."
     ]
    }, 
    {
     "cell_type": "markdown", 
     "source": [
      "## Part 1: View the contents of the file from within Python", 
      "Write a function `view_cochlear` that will open the file and print out each line. The only input to the function should be the name of the file as a string. "
     ]
    }, 
    {
     "cell_type": "code", 
     "collapsed": true, 
     "input": [
      "def view_cochlear(filename):", 
      "    \"\"\"Write your docstring here.", 
      "    \"\"\"", 
      "       "
     ], 
     "language": "python", 
     "outputs": [], 
     "prompt_number": 22
    }, 
    {
     "cell_type": "markdown", 
     "source": [
      "Test it out:"
     ]
    }, 
    {
     "cell_type": "code", 
     "collapsed": true, 
     "input": [
      "view_cochlear('/home/swc/boot-camps/shell/data/alexander/data_216.DATA')"
     ], 
     "language": "python", 
     "outputs": [], 
     "prompt_number": 23
    }, 
    {
     "cell_type": "code", 
     "collapsed": true, 
     "input": [
      "view_cochlear('/home/swc/boot-camps/shell/data/Lawrence/Data0525')"
     ], 
     "language": "python", 
     "outputs": [], 
     "prompt_number": 24
    }, 
    {
     "cell_type": "markdown", 
     "source": [
      "## Part 2: ", 
      "Adapt your function above to exclude the first line using the flow control techniques we learned in the last lesson. The first line is just `#` (but don't forget to remove the `'\\n'`)."
     ]
    }, 
    {
     "cell_type": "code", 
     "collapsed": true, 
     "input": [
      "def view_cochlear(filename):", 
      "    \"\"\"Write your docstring here.", 
      "    \"\"\"", 
      "    "
     ], 
     "language": "python", 
     "outputs": [], 
     "prompt_number": 25
    }, 
    {
     "cell_type": "markdown", 
     "source": [
      "Test it out:"
     ]
    }, 
    {
     "cell_type": "code", 
     "collapsed": true, 
     "input": [
      "view_cochlear('/home/swc/boot-camps/shell/data/alexander/data_216.DATA')"
     ], 
     "language": "python", 
     "outputs": [], 
     "prompt_number": 26
    }, 
    {
     "cell_type": "code", 
     "collapsed": true, 
     "input": [
      "view_cochlear('/home/swc/boot-camps/shell/data/Lawrence/Data0525')"
     ], 
     "language": "python", 
     "outputs": [], 
     "prompt_number": 27
    }, 
    {
     "cell_type": "markdown", 
     "source": [
      "## Part 3:", 
      "Adapt your function above to return a dictionary containing the contents of the file. Split each line of the file by a colon followed by a space (': '). The first half of the string should be the key of the dictionary, and the second half should be the value of the dictionary."
     ]
    }, 
    {
     "cell_type": "code", 
     "collapsed": true, 
     "input": [
      "def save_cochlear(filename):", 
      "    \"\"\"Write your docstring here.", 
      "    \"\"\""
     ], 
     "language": "python", 
     "outputs": [], 
     "prompt_number": 28
    }, 
    {
     "cell_type": "markdown", 
     "source": [
      "Check your work:"
     ]
    }, 
    {
     "cell_type": "code", 
     "collapsed": false, 
     "input": [
      "data_216 = save_cochlear(\"/home/swc/boot-camps/shell/data/alexander/data_216.DATA\")", 
      "print data_216[\"Subject\"]"
     ], 
     "language": "python", 
     "outputs": [
      {
       "ename": "TypeError", 
       "evalue": "'NoneType' object has no attribute '__getitem__'", 
       "output_type": "pyerr", 
       "traceback": [
        "\u001b[0;31m---------------------------------------------------------------------------\u001b[0m\n\u001b[0;31mTypeError\u001b[0m                                 Traceback (most recent call last)", 
        "\u001b[0;32m/home/swc/boot-camps/python/functions_and_modules/<ipython-input-29-bd18e513b51b>\u001b[0m in \u001b[0;36m<module>\u001b[0;34m()\u001b[0m\n\u001b[1;32m      1\u001b[0m \u001b[0mdata_216\u001b[0m \u001b[0;34m=\u001b[0m \u001b[0msave_cochlear\u001b[0m\u001b[0;34m(\u001b[0m\u001b[0;34m\"/home/swc/boot-camps/shell/data/alexander/data_216.DATA\"\u001b[0m\u001b[0;34m)\u001b[0m\u001b[0;34m\u001b[0m\u001b[0m\n\u001b[0;32m----> 2\u001b[0;31m \u001b[0;32mprint\u001b[0m \u001b[0mdata_216\u001b[0m\u001b[0;34m[\u001b[0m\u001b[0;34m\"Subject\"\u001b[0m\u001b[0;34m]\u001b[0m\u001b[0;34m\u001b[0m\u001b[0m\n\u001b[0m", 
        "\u001b[0;31mTypeError\u001b[0m: 'NoneType' object has no attribute '__getitem__'"
       ]
      }
     ], 
     "prompt_number": 29
    }, 
    {
     "cell_type": "code", 
     "collapsed": false, 
     "input": [
      "Data0525 = save_cochlear(\"/home/swc/boot-camps/shell/data/alexander/data_216.DATA\")", 
      "print Data0525[\"CI type\"]"
     ], 
     "language": "python", 
     "outputs": [
      {
       "ename": "TypeError", 
       "evalue": "'NoneType' object has no attribute '__getitem__'", 
       "output_type": "pyerr", 
       "traceback": [
        "\u001b[0;31m---------------------------------------------------------------------------\u001b[0m\n\u001b[0;31mTypeError\u001b[0m                                 Traceback (most recent call last)", 
        "\u001b[0;32m/home/swc/boot-camps/python/functions_and_modules/<ipython-input-30-c18e8bfe5ac5>\u001b[0m in \u001b[0;36m<module>\u001b[0;34m()\u001b[0m\n\u001b[1;32m      1\u001b[0m \u001b[0mData0525\u001b[0m \u001b[0;34m=\u001b[0m \u001b[0msave_cochlear\u001b[0m\u001b[0;34m(\u001b[0m\u001b[0;34m\"/home/swc/boot-camps/shell/data/alexander/data_216.DATA\"\u001b[0m\u001b[0;34m)\u001b[0m\u001b[0;34m\u001b[0m\u001b[0m\n\u001b[0;32m----> 2\u001b[0;31m \u001b[0;32mprint\u001b[0m \u001b[0mData0525\u001b[0m\u001b[0;34m[\u001b[0m\u001b[0;34m\"CI type\"\u001b[0m\u001b[0;34m]\u001b[0m\u001b[0;34m\u001b[0m\u001b[0m\n\u001b[0m", 
        "\u001b[0;31mTypeError\u001b[0m: 'NoneType' object has no attribute '__getitem__'"
       ]
      }
     ], 
     "prompt_number": 30
    }, 
    {
     "cell_type": "markdown", 
     "source": [
      "# Bonus Exercise: Transcribe DNA to RNA", 
      "### Motivation:", 
      "During transcription, an enzyme called RNA Polymerase reads the DNA sequence and creates a complementary RNA sequence. Furthermore, RNA has the nucleotide uracil (U) instead of thymine (T). ", 
      "### Task:", 
      "Write a function that mimics transcription. The input argument is a string that contains the letters A, T, G, and C. Create a new string following these rules: ", 
      "", 
      "* Convert A to U", 
      "", 
      "* Convert T to A", 
      "", 
      "* Convert G to C", 
      "", 
      "* Convert C to G", 
      "", 
      "Hint: You can iterate through a string using a for loop similary to how you loop through a list."
     ]
    }, 
    {
     "cell_type": "code", 
     "collapsed": true, 
     "input": [
      "def transcribe(seq):", 
      "    \"\"\"Write your docstring here.", 
      "    \"\"\""
     ], 
     "language": "python", 
     "outputs": [], 
     "prompt_number": 1
    }, 
    {
     "cell_type": "markdown", 
     "source": [
      "Check your work:"
     ]
    }, 
    {
     "cell_type": "code", 
     "collapsed": true, 
     "input": [
      "transcribe('ATGC') == 'UACG'"
     ], 
     "language": "python", 
     "outputs": [], 
     "prompt_number": 1
    }, 
    {
     "cell_type": "code", 
     "collapsed": true, 
     "input": [
      "transcribe('ATGCAGTCAGTGCAGTCAGT') == 'UACGUCAGUCACGUCAGUCA'"
     ], 
     "language": "python", 
     "outputs": [], 
     "prompt_number": 6
    }
   ]
  }
 ]
}
