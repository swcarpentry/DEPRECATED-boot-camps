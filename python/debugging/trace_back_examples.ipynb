{
 "metadata": {
  "name": "trace_back_examples"
 },
 "nbformat": 3,
 "nbformat_minor": 0,
 "worksheets": [
  {
   "cells": [
    {
     "cell_type": "markdown",
     "metadata": {},
     "source": [
      "#Types of Errors and Exceptions and Try and Except"
     ]
    },
    {
     "cell_type": "code",
     "collapsed": false,
     "input": [
      "#TypeError\n",
      "print 's'/3.0"
     ],
     "language": "python",
     "metadata": {},
     "outputs": []
    },
    {
     "cell_type": "code",
     "collapsed": false,
     "input": [
      "#ZeroDivisionError\n",
      "print 5.0/0.0"
     ],
     "language": "python",
     "metadata": {},
     "outputs": []
    },
    {
     "cell_type": "code",
     "collapsed": false,
     "input": [
      "#NameError\n",
      "print flux"
     ],
     "language": "python",
     "metadata": {},
     "outputs": []
    },
    {
     "cell_type": "code",
     "collapsed": false,
     "input": [
      "#Syntax Error\n",
      "print, 'a'"
     ],
     "language": "python",
     "metadata": {},
     "outputs": []
    },
    {
     "cell_type": "code",
     "collapsed": false,
     "input": [
      "#ValueError\n",
      "a,b = 's'"
     ],
     "language": "python",
     "metadata": {},
     "outputs": []
    },
    {
     "cell_type": "code",
     "collapsed": false,
     "input": [
      "#If you expect an error try and except\n",
      "l = ['a1', 'b2', 'c0', 'd3', 'ee', 'f5']\n",
      "for pair in l:\n",
      "    n, m = pair\n",
      "    x =  5.0/float(m)\n",
      "\n"
     ],
     "language": "python",
     "metadata": {},
     "outputs": []
    },
    {
     "cell_type": "code",
     "collapsed": false,
     "input": [
      "#If you expect an error try and except\n",
      "l = ['a1', 'b2', 'c0', 'd3', 'ee', 'f5']\n",
      "for pair in l:\n",
      "    try:\n",
      "        n, m = pairs\n",
      "        x = 5.0/float(m)\n",
      "    except:\n",
      "        print 'exception for '+ pair"
     ],
     "language": "python",
     "metadata": {},
     "outputs": []
    },
    {
     "cell_type": "code",
     "collapsed": false,
     "input": [
      "l = ['a1', 'b2', 'c0', 'd3', 'ee', 'f5']\n",
      "for pair in l:\n",
      "    try:\n",
      "        n, m = pair\n",
      "        x = 5.0/float(m)\n",
      "    except ZeroDivisionError:\n",
      "        print 'exception for '+ pair"
     ],
     "language": "python",
     "metadata": {},
     "outputs": []
    },
    {
     "cell_type": "code",
     "collapsed": false,
     "input": [
      "l = ['a1', 'b2', 'c0', 'd3', 'ee', 'f5']\n",
      "for pair in l:\n",
      "    try:\n",
      "        n, m = pair\n",
      "        x = 5.0/float(m)\n",
      "    except (ZeroDivisionError, ValueError):\n",
      "        print 'exception for '+ pair"
     ],
     "language": "python",
     "metadata": {},
     "outputs": []
    },
    {
     "cell_type": "code",
     "collapsed": false,
     "input": [
      "#Exercise:\n",
      "#fix the following snippit of code:\n",
      "l = ['a4', ['b', 2], ['c', 'c'], 'd4', '0e']\n",
      "for pair in l:\n",
      "    n, m = pair\n",
      "    x = n*int(m)"
     ],
     "language": "python",
     "metadata": {},
     "outputs": []
    },
    {
     "cell_type": "code",
     "collapsed": false,
     "input": [
      "#Exercise:\n",
      "#fix the following snippit of code:\n",
      "l = ['a4', ['b', 2], ['c', 'c'], 'd4', '0f']\n",
      "for pair in l:\n",
      "    n, m = pair\n",
      "    try:\n",
      "        x = n*int(m)\n",
      "    except ValueError:\n",
      "        print 'skipped ', n, m"
     ],
     "language": "python",
     "metadata": {},
     "outputs": []
    },
    {
     "cell_type": "markdown",
     "metadata": {},
     "source": [
      "#Tracebacks"
     ]
    },
    {
     "cell_type": "code",
     "collapsed": false,
     "input": [
      "def add_two(x):\n",
      "    return x+2.0\n",
      "\n",
      "def multiply_by_5(x):\n",
      "    return x*5.0\n",
      "\n",
      "def divide_by_4(x):\n",
      "    return x/4.0\n",
      "\n",
      "def run_equation(x):\n",
      "    return add_two(divide_by_4(multiply_by_5(x)))"
     ],
     "language": "python",
     "metadata": {},
     "outputs": []
    },
    {
     "cell_type": "code",
     "collapsed": false,
     "input": [
      "run_equation(3)"
     ],
     "language": "python",
     "metadata": {},
     "outputs": []
    },
    {
     "cell_type": "code",
     "collapsed": false,
     "input": [
      "run_equation(5.5)"
     ],
     "language": "python",
     "metadata": {},
     "outputs": []
    },
    {
     "cell_type": "code",
     "collapsed": false,
     "input": [
      "run_equation([1,2])"
     ],
     "language": "python",
     "metadata": {},
     "outputs": []
    },
    {
     "cell_type": "code",
     "collapsed": false,
     "input": [
      "#Exercise:\n",
      "#Where is the following statement erroring and why?\n",
      "run_equation('s')"
     ],
     "language": "python",
     "metadata": {},
     "outputs": []
    },
    {
     "cell_type": "code",
     "collapsed": false,
     "input": [
      "#What if there is no traceback?"
     ],
     "language": "python",
     "metadata": {},
     "outputs": []
    },
    {
     "cell_type": "code",
     "collapsed": false,
     "input": [
      "#pdb.set_trace()\n",
      "import numpy as np\n",
      "def find_where_1(x):\n",
      "    indx = np.where(x == 1)\n",
      "    mx = 5.0*x[indx] + 3.0\n",
      "    return mx"
     ],
     "language": "python",
     "metadata": {},
     "outputs": []
    },
    {
     "cell_type": "code",
     "collapsed": false,
     "input": [
      "n = [1, 2, 3, 1, 4, 1, 5]\n",
      "indx = find_where_1(n)"
     ],
     "language": "python",
     "metadata": {},
     "outputs": []
    },
    {
     "cell_type": "code",
     "collapsed": false,
     "input": [
      "#pdb.set_trace()\n",
      "import pdb\n",
      "def find_where_1(x):\n",
      "    pdb.set_trace()\n",
      "    indx = np.where(x == 1)\n",
      "    mx = 5.0*x[indx] + 3.0\n",
      "    return mx"
     ],
     "language": "python",
     "metadata": {},
     "outputs": []
    },
    {
     "cell_type": "code",
     "collapsed": false,
     "input": [
      "y = find_where_1(n)\n",
      "#in pdb\n",
      "print indx\n",
      "print type(x)\n",
      "x = np.array(x)\n",
      "indx = np.where(x == 1)\n",
      "cont\n",
      "\n"
     ],
     "language": "python",
     "metadata": {},
     "outputs": []
    },
    {
     "cell_type": "code",
     "collapsed": false,
     "input": [
      "def pdb_exercise(x, y, z):\n",
      "    a = [x, y, z]\n",
      "    b = array(x, y, z)\n",
      "    c = {'m':x, 'n':y, 'p':z}\n",
      "    \n",
      "    \n",
      "#Fix the above function\n",
      "    "
     ],
     "language": "python",
     "metadata": {},
     "outputs": []
    },
    {
     "cell_type": "code",
     "collapsed": false,
     "input": [
      "pdb_exercise('s', 3, 1)\n"
     ],
     "language": "python",
     "metadata": {},
     "outputs": []
    },
    {
     "cell_type": "code",
     "collapsed": false,
     "input": [],
     "language": "python",
     "metadata": {},
     "outputs": []
    }
   ],
   "metadata": {}
  }
 ]
}