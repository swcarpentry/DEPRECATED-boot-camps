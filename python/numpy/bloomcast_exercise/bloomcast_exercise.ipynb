{
 "metadata": {
  "name": "bloomcast_exercise"
 },
 "nbformat": 3,
 "nbformat_minor": 0,
 "worksheets": [
  {
   "cells": [
    {
     "cell_type": "markdown",
     "metadata": {},
     "source": [
      "# NumPy Exercise #\n",
      "\n",
      "Calculate the date of the 1st spring phytoplankton bloom in the Strait of Georgia that is predicted by a recent SOG [1] model run\n",
      "\n",
      "[1] http://www.eos.ubc.ca/~sallen/SOG-docs/\n",
      "\n",
      "From Allen and Wolfe [2]:\n",
      "\n",
      ">Although the idea of a spring bloom is well-defined, the exact\n",
      "timing of a real spring bloom is not.  In C09 the peak of the\n",
      "bloom was defined as the highest concentration of phytoplankton\n",
      "unless an earlier bloom (more than 5 days earlier) was associated\n",
      "with nitrate going to zero.  J.Gower using satellite data chooses\n",
      "a measure of the start of the bloom as the time when the whole\n",
      "Strait of Georgia has high chlorophyll.  The nutritional quality\n",
      "of the phytoplankton appears to change when they become nutrient\n",
      "limited \\citep{SastriDower2009}.  Thus here we use a definition\n",
      "that should delineate between nutrient replete spring conditions\n",
      "and nutrient stressed summer conditions.  **We use the peak\n",
      "phytoplankton concentration (averaged from the surface to 3 m\n",
      "depth) within four days of the average 0-3 m nitrate concentration\n",
      "going below 0.5 $\\mu$M (the half-saturation concentration) for two\n",
      "consecutive days.**\n",
      "\n",
      "[2] Allen, S. E. and M. A. Wolfe, in press. Hindcast of the Timing of the Spring Phytoplankton Bloom in the Strait of Georgia, 1968-2010. Prog. Oceanogr. Accepted for publication March 2012.\n",
      "\n",
      "What we've got to work with:\n",
      "\n",
      "* A timeseries output file from SOG: `std_bio_2013_bloomcast.out`\n",
      "* Python, NumPy\n",
      "* Software Carpentry skills :-)\n",
      "\n",
      "Steps:\n",
      "\n",
      "* Examine `std_bio_2013_bloomcast.out` and figure out how to read the 0-3 m average nitrate and phytoplankton concentration results as well as the time-stamps into `numpy.ndarray()`-based data structures that you can work on\n",
      "\n",
      "* Discard the results before 1-Jan\n",
      "\n",
      "* Reduce the results to daily values; minimum for nitrate, maximum for phytoplankton\n",
      "\n",
      "* Find the start and end dates of the first 2 day period in which the nitrate concentration is below the 0.5 $\\mu$M threshold\n",
      "\n",
      "* Find the date within 4 days of the first low nitrate period when the phytoplankton concentration is greatest\n"
     ]
    },
    {
     "cell_type": "code",
     "collapsed": false,
     "input": [],
     "language": "python",
     "metadata": {},
     "outputs": [],
     "prompt_number": 153
    }
   ],
   "metadata": {}
  }
 ]
}