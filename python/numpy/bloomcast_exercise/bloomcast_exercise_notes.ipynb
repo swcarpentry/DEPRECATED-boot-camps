{
 "metadata": {
  "name": "numpy_bloomcast_example"
 },
 "nbformat": 3,
 "nbformat_minor": 0,
 "worksheets": [
  {
   "cells": [
    {
     "cell_type": "markdown",
     "metadata": {},
     "source": [
      "# NumPy Exercise #\n",
      "\n",
      "Calculate the date of the 1st spring phytoplankton bloom in the Strait of Georgia that is predicted by a recent SOG [1] model run\n",
      "\n",
      "[1] http://www.eos.ubc.ca/~sallen/SOG-docs/\n",
      "\n",
      "From Allen and Wolfe [2]:\n",
      "\n",
      ">Although the idea of a spring bloom is well-defined, the exact\n",
      "timing of a real spring bloom is not.  In C09 the peak of the\n",
      "bloom was defined as the highest concentration of phytoplankton\n",
      "unless an earlier bloom (more than 5 days earlier) was associated\n",
      "with nitrate going to zero.  J.Gower using satellite data chooses\n",
      "a measure of the start of the bloom as the time when the whole\n",
      "Strait of Georgia has high chlorophyll.  The nutritional quality\n",
      "of the phytoplankton appears to change when they become nutrient\n",
      "limited \\citep{SastriDower2009}.  Thus here we use a definition\n",
      "that should delineate between nutrient replete spring conditions\n",
      "and nutrient stressed summer conditions.  **We use the peak\n",
      "phytoplankton concentration (averaged from the surface to 3 m\n",
      "depth) within four days of the average 0-3 m nitrate concentration\n",
      "going below 0.5 $\\mu$M (the half-saturation concentration) for two\n",
      "consecutive days.**\n",
      "\n",
      "[2] Allen, S. E. and M. A. Wolfe, in press. Hindcast of the Timing of the Spring Phytoplankton Bloom in the Strait of Georgia, 1968-2010. Prog. Oceanogr. Accepted for publication March 2012.\n",
      "\n",
      "What we've got to work with:\n",
      "\n",
      "* An timeseries output file from SOG: `std_bio_2013_bloomcast.out`\n",
      "* Python, NumPy\n",
      "* Software Carpentry skills :-)\n",
      "\n",
      "Suggestions:\n",
      "\n",
      "* Examine `std_bio_2013_bloomcast.out` and figure out how to read the 0-3 m average nitrate and phytoplankton concentration results as well as the time-stamps into `numpy.ndarray()`-based data structures that you can work on\n",
      "\n",
      "* Discard the results before 1-Jan\n",
      "\n",
      "* Reduce the results to daily values; minimum for nitrate, maximum for phytoplankton\n",
      "\n",
      "* Find the start and end dates of the first 2 day period in which the nitrate concentration is below the 0.5 $\\mu$M threshold\n",
      "\n",
      "* Find the date within 4 days of the first low nitrate period when the phytoplankton concentration is greatest\n",
      "\n",
      "For bonus points: use Matplotlib to create a graph of the nitrate and phytoplankton concentration timeseries and mark the date of the spring bloom on it."
     ]
    },
    {
     "cell_type": "markdown",
     "metadata": {},
     "source": [
      "## Model Results -> NumPy Arrays"
     ]
    },
    {
     "cell_type": "code",
     "collapsed": false,
     "input": [
      "!head -15 std_bio_2013_bloomcast.out"
     ],
     "language": "python",
     "metadata": {},
     "outputs": [
      {
       "output_type": "stream",
       "stream": "stdout",
       "text": [
        "! SOG code standard time series output from biology model\r\n",
        "! Time series of nitrate, ammonium, & silicon concentration; and \r\n",
        "! phytoplankton (micro & nano & pico) & microzooplankton biomass, \r\n",
        "! at surface, and averaged over top 3 m of water column; \r\n",
        "! and detritus (DON, PON, refractory N, and biogenic Si) at 20 m depth.\r\n",
        "*RunDateTime: 2013-02-21 07:02:36\r\n",
        "*InitialCTDDateTime: 2012-09-19 18:49:00\r\n",
        "*FieldNames: time, surface nitrate concentration, 3 m avg nitrate concentration, surface ammonium concentration, 3 m avg ammonium concentration, surface silicon concentration, 3 m avg silicon concentration, surface micro phytoplankton biomass, 3 m avg micro phytoplankton biomass, surface nano phytoplankton biomass, 3 m avg nano phytoplankton biomass, surface pico phytoplankton biomass, 3 m avg pico phytoplankton biomass, surface micro zooplankton biomass, 3 m avg micro zooplankton biomass, DON detritus at 20 m, PON detritus at 20 m, refractory N detritus at 20 m, biogenic Si detritus at 20 m\r\n",
        "*FieldUnits: hr since 2012-09-19 00:00:00 LST, uM N, uM N, uM N, uM N, uM, uM, uM N, uM N, uM N, uM N, uM N, uM N, uM N, uM N, uM N, uM N, uM N, uM\r\n",
        "*EndOfHeader\r\n",
        "   18.8167    3.1034    3.2094    0.0006    0.0008   33.4970   33.4028    2.8761    2.8815    0.0000    0.0000    0.0000    0.0000    0.0000    0.0000    0.0000    0.0007    0.0000    0.0007\r\n",
        "   19.0667    3.1064    3.2112    0.0000    0.0000   33.4943   33.4012    2.8595    2.8685    0.0000    0.0000    0.0000    0.0000    0.0000    0.0000    0.0000    0.0000    0.0000    0.0000\r\n",
        "   19.3167    3.1089    3.2130    0.0000    0.0000   33.4921   33.3996    2.8436    2.8554    0.0000    0.0000    0.0000    0.0000    0.0000    0.0000    0.0000    0.0000    0.0000    0.0000\r\n",
        "   19.5667    3.1112    3.2149    0.0000    0.0000   33.4900   33.3981    2.8280    2.8425    0.0000    0.0000    0.0000    0.0000    0.0000    0.0000    0.0000    0.0000    0.0000    0.0000\r\n",
        "   19.8167    3.1134    3.2167    0.0000    0.0000   33.4881   33.3966    2.8127    2.8296    0.0000    0.0000    0.0000    0.0000    0.0000    0.0000    0.0000    0.0000    0.0000    0.0000\r\n"
       ]
      }
     ],
     "prompt_number": 140
    },
    {
     "cell_type": "code",
     "collapsed": false,
     "input": [
      "from datetime import datetime\n",
      "with open('std_bio_2013_bloomcast.out', 'rt') as f:\n",
      "    for line in f:\n",
      "        line = line.strip()\n",
      "        if line.startswith('*FieldNames:'):\n",
      "            field_names = line.split(': ', 1)[1].split(', ')\n",
      "        if line.startswith('*InitialCTDDateTime'):\n",
      "            run_start_date = datetime.strptime(line.split(': ', 1)[1], '%Y-%m-%d %H:%M:%S')\n",
      "        if line.startswith('*EndOfHeader'):\n",
      "            break\n",
      "    time_col = field_names.index('time')\n",
      "    nitrate_col = field_names.index('3 m avg nitrate concentration')\n",
      "    phytos_col = field_names.index('3 m avg micro phytoplankton biomass')\n",
      "    timestamps, nitrate, phytos = [], [], []\n",
      "    for line in f:\n",
      "        timestamps.append(float(line.split()[time_col]))\n",
      "        nitrate.append(float(line.split()[nitrate_col]))\n",
      "        phytos.append(float(line.split()[phytos_col]))"
     ],
     "language": "python",
     "metadata": {},
     "outputs": [],
     "prompt_number": 141
    },
    {
     "cell_type": "code",
     "collapsed": false,
     "input": [
      "field_names"
     ],
     "language": "python",
     "metadata": {},
     "outputs": [
      {
       "output_type": "pyout",
       "prompt_number": 154,
       "text": [
        "['time',\n",
        " 'surface nitrate concentration',\n",
        " '3 m avg nitrate concentration',\n",
        " 'surface ammonium concentration',\n",
        " '3 m avg ammonium concentration',\n",
        " 'surface silicon concentration',\n",
        " '3 m avg silicon concentration',\n",
        " 'surface micro phytoplankton biomass',\n",
        " '3 m avg micro phytoplankton biomass',\n",
        " 'surface nano phytoplankton biomass',\n",
        " '3 m avg nano phytoplankton biomass',\n",
        " 'surface pico phytoplankton biomass',\n",
        " '3 m avg pico phytoplankton biomass',\n",
        " 'surface micro zooplankton biomass',\n",
        " '3 m avg micro zooplankton biomass',\n",
        " 'DON detritus at 20 m',\n",
        " 'PON detritus at 20 m',\n",
        " 'refractory N detritus at 20 m',\n",
        " 'biogenic Si detritus at 20 m']"
       ]
      }
     ],
     "prompt_number": 154
    },
    {
     "cell_type": "code",
     "collapsed": false,
     "input": [
      "run_start_date"
     ],
     "language": "python",
     "metadata": {},
     "outputs": [
      {
       "output_type": "pyout",
       "prompt_number": 156,
       "text": [
        "datetime.datetime(2012, 9, 19, 18, 49)"
       ]
      }
     ],
     "prompt_number": 156
    },
    {
     "cell_type": "code",
     "collapsed": false,
     "input": [
      "timestamps[0:4]"
     ],
     "language": "python",
     "metadata": {},
     "outputs": [
      {
       "output_type": "pyout",
       "prompt_number": 143,
       "text": [
        "[18.8167, 19.0667, 19.3167, 19.5667]"
       ]
      }
     ],
     "prompt_number": 143
    },
    {
     "cell_type": "code",
     "collapsed": false,
     "input": [
      "import numpy as np\n",
      "timestamps = np.array(timestamps)\n",
      "nitrate = np.array(nitrate)\n",
      "phytos = np.array(phytos)"
     ],
     "language": "python",
     "metadata": {},
     "outputs": [],
     "prompt_number": 144
    },
    {
     "cell_type": "code",
     "collapsed": false,
     "input": [
      "phytos.size"
     ],
     "language": "python",
     "metadata": {},
     "outputs": [
      {
       "output_type": "pyout",
       "prompt_number": 145,
       "text": [
        "21433"
       ]
      }
     ],
     "prompt_number": 145
    },
    {
     "cell_type": "markdown",
     "metadata": {},
     "source": [
      "## Discard Results Earlier Than 1-Jan"
     ]
    },
    {
     "cell_type": "code",
     "collapsed": false,
     "input": [
      "from __future__ import division\n",
      "jan1 = datetime(2013, 1, 1)\n",
      "discard_hours = jan1 - run_start_date\n",
      "discard_hours = discard_hours.days * 24 + discard_hours.seconds / 3600\n",
      "discard_hours"
     ],
     "language": "python",
     "metadata": {},
     "outputs": [
      {
       "output_type": "pyout",
       "prompt_number": 146,
       "text": [
        "2477.1833333333334"
       ]
      }
     ],
     "prompt_number": 146
    },
    {
     "cell_type": "code",
     "collapsed": false,
     "input": [
      "condition = timestamps >= discard_hours\n",
      "timestamps = timestamps[condition]\n",
      "nitrate = nitrate[condition]\n",
      "phytos = phytos[condition]"
     ],
     "language": "python",
     "metadata": {},
     "outputs": [],
     "prompt_number": 147
    },
    {
     "cell_type": "code",
     "collapsed": false,
     "input": [
      "phytos.size"
     ],
     "language": "python",
     "metadata": {},
     "outputs": [
      {
       "output_type": "pyout",
       "prompt_number": 148,
       "text": [
        "11599"
       ]
      }
     ],
     "prompt_number": 148
    },
    {
     "cell_type": "markdown",
     "metadata": {},
     "source": [
      "## Reduce Results to Daily Values"
     ]
    },
    {
     "cell_type": "code",
     "collapsed": false,
     "input": [
      "from datetime import date, timedelta\n",
      "timestep = timestamps[1] - timestamps[0]\n",
      "day_slice = int(24 / timestep)\n",
      "day_iterator = xrange(0, timestamps.size - day_slice, day_slice)\n",
      "daily_min_nitrate = np.array([nitrate[i:i + day_slice].min() for i in day_iterator])\n",
      "daily_max_phytos = np.array([phytos[i:i + day_slice].max() for i in day_iterator])\n",
      "jan1 = date(2013, 1, 1)\n",
      "daily_timestamps = np.array([jan1 + timedelta(days=i) for i in xrange(daily_min_nitrate.size)])"
     ],
     "language": "python",
     "metadata": {},
     "outputs": [],
     "prompt_number": 149
    },
    {
     "cell_type": "code",
     "collapsed": false,
     "input": [
      "daily_max_phytos.size"
     ],
     "language": "python",
     "metadata": {},
     "outputs": [
      {
       "output_type": "pyout",
       "prompt_number": 150,
       "text": [
        "120"
       ]
      }
     ],
     "prompt_number": 150
    },
    {
     "cell_type": "markdown",
     "metadata": {},
     "source": [
      "## Find 1st 2 Day Period with <= 0.5 $\\mu$M Nitrate"
     ]
    },
    {
     "cell_type": "code",
     "collapsed": false,
     "input": [
      "condition = daily_min_nitrate <= 0.5\n",
      "low_nitrate = daily_min_nitrate[condition]\n",
      "low_nitrate_days = daily_timestamps[condition]\n",
      "for i in xrange(low_nitrate.size):\n",
      "    low_nitrate_day_1 = low_nitrate_days[i]\n",
      "    days = low_nitrate_days[i + 1] - low_nitrate_day_1\n",
      "    if days == timedelta(days=1):\n",
      "        low_nitrate_day_2 = low_nitrate_days[i + 1]\n",
      "        break\n",
      "low_nitrate_day_1, low_nitrate_day_2"
     ],
     "language": "python",
     "metadata": {},
     "outputs": [
      {
       "output_type": "pyout",
       "prompt_number": 151,
       "text": [
        "(datetime.date(2013, 3, 31), datetime.date(2013, 4, 1))"
       ]
      }
     ],
     "prompt_number": 151
    },
    {
     "cell_type": "markdown",
     "metadata": {},
     "source": [
      "## Find Phytoplankton Peak"
     ]
    },
    {
     "cell_type": "code",
     "collapsed": false,
     "input": [
      "half_width_days = timedelta(days=4)\n",
      "early_bloom_date = low_nitrate_day_1 - half_width_days\n",
      "late_bloom_date = low_nitrate_day_2 + half_width_days\n",
      "bloom_window = daily_timestamps[daily_timestamps >= early_bloom_date]\n",
      "max_phytos_window = daily_max_phytos[daily_timestamps >= early_bloom_date]\n",
      "bloom_window = bloom_window[bloom_window <= late_bloom_date]\n",
      "max_phytos_window = max_phytos_window[bloom_window <= late_bloom_date]\n",
      "bloom_window, max_phytos_window"
     ],
     "language": "python",
     "metadata": {},
     "outputs": [
      {
       "output_type": "pyout",
       "prompt_number": 152,
       "text": [
        "(array([2013-03-27, 2013-03-28, 2013-03-29, 2013-03-30, 2013-03-31,\n",
        "       2013-04-01, 2013-04-02, 2013-04-03, 2013-04-04, 2013-04-05], dtype=object),\n",
        " array([ 15.8882,  16.0312,  15.5562,  15.5863,  15.9345,  15.083 ,\n",
        "        13.397 ,  12.7365,  12.8758,  12.5592]))"
       ]
      }
     ],
     "prompt_number": 152
    },
    {
     "cell_type": "code",
     "collapsed": false,
     "input": [
      "bloom_date_index = max_phytos_window.argmax()\n",
      "bloom_date = bloom_window[bloom_date_index]\n",
      "bloom_phytos = max_phytos_window[bloom_date_index]\n",
      "bloom_date, bloom_phytos"
     ],
     "language": "python",
     "metadata": {},
     "outputs": [
      {
       "output_type": "pyout",
       "prompt_number": 153,
       "text": [
        "(datetime.date(2013, 3, 28), 16.031199999999998)"
       ]
      }
     ],
     "prompt_number": 153
    },
    {
     "cell_type": "code",
     "collapsed": false,
     "input": [],
     "language": "python",
     "metadata": {},
     "outputs": [],
     "prompt_number": 153
    }
   ],
   "metadata": {}
  }
 ]
}