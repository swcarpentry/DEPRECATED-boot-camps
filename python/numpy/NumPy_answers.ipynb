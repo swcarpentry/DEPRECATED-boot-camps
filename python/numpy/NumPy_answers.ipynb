{
 "metadata": {
  "name": "NumPy"
 },
 "nbformat": 3,
 "nbformat_minor": 0,
 "worksheets": [
  {
   "cells": [
    {
     "cell_type": "markdown",
     "metadata": {},
     "source": [
      "NumPy: Typed n-dimensional arrays in Python\n",
      "===========================================\n",
      "**Presented by : Matt Terry**\n",
      "    \n",
      "**Based on prior lecture materials with extensive updating by Katy Huff and others**\n",
      "\n",
      "This class will cover a broad overview of NumPy with brief illustrative examples geared towards getting people familiar with the basic use cases. Since NumPy has many advanced features that may be useful to experienced programmers, these notes will occasionally link to more advanced examples that readers can peruse on their own time."
     ]
    },
    {
     "cell_type": "code",
     "collapsed": false,
     "input": [
      "import numpy as np"
     ],
     "language": "python",
     "metadata": {},
     "outputs": []
    },
    {
     "cell_type": "markdown",
     "metadata": {},
     "source": [
      "What is NumPy?\n",
      "--------------\n",
      "\n",
      "NumPy is a Python package implementing efficient collections of specific\n",
      "types of data (generally numerical), similar to the standard array\n",
      "module (but with many more features). NumPy arrays differ from lists and\n",
      "tuples in that the data is contiguous in memory. A Python **list**, \n",
      "```[0, 1, 2]```, in contrast, is actually an array of pointers to Python\n",
      "objects representing each number. This allows NumPy arrays to be\n",
      "considerably faster for numerical operations than Python lists/tuples.\n",
      "\n"
     ]
    },
    {
     "cell_type": "markdown",
     "metadata": {},
     "source": [
      "Creating NumPy Arrays\n",
      "---------------------\n",
      "\n",
      "Creating a NumPy array is as simple as passing a sequence to\n",
      "<code>numpy.array</code>. You can also explicitly specify the data-type if the\n",
      "automatically-chosen one would be unsuitable."
     ]
    },
    {
     "cell_type": "code",
     "collapsed": false,
     "input": [
      "A = np.array([1, 2.3, 4])\n",
      "print A\n",
      "\n",
      "print A.dtype\n",
      "\n",
      "B = np.array([2, 2.3, 4], dtype=int)\n",
      "print B.dtype"
     ],
     "language": "python",
     "metadata": {},
     "outputs": []
    },
    {
     "cell_type": "markdown",
     "metadata": {},
     "source": [
      "As you might expect, creating a NumPy array from a Python list can be slow, since\n",
      "it must manually convert each element of a list into its equivalent C\n",
      "type (int objects become C ints, etc). There are many other ways to\n",
      "create NumPy arrays, such as <code>numpy.identity</code>, <code>numpy.zeros</code>,\n",
      "<code>numpy.zeros\\_like</code>, or <code>numpy.empty</code>.\n",
      "\n",
      "## Exercise: Array creation\n",
      "\n",
      "Create the 8 element array \"A\" of 1's.  Create another array with the same shape, but composed of 0's. Do not use the <code>zeros</code> function. "
     ]
    },
    {
     "cell_type": "code",
     "collapsed": false,
     "input": [
      "A = np.ones(8)\n",
      "B = np.zeros_like(A)"
     ],
     "language": "python",
     "metadata": {},
     "outputs": []
    },
    {
     "cell_type": "markdown",
     "metadata": {},
     "source": [
      "For many of the examples below, we will be using <code>numpy.arange</code> which,\n",
      "similar to the Python built-in function <code>range</code>, returns a NumPy array\n",
      "of integers from 0 to N-1, inclusive. Like <code>range</code>, you can also\n",
      "specify a starting value and a step."
     ]
    },
    {
     "cell_type": "code",
     "collapsed": false,
     "input": [
      "print np.arange(2, 5)"
     ],
     "language": "python",
     "metadata": {},
     "outputs": []
    },
    {
     "cell_type": "markdown",
     "metadata": {},
     "source": [
      "### Exercise : Create an Array\n",
      "\n",
      "Create a NumPy array with values ranging from 0 to 10, in increments of 0.5. Don't forget to use help() to find useful functions!\n",
      "\n",
      "<font size=\"1.5\">If you're having trouble navigating the large NumPy namespace you can take a look at the NumPy [array creation documentation](http://docs.scipy.org/doc/numpy/reference/routines.array-creation.html).</font>"
     ]
    },
    {
     "cell_type": "code",
     "collapsed": false,
     "input": [
      "x = np.arange(0, 10.1, 0.5)\n",
      "print x"
     ],
     "language": "python",
     "metadata": {},
     "outputs": []
    },
    {
     "cell_type": "markdown",
     "metadata": {},
     "source": [
      "Data types\n",
      "-----------\n",
      "\n",
      "When creating a NumPy array, you supply a dtype (\"data type\"), or one is chosen for you. There are a total of 21 different array scalar types, which can be used to specify the dtype. In addition to the scalar type, you may also specify byte order (little- or big-endian) or even multiple scalar types to be used as a light-weight tuple (similar to a C struct). For everyday use, however, you can just pass in the appropriate scalar type and NumPy will figure it out. Some common scalar types include:\n",
      "\n",
      "    int     # Python-compatible int (usually a C long)\n",
      "    int64   # 64 bit int\n",
      "    float   # Python-compatible float (usually a C double)\n",
      "    single  # C float\n",
      "    double  # C double\n",
      "    complex # Python-compatible complex"
     ]
    },
    {
     "cell_type": "code",
     "collapsed": false,
     "input": [],
     "language": "python",
     "metadata": {},
     "outputs": []
    },
    {
     "cell_type": "markdown",
     "metadata": {},
     "source": [
      "List operations\n",
      "---------------\n",
      "\n",
      "For basic operations, NumPy arrays can be accessed just like Python\n",
      "lists and tuples. This means that you can use the square brackets to\n",
      "access elements, **len()** to access the size of the array, and so on."
     ]
    },
    {
     "cell_type": "code",
     "collapsed": false,
     "input": [
      "A = np.arange(5)\n",
      "print A\n",
      "print A[3]\n",
      "A[3] = 42\n",
      "print A\n",
      "print len(A)"
     ],
     "language": "python",
     "metadata": {},
     "outputs": []
    },
    {
     "cell_type": "markdown",
     "metadata": {},
     "source": [
      "Arithmetic\n",
      "----------\n",
      "\n",
      "Since NumPy exists to perform efficient numerical operations in Python,\n",
      "it stands to reason that NumPy arrays have all the usual arithmetic\n",
      "operations available to them. These operations are performed\n",
      "**element-wise** (i.e. the same operation is performed independently on each\n",
      "element of the array).\n",
      "\n",
      "## Exercise: Addition\n",
      "\n",
      "Create an array <code>C</code> where each element is the sum of the corresponding elements of <code>A</code> and <code>B</code>.\n",
      "\n",
      "Substract them.\n",
      "\n",
      "Multiply them.\n",
      "\n",
      "Add 4 to each element of A.\n",
      "\n",
      "Multiply each element of B by 3.14159."
     ]
    },
    {
     "cell_type": "code",
     "collapsed": false,
     "input": [
      "A = np.arange(5)\n",
      "B = np.arange(5, 10)\n",
      "\n",
      "\n",
      "print A, B\n",
      "\n",
      "print A+B\n",
      "print B-A\n",
      "print A*B\n",
      "print ''\n",
      "print 4 + A\n",
      "print 3.14159 * B"
     ],
     "language": "python",
     "metadata": {},
     "outputs": []
    },
    {
     "cell_type": "markdown",
     "metadata": {},
     "source": [
      "In addition, if one of the arguments is a scalar, that value will be\n",
      "applied to all the elements of the array."
     ]
    },
    {
     "cell_type": "code",
     "collapsed": false,
     "input": [
      "print 2*A\n",
      "print A**2\n",
      "print A+10"
     ],
     "language": "python",
     "metadata": {},
     "outputs": []
    },
    {
     "cell_type": "markdown",
     "metadata": {},
     "source": [
      "Comparison\n",
      "----------\n",
      "\n",
      "Much like the basic arithmetic operations we discussed above, comparison\n",
      "operations are perfomed element-wise. That is, rather than returning a\n",
      "single boolean, comparison operators compare each element in both arrays\n",
      "pairwise, and return an **array** of booleans (if the sizes of the input\n",
      "arrays are incompatible, the comparison will simply return False). For\n",
      "example:"
     ]
    },
    {
     "cell_type": "code",
     "collapsed": false,
     "input": [
      "A = np.array([1, 2, 3, 4, 5])\n",
      "B = np.array([1, 1, 3, 3, 5])\n",
      "print A == B"
     ],
     "language": "python",
     "metadata": {},
     "outputs": []
    },
    {
     "cell_type": "markdown",
     "metadata": {},
     "source": [
      "From here, you can use the methods .any() and .all() to return a single\n",
      "boolean indicating whether any or all values in the array are True,\n",
      "respectively.\n",
      "\n",
      "Advanced Indexing\n",
      "-----------------\n",
      "\n",
      "In addition to the usual methods of indexing lists with an integer (or\n",
      "with a series of colon-separated integers for a slice), NumPy allows you\n",
      "to index arrays in a wide variety of different ways for more advanced\n",
      "operations.\n",
      "\n",
      "Multi-dimensional Indexing\n",
      "--------------------------\n",
      "\n",
      "Unlike Python lists and tuples, NumPy arrays can be multidimensional.\n",
      "This complicates somewhat how they are indexed. To access a single\n",
      "element, you simply pass in a comma-separated list of indices as a\n",
      "subscript. However, there are many other things you can do when indexing\n",
      "multidimensional arrays.\n",
      "\n",
      "For instance, suppose you want the elements of a 2D array where the\n",
      "first dimension is 1. NumPy makes this extremely simple:"
     ]
    },
    {
     "cell_type": "code",
     "collapsed": false,
     "input": [
      "A = np.arange(16).reshape(4, 4)\n",
      "print A\n",
      "print A[1]"
     ],
     "language": "python",
     "metadata": {},
     "outputs": []
    },
    {
     "cell_type": "markdown",
     "metadata": {},
     "source": [
      "Now suppose you want the elements of that array where the **second**\n",
      "dimension is 1. To do this, you can use \"slices\" of an entire dimension\n",
      "as a placeholder by typing : as your first \"index\". Continuing from\n",
      "above:"
     ]
    },
    {
     "cell_type": "code",
     "collapsed": false,
     "input": [
      "print A[:, 1]"
     ],
     "language": "python",
     "metadata": {},
     "outputs": []
    },
    {
     "cell_type": "markdown",
     "metadata": {},
     "source": [
      "As you'd expect, this type of indexing can become quite complicated with\n",
      "arrays of high dimension.\n",
      "\n",
      "### Exercise : Selective Array Display\n",
      "\n",
      "Using what we've learned about slicing and indexing, print just the\n",
      "upper-left quarter of the array A above."
     ]
    },
    {
     "cell_type": "code",
     "collapsed": false,
     "input": [
      "A = np.arange(16).reshape(4, 4)\n",
      "print A\n",
      "B = A[:2, :2]\n",
      "print B"
     ],
     "language": "python",
     "metadata": {},
     "outputs": []
    },
    {
     "cell_type": "markdown",
     "metadata": {},
     "source": [
      "Views of NumPy Arrays\n",
      "--------------------\n",
      "\n",
      "When slicing a NumPy array (as above), you get a **view** of the previous array.  That means that both arrays point to the same data.  If you modify one array, the changes show up in the other.  In the previous example, <code>B</code> shares data with <code>A</code>.  This may sound confusing, but avoiding copying can be very important for performance."
     ]
    },
    {
     "cell_type": "code",
     "collapsed": false,
     "input": [
      "print A\n",
      "print B\n",
      "A[0, 0] = 100\n",
      "print A\n",
      "print B"
     ],
     "language": "python",
     "metadata": {},
     "outputs": []
    },
    {
     "cell_type": "markdown",
     "metadata": {},
     "source": [
      "Indexing with Arrays\n",
      "--------------------\n",
      "\n",
      "In addition to direct indexing and slicing, elements of a NumPy array can specified by an list/array (\"give me elements at these indexes\") of indexes or by an array of bools with the same shape (\"give me only the elements with at True indexes\").\n",
      "\n",
      "These two access methods work slightly differently for getting and setting elements.  Setting elements using index arrays (<code>A[indexes] = 0.</code>) modifies the elements of A.  Accessing elements using index arrays (<code>B = A[indexes]</code>) returns a copy, because NumPy can't promise that the elements of B will be organized in a NumPy compatible way."
     ]
    },
    {
     "cell_type": "code",
     "collapsed": false,
     "input": [
      "A = np.arange(5, 10)\n",
      "print A\n",
      "indexes = [0, 2, 3]\n",
      "B = A[indexes]\n",
      "A[indexes] = 0\n",
      "print A[indexes]\n",
      "print B\n",
      "mask = A > 7\n",
      "print mask\n",
      "B = A[mask]\n",
      "B[0] = 1000\n",
      "print A"
     ],
     "language": "python",
     "metadata": {},
     "outputs": []
    },
    {
     "cell_type": "markdown",
     "metadata": {},
     "source": [
      "Indexing with an array of booleans:"
     ]
    },
    {
     "cell_type": "code",
     "collapsed": false,
     "input": [
      "A = np.random.randint(0, 10, size=10)\n",
      "print A\n",
      "print A[A>5]"
     ],
     "language": "python",
     "metadata": {},
     "outputs": []
    },
    {
     "cell_type": "markdown",
     "metadata": {},
     "source": [
      "NumPy Gotchas\n",
      "=============\n",
      "\n",
      "NumPy has some important interface differences from Python lists and\n",
      "tuples that can confuse new users of the library. Below are the most\n",
      "notable of these.\n",
      "\n",
      "Multiplication and Addition\n",
      "---------------------------\n",
      "\n",
      "As you may have noticed above, since NumPy arrays are modeled more\n",
      "closely after vectors and matrices, multiplying by a scalar will\n",
      "multiply each element of the array, whereas multiplying a list by a\n",
      "scalar will repeat that list N times."
     ]
    },
    {
     "cell_type": "code",
     "collapsed": false,
     "input": [
      "print np.arange(5)*2\n",
      "print range(5)*2\n",
      "\n",
      "print np.arange(5) + np.arange(5)\n",
      "print range(5) + range(5)"
     ],
     "language": "python",
     "metadata": {},
     "outputs": []
    },
    {
     "cell_type": "markdown",
     "metadata": {},
     "source": [
      "Views vs. Copies\n",
      "----------------\n",
      "\n",
      "In order to be as efficient as possible, NumPy uses \"views\" instead of\n",
      "copies wherever possible. That is, NumPy arrays derived from another\n",
      "base array generally refer to the __exact same data__ as the base array.\n",
      "The consequence of this is that modification of these derived arrays\n",
      "will also modify the base array.\n",
      "\n",
      "Specifically, slices of arrays are always views, unlike slices of lists\n",
      "or tuples, which are always copies.\n"
     ]
    },
    {
     "cell_type": "code",
     "collapsed": false,
     "input": [
      "A = np.arange(5)\n",
      "B = A[0:1]\n",
      "B[0] = 42\n",
      "print A"
     ],
     "language": "python",
     "metadata": {},
     "outputs": []
    },
    {
     "cell_type": "code",
     "collapsed": false,
     "input": [
      "A = range(5)\n",
      "B = A[0:1]\n",
      "B[0] = 42\n",
      "print A"
     ],
     "language": "python",
     "metadata": {},
     "outputs": []
    },
    {
     "cell_type": "markdown",
     "metadata": {},
     "source": [
      "### Exercise : Copy a NumPy Array\n",
      "\n",
      "Figure out how to create a copy of a NumPy array. Remember: since NumPy\n",
      "slices are views, you can't use the trick you'd use for Python lists,\n",
      "i.e. copy = list[:]."
     ]
    },
    {
     "cell_type": "code",
     "collapsed": false,
     "input": [
      "A = np.empty(9)\n",
      "B = A.copy()"
     ],
     "language": "python",
     "metadata": {},
     "outputs": []
    },
    {
     "cell_type": "markdown",
     "metadata": {},
     "source": [
      "NumPy arrays also support in place operations *=, +=, -=, /= to avoid making unnecessary copies."
     ]
    },
    {
     "cell_type": "markdown",
     "metadata": {},
     "source": [
      "Mathematics with NumPy\n",
      "======================\n",
      "\n",
      "Being designed for scientific computing, NumPy also contains a host of\n",
      "common mathematical functions, including linear algebra functions, fast\n",
      "Fourier transforms, and probability/statistics functions. While there\n",
      "isn't space to go over __all__ of these in detail, we will provide an\n",
      "overview of the most common/essential of these.\n",
      "\n",
      "Basics\n",
      "------\n",
      "\n",
      "All NumPy arrays have a collection of basic operations built-in. Most of\n",
      "these can be used to operate only on a particular axis of the array, but\n",
      "for simplicity, we will only show them in action on one-dimensional\n",
      "arrays.\n"
     ]
    },
    {
     "cell_type": "code",
     "collapsed": false,
     "input": [
      "a = np.random.randint(0, 10, 10)\n",
      "print a\n",
      "print a.min()\n",
      "print a.max()"
     ],
     "language": "python",
     "metadata": {},
     "outputs": []
    },
    {
     "cell_type": "code",
     "collapsed": false,
     "input": [
      "a = np.arange(16).reshape(4, 4)\n",
      "print a\n",
      "print a.trace()"
     ],
     "language": "python",
     "metadata": {},
     "outputs": []
    },
    {
     "cell_type": "markdown",
     "metadata": {},
     "source": [
      "## Exercise: array methods\n",
      "\n",
      "Print the sum of all rows.\n",
      "\n",
      "Print the standard deviation of the array."
     ]
    },
    {
     "cell_type": "code",
     "collapsed": false,
     "input": [
      "A = [1.2, 5.2, np.pi, 9.4, 3.6, np.e]\n",
      "A = np.array(A).reshape((3,2))\n",
      "print A\n",
      "print A.sum(1)\n",
      "print A.std()"
     ],
     "language": "python",
     "metadata": {},
     "outputs": []
    },
    {
     "cell_type": "markdown",
     "metadata": {},
     "source": [
      "There are many more methods like these available with NumPy arrays. Be\n",
      "sure to consult the NumPy documentation before writing your own\n",
      "versions!"
     ]
    },
    {
     "cell_type": "markdown",
     "metadata": {},
     "source": [
      "Universal Functions\n",
      "===================\n",
      "\n",
      "Universal functions (also called ufuncs) are high-speed, element-wise\n",
      "operations on NumPy arrays. They are, in essence, what allows you to\n",
      "operate on NumPy arrays efficiently. There are a large number of\n",
      "universal functions available covering most of the basic operations that\n",
      "get performed on data, like addition, subtraction, logarithms, and so\n",
      "on. Calling a ufunc is a simple matter:"
     ]
    },
    {
     "cell_type": "code",
     "collapsed": false,
     "input": [
      "A = np.arange(1, 10)\n",
      "print np.log10(A)"
     ],
     "language": "python",
     "metadata": {},
     "outputs": []
    },
    {
     "cell_type": "markdown",
     "metadata": {},
     "source": [
      "In addition to a basic operation like the above, ufuncs that take two input\n",
      "arrays and return an output array can be used in more advanced ways.\n",
      "\n",
      "### Exercise : Elementwise Operations\n",
      "\n",
      "Using ufuncs, calculate the reciprocals of each element in the following\n",
      "array:"
     ]
    },
    {
     "cell_type": "code",
     "collapsed": false,
     "input": [
      "a = [8.1, 1.6, 0.9, 4.3, 7.0, 7.3, 4.7, 8.2, 7.2, 3.0,\n",
      "        1.4, 9.8, 5.7, 0.7, 8.7, 4.6, 8.8, 0.9, 4.4, 4.4]\n",
      "print np.power(a, -1)"
     ],
     "language": "python",
     "metadata": {},
     "outputs": []
    },
    {
     "cell_type": "markdown",
     "metadata": {},
     "source": [
      "External Resources\n",
      "==================\n",
      "\n",
      "NumPy has too many features to discuss here. However, there are plenty\n",
      "of resources on the web that describe NumPy in detail. Here is a\n",
      "selection of them:\n",
      "\n",
      " * [NumPy user's guide](http://docs.scipy.org/doc/numpy/user)\n",
      " * [NumPy Reference](http://docs.scipy.org/doc/numpy/reference/)\n",
      " * [NumPy For Matlab Users](http://www.scipy.org/NumPy_for_Matlab_Users)\n",
      " * [NumPy CookBook](http://www.scipy.org/Cookbook) \n",
      " * [Python Scientific Lecture Notes](http://scipy-lectures.github.io/)\n",
      " \n",
      " \n",
      "SciPy Ecosystem\n",
      "================\n",
      "\n",
      "NumPy forms the bedrock for many scientific computing projects, especially those that interact with compiled C/Fortran code.  Among these are:\n",
      "\n",
      "  * [SciPy](http://docs.scipy.org/doc/scipy/reference) - special functions, integration, sparse linear algebra, ...\n",
      "  * [matplotlib](http://matplotlib.org/) - plotting\n",
      "  * [scikit-learn](scikit-learn.org) - machine learning\n",
      "  * [scikit-image](http://scikit-image.org/) - image manipulation, filtering, edge detection, etc\n",
      "  * [pytables](http://www.pytables.org) - HDF5 binary files\n",
      "  * more"
     ]
    },
    {
     "cell_type": "markdown",
     "metadata": {},
     "source": [
      "##  Extra Credit: NumPy under the covers\n",
      "\n",
      "NumPy arrays are stored in contiguous chunks of memory.  In the picture below, the 2D array with blue/green/yellow/orange/white rows (lower image), is actually stored sequentally (upper image).  NumPy arrays are just clever interfaces to this chunk of memory.\n",
      "\n",
      "![memory layout](http://http.developer.nvidia.com/GPUGems2/elementLinks/33_idioms_05.jpg) (diagram courtesy: nvidia.com)\n",
      "\n",
      "NumPy collective operations can be fast because they avoid all the dynamic behavior of Python and because the unlerlying algorithm/memory layout are fast.  The requirment that NumPy arrays be memory-contiguous also makes interopration with C and Fortran legacy software relatively painless (No copies, just pass the pointer to the data and the array shape and stride.).  Most of the NumPy linear algebra operations actually call out to highly tuned, pre-compiled libraries written in Fortran/C libraries like BLAS and LAPACK."
     ]
    }
   ],
   "metadata": {}
  }
 ]
}
