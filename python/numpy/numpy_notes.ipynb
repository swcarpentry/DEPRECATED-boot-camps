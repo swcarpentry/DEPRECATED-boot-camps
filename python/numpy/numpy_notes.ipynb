{
 "metadata": {
  "name": "numpy"
 },
 "nbformat": 3,
 "nbformat_minor": 0,
 "worksheets": [
  {
   "cells": [
    {
     "cell_type": "markdown",
     "metadata": {},
     "source": [
      "Python 9 : NumPy\n",
      "================\n",
      "\n",
      "**Presented By: Doug Latornell**\n",
      "\n",
      "**Based on Lecture Materials By: Matthew Terry**\n",
      "\n",
      "This class will cover a broad overview of NumPy with brief illustrative\n",
      "examples geared towards getting people familiar with the basic use\n",
      "cases. Since NumPy has many advanced features that may be useful to\n",
      "experienced programmers, these notes will occasionally link to more\n",
      "advanced examples that readers can peruse on their own time.\n",
      "\n",
      "**Aside: Code Examples**\n",
      "\n",
      "In all the examples below, we assume that import numpy has already been\n",
      "executed. If any other modules are needed, we will import them\n",
      "explicitly.\n",
      "\n",
      "NumPy basics\n",
      "============\n",
      "\n",
      "What is NumPy ?\n",
      "---------------\n",
      "\n",
      "NumPy is a Python package implementing efficient collections of specific\n",
      "types of data (generally numerical), similar to the standard array\n",
      "module (but with many more features). NumPy arrays differ from lists and\n",
      "tuples in that the data is contiguous in memory. A Python **list**, \n",
      "```[0, 1, 2]```, in contrast, is actually an array of pointers to Python\n",
      "objects representing each number. This allows NumPy arrays to be\n",
      "considerably faster for numerical operations than Python lists/tuples.\n",
      "\n",
      "The NumPy package provides:\n",
      "\n",
      "* a powerful N-dimensional array object\n",
      "* advanced array slicing methods (to select array elements)\n",
      "* convenient array reshaping methods \n",
      "\n",
      "and it also contains 3 libraries of numerical routines:\n",
      "\n",
      "* basic linear algebra functions\n",
      "* basic Fourier transforms\n",
      "* sophisticated random number capabilities \n",
      "\n",
      "NumPy can be extended with C-code for functions where performance is\n",
      "highly time critical.\n",
      "In addition, tools are provided for integrating existing Fortran code.\n",
      "\n",
      "You can use NumPy all by itself to do a lot in the realm of scientific\n",
      "computing, but it is also the foundation of numerous even more powerful\n",
      "packages like SciPy and SymPy.\n",
      "\n",
      "References\n",
      "==========\n",
      "\n",
      "NumPy has too many features to discuss here. However, there are plenty\n",
      "of resources on the web that describe NumPy in detail. Here is a\n",
      "selection of them:\n",
      "\n",
      " * [NumPy user's guide](http://docs.scipy.org/doc/numpy/user)\n",
      " * [NumPy Reference](http://docs.scipy.org/doc/numpy/reference/)\n",
      " * [NumPy For Matlab Users](http://www.scipy.org/NumPy_for_Matlab_Users)\n",
      " * [NumPy CookBook](http://www.scipy.org/Cookbook) "
     ]
    },
    {
     "cell_type": "markdown",
     "metadata": {},
     "source": [
      "## First Things First ##"
     ]
    },
    {
     "cell_type": "code",
     "collapsed": false,
     "input": [
      "import numpy as np"
     ],
     "language": "python",
     "metadata": {},
     "outputs": [],
     "prompt_number": 1
    },
    {
     "cell_type": "markdown",
     "metadata": {},
     "source": [
      "Creating NumPy Arrays\n",
      "---------------------\n",
      "\n",
      "Creating a NumPy array is as simple as passing a sequence to\n",
      "numpy.array. You can also explicitly specify the data-type if the\n",
      "automatically-chosen one would be unsuitable."
     ]
    },
    {
     "cell_type": "code",
     "collapsed": false,
     "input": [
      "a = np.array([1, 2.3, 4])\n",
      "a"
     ],
     "language": "python",
     "metadata": {},
     "outputs": [
      {
       "output_type": "pyout",
       "prompt_number": 4,
       "text": [
        "array([ 1. ,  2.3,  4. ])"
       ]
      }
     ],
     "prompt_number": 4
    },
    {
     "cell_type": "code",
     "collapsed": false,
     "input": [
      "a.dtype"
     ],
     "language": "python",
     "metadata": {},
     "outputs": [
      {
       "output_type": "pyout",
       "prompt_number": 5,
       "text": [
        "dtype('float64')"
       ]
      }
     ],
     "prompt_number": 5
    },
    {
     "cell_type": "code",
     "collapsed": false,
     "input": [
      "b = np.array((1, 2.3, 4), dtype=int)\n",
      "b"
     ],
     "language": "python",
     "metadata": {},
     "outputs": [
      {
       "output_type": "pyout",
       "prompt_number": 1,
       "text": [
        "array([1, 2, 4])"
       ]
      }
     ],
     "prompt_number": 1
    },
    {
     "cell_type": "code",
     "collapsed": false,
     "input": [
      "b.dtype"
     ],
     "language": "python",
     "metadata": {},
     "outputs": [
      {
       "output_type": "pyout",
       "prompt_number": 7,
       "text": [
        "dtype('int32')"
       ]
      }
     ],
     "prompt_number": 7
    },
    {
     "cell_type": "markdown",
     "metadata": {},
     "source": [
      "Creating *ad hoc* arrays from manually types sequences is tedious\n",
      "and relatively slow for the computer as well as the human because\n",
      "each element of the sequence has to be converted into its equivalent C\n",
      "type (int objects become C ints, etc).\n",
      "NumPy provides numerous convience methods to create arrays of different\n",
      "types quickly.\n",
      "There are many other ways to\n",
      "create NumPy arrays, such as **numpy.identity**, **numpy.zeros**,\n",
      "**numpy.zeros\\_like**, or by manually specifying the dimensions and type\n",
      "of the array with the low-level creation function:"
     ]
    },
    {
     "cell_type": "code",
     "collapsed": false,
     "input": [
      "np.zeros(5)"
     ],
     "language": "python",
     "metadata": {},
     "outputs": [
      {
       "output_type": "pyout",
       "prompt_number": 2,
       "text": [
        "array([ 0.,  0.,  0.,  0.,  0.])"
       ]
      }
     ],
     "prompt_number": 2
    },
    {
     "cell_type": "code",
     "collapsed": false,
     "input": [
      "np.ones(3)"
     ],
     "language": "python",
     "metadata": {},
     "outputs": [
      {
       "output_type": "pyout",
       "prompt_number": 3,
       "text": [
        "array([ 1.,  1.,  1.])"
       ]
      }
     ],
     "prompt_number": 3
    },
    {
     "cell_type": "code",
     "collapsed": false,
     "input": [
      "x = np.arange(10)\n",
      "x"
     ],
     "language": "python",
     "metadata": {},
     "outputs": [
      {
       "output_type": "pyout",
       "prompt_number": 6,
       "text": [
        "array([0, 1, 2, 3, 4, 5, 6, 7, 8, 9])"
       ]
      }
     ],
     "prompt_number": 6
    },
    {
     "cell_type": "code",
     "collapsed": false,
     "input": [
      "np.ones_like(x)"
     ],
     "language": "python",
     "metadata": {},
     "outputs": [
      {
       "output_type": "pyout",
       "prompt_number": 8,
       "text": [
        "array([1, 1, 1, 1, 1, 1, 1, 1, 1, 1])"
       ]
      }
     ],
     "prompt_number": 8
    },
    {
     "cell_type": "markdown",
     "metadata": {},
     "source": [
      "### Exercise : Create an Array\n",
      "\n",
      "Create a NumPy array with values ranging from 0 to 10, in increments of 0.5.\n",
      "Don't forget to use the tools that Python and iPython provide to find syntax help!\n"
     ]
    },
    {
     "cell_type": "code",
     "collapsed": false,
     "input": [],
     "language": "python",
     "metadata": {},
     "outputs": [],
     "prompt_number": 10
    },
    {
     "cell_type": "markdown",
     "metadata": {},
     "source": [
      "Data types\n",
      "----------\n",
      "\n",
      "When creating a NumPy array, you supply a `dtype` (\"data type\"), or one is\n",
      "chosen for you. There are a total of 21 different array scalar types,\n",
      "which can be used to specify the dtype. In addition to the scalar type,\n",
      "you may also specify byte order (little- or big-endian) or even multiple\n",
      "scalar types to be used as a light-weight tuple (similar to a C struct).\n",
      "For everyday use, however, you can just pass in the appropriate scalar\n",
      "type and NumPy will figure it out. Some common scalar types include:\n",
      "\n",
      "    int     # Python-compatible int (usually a C long)\n",
      "    intc    # C int\n",
      "    float   # Python-compatible float (usually a C double)\n",
      "    single  # C float\n",
      "    double  # C double\n",
      "    complex # Python-compatible complex\n",
      "\n",
      "So be careful when using `numpy.array()` because the `dtype` that will be\n",
      "chosen automatically will be that of the Python sequence you provide."
     ]
    },
    {
     "cell_type": "code",
     "collapsed": false,
     "input": [
      "np.array([7]).dtype"
     ],
     "language": "python",
     "metadata": {},
     "outputs": [
      {
       "output_type": "pyout",
       "prompt_number": 12,
       "text": [
        "dtype('int32')"
       ]
      }
     ],
     "prompt_number": 12
    },
    {
     "cell_type": "code",
     "collapsed": false,
     "input": [
      "np.array([7.]).dtype"
     ],
     "language": "python",
     "metadata": {},
     "outputs": [
      {
       "output_type": "pyout",
       "prompt_number": 13,
       "text": [
        "dtype('float64')"
       ]
      }
     ],
     "prompt_number": 13
    },
    {
     "cell_type": "markdown",
     "metadata": {},
     "source": [
      "\n",
      "List operations\n",
      "---------------\n",
      "\n",
      "For basic operations, NumPy arrays can be accessed just like Python\n",
      "lists and tuples. This means that you can use the square brackets to\n",
      "access elements, `len()` to access the size of the array, and so on."
     ]
    },
    {
     "cell_type": "code",
     "collapsed": false,
     "input": [
      "a = np.arange(5)\n",
      "a"
     ],
     "language": "python",
     "metadata": {},
     "outputs": [
      {
       "output_type": "pyout",
       "prompt_number": 14,
       "text": [
        "array([0, 1, 2, 3, 4])"
       ]
      }
     ],
     "prompt_number": 14
    },
    {
     "cell_type": "code",
     "collapsed": false,
     "input": [
      "a[3]"
     ],
     "language": "python",
     "metadata": {},
     "outputs": [
      {
       "output_type": "pyout",
       "prompt_number": 15,
       "text": [
        "3"
       ]
      }
     ],
     "prompt_number": 15
    },
    {
     "cell_type": "code",
     "collapsed": false,
     "input": [
      "a[3] = 42\n",
      "a"
     ],
     "language": "python",
     "metadata": {},
     "outputs": [
      {
       "output_type": "pyout",
       "prompt_number": 16,
       "text": [
        "array([ 0,  1,  2, 42,  4])"
       ]
      }
     ],
     "prompt_number": 16
    },
    {
     "cell_type": "code",
     "collapsed": false,
     "input": [
      "len(a)"
     ],
     "language": "python",
     "metadata": {},
     "outputs": [
      {
       "output_type": "pyout",
       "prompt_number": 17,
       "text": [
        "5"
       ]
      }
     ],
     "prompt_number": 17
    },
    {
     "cell_type": "markdown",
     "metadata": {},
     "source": [
      "Arithmetic\n",
      "----------\n",
      "\n",
      "Since NumPy exists to perform efficient numerical operations in Python,\n",
      "it stands to reason that NumPy arrays have all the usual arithmetic\n",
      "operations available to them. These operations are performed\n",
      "element-wise (i.e. the same operation is performed independently on each\n",
      "element of the array)."
     ]
    },
    {
     "cell_type": "code",
     "collapsed": false,
     "input": [
      "a = np.arange(5)\n",
      "b = np.arange(5, 10)"
     ],
     "language": "python",
     "metadata": {},
     "outputs": [],
     "prompt_number": 18
    },
    {
     "cell_type": "code",
     "collapsed": false,
     "input": [
      "a + b"
     ],
     "language": "python",
     "metadata": {},
     "outputs": [
      {
       "output_type": "pyout",
       "prompt_number": 19,
       "text": [
        "array([ 5,  7,  9, 11, 13])"
       ]
      }
     ],
     "prompt_number": 19
    },
    {
     "cell_type": "code",
     "collapsed": false,
     "input": [
      "b - a"
     ],
     "language": "python",
     "metadata": {},
     "outputs": [
      {
       "output_type": "pyout",
       "prompt_number": 20,
       "text": [
        "array([5, 5, 5, 5, 5])"
       ]
      }
     ],
     "prompt_number": 20
    },
    {
     "cell_type": "code",
     "collapsed": false,
     "input": [
      "a * b"
     ],
     "language": "python",
     "metadata": {},
     "outputs": [
      {
       "output_type": "pyout",
       "prompt_number": 21,
       "text": [
        "array([ 0,  6, 14, 24, 36])"
       ]
      }
     ],
     "prompt_number": 21
    },
    {
     "cell_type": "markdown",
     "metadata": {},
     "source": [
      "If one of the arguments is a scalar, that value will be\n",
      "applied to all the elements of the array."
     ]
    },
    {
     "cell_type": "code",
     "collapsed": false,
     "input": [
      "a * 2"
     ],
     "language": "python",
     "metadata": {},
     "outputs": [
      {
       "output_type": "pyout",
       "prompt_number": 22,
       "text": [
        "array([0, 2, 4, 6, 8])"
       ]
      }
     ],
     "prompt_number": 22
    },
    {
     "cell_type": "code",
     "collapsed": false,
     "input": [
      "a ** 2"
     ],
     "language": "python",
     "metadata": {},
     "outputs": [
      {
       "output_type": "pyout",
       "prompt_number": 23,
       "text": [
        "array([ 0,  1,  4,  9, 16])"
       ]
      }
     ],
     "prompt_number": 23
    },
    {
     "cell_type": "code",
     "collapsed": false,
     "input": [
      "a + 10"
     ],
     "language": "python",
     "metadata": {},
     "outputs": [
      {
       "output_type": "pyout",
       "prompt_number": 24,
       "text": [
        "array([10, 11, 12, 13, 14])"
       ]
      }
     ],
     "prompt_number": 24
    },
    {
     "cell_type": "markdown",
     "metadata": {},
     "source": [
      "Notice that, in this respect, NumPy arrays behave like mathematical vectors and matrices.\n",
      "That's an subtle but important interface difference between NumPy arrays and Python lists."
     ]
    },
    {
     "cell_type": "code",
     "collapsed": false,
     "input": [
      "x = range(5)\n",
      "x"
     ],
     "language": "python",
     "metadata": {},
     "outputs": [
      {
       "output_type": "pyout",
       "prompt_number": 25,
       "text": [
        "[0, 1, 2, 3, 4]"
       ]
      }
     ],
     "prompt_number": 25
    },
    {
     "cell_type": "code",
     "collapsed": false,
     "input": [
      "a"
     ],
     "language": "python",
     "metadata": {},
     "outputs": [
      {
       "output_type": "pyout",
       "prompt_number": 26,
       "text": [
        "array([0, 1, 2, 3, 4])"
       ]
      }
     ],
     "prompt_number": 26
    },
    {
     "cell_type": "code",
     "collapsed": false,
     "input": [
      "x * 2"
     ],
     "language": "python",
     "metadata": {},
     "outputs": [
      {
       "output_type": "pyout",
       "prompt_number": 27,
       "text": [
        "[0, 1, 2, 3, 4, 0, 1, 2, 3, 4]"
       ]
      }
     ],
     "prompt_number": 27
    },
    {
     "cell_type": "code",
     "collapsed": false,
     "input": [
      "a * 2"
     ],
     "language": "python",
     "metadata": {},
     "outputs": [
      {
       "output_type": "pyout",
       "prompt_number": 28,
       "text": [
        "array([0, 2, 4, 6, 8])"
       ]
      }
     ],
     "prompt_number": 28
    },
    {
     "cell_type": "code",
     "collapsed": false,
     "input": [
      "y = range(5, 10)\n",
      "y"
     ],
     "language": "python",
     "metadata": {},
     "outputs": [
      {
       "output_type": "pyout",
       "prompt_number": 29,
       "text": [
        "[5, 6, 7, 8, 9]"
       ]
      }
     ],
     "prompt_number": 29
    },
    {
     "cell_type": "code",
     "collapsed": false,
     "input": [
      "b"
     ],
     "language": "python",
     "metadata": {},
     "outputs": [
      {
       "output_type": "pyout",
       "prompt_number": 30,
       "text": [
        "array([5, 6, 7, 8, 9])"
       ]
      }
     ],
     "prompt_number": 30
    },
    {
     "cell_type": "code",
     "collapsed": false,
     "input": [
      "x + y"
     ],
     "language": "python",
     "metadata": {},
     "outputs": [
      {
       "output_type": "pyout",
       "prompt_number": 34,
       "text": [
        "[0, 1, 2, 3, 4, 5, 6, 7, 8, 9]"
       ]
      }
     ],
     "prompt_number": 34
    },
    {
     "cell_type": "code",
     "collapsed": false,
     "input": [
      "a + b"
     ],
     "language": "python",
     "metadata": {},
     "outputs": [
      {
       "output_type": "pyout",
       "prompt_number": 33,
       "text": [
        "array([ 5,  7,  9, 11, 13])"
       ]
      }
     ],
     "prompt_number": 33
    },
    {
     "cell_type": "code",
     "collapsed": false,
     "input": [
      "a + y"
     ],
     "language": "python",
     "metadata": {},
     "outputs": [
      {
       "output_type": "pyout",
       "prompt_number": 35,
       "text": [
        "array([ 5,  7,  9, 11, 13])"
       ]
      }
     ],
     "prompt_number": 35
    },
    {
     "cell_type": "markdown",
     "metadata": {},
     "source": [
      "Comparison\n",
      "----------\n",
      "\n",
      "Much like the basic arithmetic operations we discussed above, comparison\n",
      "operations are perfomed element-wise. That is, rather than returning a\n",
      "single boolean, comparison operators compare each element in both arrays\n",
      "pairwise, and return an **array** of booleans (if the sizes of the input\n",
      "arrays are incompatible, the comparison will simply return False). For\n",
      "example:"
     ]
    },
    {
     "cell_type": "code",
     "collapsed": false,
     "input": [
      "a = np.array([1, 2, 3, 4, 5])\n",
      "b = np.array([1, 1, 3, 3, 5])\n",
      "a == b"
     ],
     "language": "python",
     "metadata": {},
     "outputs": [
      {
       "output_type": "pyout",
       "prompt_number": 36,
       "text": [
        "array([ True, False,  True, False,  True], dtype=bool)"
       ]
      }
     ],
     "prompt_number": 36
    },
    {
     "cell_type": "markdown",
     "metadata": {},
     "source": [
      "From here, you can use the methods `.any()` and `.all()` to return a single\n",
      "boolean indicating whether any or all values in the array are `True`,\n",
      "respectively."
     ]
    },
    {
     "cell_type": "markdown",
     "metadata": {},
     "source": [
      "Multi-dimensional Arrays\n",
      "------------------------\n",
      "\n",
      "So are we've concentrated on 1-dimensional arrays that look like lists of homogeneous\n",
      "numerical objects, or mathematical vectors.\n",
      "Remember though that NumPy is a package for manipulating **n-dimensional arrays**."
     ]
    },
    {
     "cell_type": "code",
     "collapsed": false,
     "input": [
      "np.ones((3, 4))"
     ],
     "language": "python",
     "metadata": {},
     "outputs": [
      {
       "output_type": "pyout",
       "prompt_number": 40,
       "text": [
        "array([[ 1.,  1.,  1.,  1.],\n",
        "       [ 1.,  1.,  1.,  1.],\n",
        "       [ 1.,  1.,  1.,  1.]])"
       ]
      }
     ],
     "prompt_number": 40
    },
    {
     "cell_type": "code",
     "collapsed": false,
     "input": [
      "eye = np.identity(5)\n",
      "eye"
     ],
     "language": "python",
     "metadata": {},
     "outputs": [
      {
       "output_type": "pyout",
       "prompt_number": 44,
       "text": [
        "array([[ 1.,  0.,  0.,  0.,  0.],\n",
        "       [ 0.,  1.,  0.,  0.,  0.],\n",
        "       [ 0.,  0.,  1.,  0.,  0.],\n",
        "       [ 0.,  0.,  0.,  1.,  0.],\n",
        "       [ 0.,  0.,  0.,  0.,  1.]])"
       ]
      }
     ],
     "prompt_number": 44
    },
    {
     "cell_type": "code",
     "collapsed": false,
     "input": [
      "eye.shape"
     ],
     "language": "python",
     "metadata": {},
     "outputs": [
      {
       "output_type": "pyout",
       "prompt_number": 45,
       "text": [
        "(5, 5)"
       ]
      }
     ],
     "prompt_number": 45
    },
    {
     "cell_type": "code",
     "collapsed": false,
     "input": [
      "eye.size"
     ],
     "language": "python",
     "metadata": {},
     "outputs": [
      {
       "output_type": "pyout",
       "prompt_number": 46,
       "text": [
        "25"
       ]
      }
     ],
     "prompt_number": 46
    },
    {
     "cell_type": "code",
     "collapsed": false,
     "input": [
      "len(eye)"
     ],
     "language": "python",
     "metadata": {},
     "outputs": [
      {
       "output_type": "pyout",
       "prompt_number": 47,
       "text": [
        "5"
       ]
      }
     ],
     "prompt_number": 47
    },
    {
     "cell_type": "markdown",
     "metadata": {},
     "source": [
      "Multi-dimensional Indexing\n",
      "--------------------------\n",
      "\n",
      "Unlike Python lists and tuples, NumPy arrays can be multidimensional.\n",
      "This complicates somewhat how they are indexed. To access a single\n",
      "element, you simply pass in a comma-separated list of indices as a\n",
      "subscript."
     ]
    },
    {
     "cell_type": "code",
     "collapsed": false,
     "input": [
      "c = np.arange(16).reshape(4, 4)\n",
      "c"
     ],
     "language": "python",
     "metadata": {},
     "outputs": [
      {
       "output_type": "pyout",
       "prompt_number": 49,
       "text": [
        "array([[ 0,  1,  2,  3],\n",
        "       [ 4,  5,  6,  7],\n",
        "       [ 8,  9, 10, 11],\n",
        "       [12, 13, 14, 15]])"
       ]
      }
     ],
     "prompt_number": 49
    },
    {
     "cell_type": "code",
     "collapsed": false,
     "input": [
      "c[1, 2]"
     ],
     "language": "python",
     "metadata": {},
     "outputs": [
      {
       "output_type": "pyout",
       "prompt_number": 50,
       "text": [
        "6"
       ]
      }
     ],
     "prompt_number": 50
    },
    {
     "cell_type": "code",
     "collapsed": false,
     "input": [
      "c[1]"
     ],
     "language": "python",
     "metadata": {},
     "outputs": [
      {
       "output_type": "pyout",
       "prompt_number": 51,
       "text": [
        "array([4, 5, 6, 7])"
       ]
      }
     ],
     "prompt_number": 51
    },
    {
     "cell_type": "code",
     "collapsed": false,
     "input": [
      "c[:, 2]"
     ],
     "language": "python",
     "metadata": {},
     "outputs": [
      {
       "output_type": "pyout",
       "prompt_number": 52,
       "text": [
        "array([ 2,  6, 10, 14])"
       ]
      }
     ],
     "prompt_number": 52
    },
    {
     "cell_type": "markdown",
     "metadata": {},
     "source": [
      "### Exercise : Selective Array Display\n",
      "\n",
      "Using what we've learned about slicing and indexing, print just the\n",
      "upper-left quarter of a 4x4 array."
     ]
    },
    {
     "cell_type": "code",
     "collapsed": false,
     "input": [
      "c[:2, :2]"
     ],
     "language": "python",
     "metadata": {},
     "outputs": [
      {
       "output_type": "pyout",
       "prompt_number": 57,
       "text": [
        "array([[0, 1],\n",
        "       [4, 5]])"
       ]
      }
     ],
     "prompt_number": 57
    },
    {
     "cell_type": "markdown",
     "metadata": {},
     "source": [
      "Views vs. Copies\n",
      "----------------\n",
      "\n",
      "In order to be as efficient as possible, NumPy uses \"views\" instead of\n",
      "copies wherever possible. That is, NumPy arrays derived from another\n",
      "base array generally refer to the ''exact same data'' as the base array.\n",
      "The consequence of this is that modification of these derived arrays\n",
      "will also modify the base array. You saw this above in how the result of\n",
      "an array indexed by an array of indices is a ''copy'', but an array\n",
      "indexed by an array of booleans is a ''view''. (Phew!)\n",
      "\n",
      "Specifically, slices of arrays are always views, unlike slices of lists\n",
      "or tuples, which are always copies.\n",
      "\n",
      "```python\n",
      "\n",
      "  >>> A = numpy.arange(5)\n",
      "  >>> B = A[0:1]\n",
      "  >>> B[0] = 42\n",
      "  >>> A\n",
      "  array([42,  1,  2,  3,  4])\n",
      "  >>> >>> A = range(5)\n",
      "  >>> B = A[0:1]\n",
      "  >>> B[0] = 42\n",
      "  >>> A\n",
      "  [0, 1, 2, 3, 4]\n",
      "```"
     ]
    },
    {
     "cell_type": "code",
     "collapsed": false,
     "input": [
      "a = np.arange(5)\n",
      "b = a[:1]\n",
      "b[0] = 42\n",
      "a"
     ],
     "language": "python",
     "metadata": {},
     "outputs": [
      {
       "output_type": "pyout",
       "prompt_number": 58,
       "text": [
        "array([42,  1,  2,  3,  4])"
       ]
      }
     ],
     "prompt_number": 58
    },
    {
     "cell_type": "code",
     "collapsed": false,
     "input": [
      "x = range(5)\n",
      "y = x[:1]\n",
      "y[0] = 42\n",
      "x"
     ],
     "language": "python",
     "metadata": {},
     "outputs": [
      {
       "output_type": "pyout",
       "prompt_number": 59,
       "text": [
        "[0, 1, 2, 3, 4]"
       ]
      }
     ],
     "prompt_number": 59
    },
    {
     "cell_type": "markdown",
     "metadata": {},
     "source": [
      "### Exercise : Copy a NumPy Array\n",
      "\n",
      "Figure out how to create a copy of a NumPy array. Remember: since NumPy\n",
      "slices are views, you can't use the trick you'd use for Python lists,\n",
      "i.e. copy = list[:]."
     ]
    },
    {
     "cell_type": "code",
     "collapsed": false,
     "input": [],
     "language": "python",
     "metadata": {},
     "outputs": []
    },
    {
     "cell_type": "markdown",
     "metadata": {},
     "source": [
      "Indexing with Arrays\n",
      "--------------------\n",
      "\n",
      "NumPy arrays can be indexed with other arrays, using either an array of\n",
      "indices, or an array of booleans of the same length. In the former case,\n",
      "NumPy returns a view of the data in the specified indices as a new\n",
      "array. In the latter, NumPy returns a view of the array with only the\n",
      "elements where the index array is `True`. This makes normally-tedious\n",
      "operations like clamping extremely simple.\n",
      "\n",
      "Indexing with an array of indices:\n",
      "\n",
      "```python\n",
      "\n",
      "  >>> A = numpy.arange(5, 10)\n",
      "  >>> A\n",
      "  array([5, 6, 7, 8, 9])\n",
      "  >>> A[[0, 2, 3]]\n",
      "  array([5, 7, 8])\n",
      "  >>> A[[0, 2, 3]] = 0\n",
      "  >>> A\n",
      "  array([0, 6, 0, 0, 9])\n",
      "```\n",
      "\n",
      "Indexing with an array of booleans:\n",
      "\n",
      "```python\n",
      "  \n",
      "  >>> import random\n",
      "  >>> A = numpy.array([random.randint(0, 10) for i in range(10)])\n",
      "  >>> A\n",
      "  array([10,  5,  1,  2,  3,  9,  3,  4,  9,  8])\n",
      "  >>> A[A>5] = 5\n",
      "  >>> A\n",
      "  array([5, 5, 1, 2, 3, 5, 3, 4, 5, 5])\n",
      "```"
     ]
    },
    {
     "cell_type": "code",
     "collapsed": false,
     "input": [
      "a = np.arange(5, 10)\n",
      "a"
     ],
     "language": "python",
     "metadata": {},
     "outputs": [
      {
       "output_type": "pyout",
       "prompt_number": 60,
       "text": [
        "array([5, 6, 7, 8, 9])"
       ]
      }
     ],
     "prompt_number": 60
    },
    {
     "cell_type": "code",
     "collapsed": false,
     "input": [
      "a[[0, 2, 3]]"
     ],
     "language": "python",
     "metadata": {},
     "outputs": [
      {
       "output_type": "pyout",
       "prompt_number": 61,
       "text": [
        "array([5, 7, 8])"
       ]
      }
     ],
     "prompt_number": 61
    },
    {
     "cell_type": "code",
     "collapsed": false,
     "input": [
      "a[[0, 2, 3]] = 0\n",
      "a"
     ],
     "language": "python",
     "metadata": {},
     "outputs": [
      {
       "output_type": "pyout",
       "prompt_number": 63,
       "text": [
        "array([0, 6, 0, 0, 9])"
       ]
      }
     ],
     "prompt_number": 63
    },
    {
     "cell_type": "code",
     "collapsed": false,
     "input": [
      "import random\n",
      "a = np.array([random.randint(0, 10) for i in xrange(10)])\n",
      "a"
     ],
     "language": "python",
     "metadata": {},
     "outputs": [
      {
       "output_type": "pyout",
       "prompt_number": 65,
       "text": [
        "array([ 3,  2,  1,  1,  7,  4, 10,  6,  5,  7])"
       ]
      }
     ],
     "prompt_number": 65
    },
    {
     "cell_type": "code",
     "collapsed": false,
     "input": [
      "a>5"
     ],
     "language": "python",
     "metadata": {},
     "outputs": [
      {
       "output_type": "pyout",
       "prompt_number": 67,
       "text": [
        "array([False, False, False, False,  True, False,  True,  True, False,  True], dtype=bool)"
       ]
      }
     ],
     "prompt_number": 67
    },
    {
     "cell_type": "code",
     "collapsed": false,
     "input": [
      "a[a > 5]"
     ],
     "language": "python",
     "metadata": {},
     "outputs": [
      {
       "output_type": "pyout",
       "prompt_number": 68,
       "text": [
        "array([ 7, 10,  6,  7])"
       ]
      }
     ],
     "prompt_number": 68
    },
    {
     "cell_type": "code",
     "collapsed": false,
     "input": [
      "a[a > 5] = 5\n",
      "a"
     ],
     "language": "python",
     "metadata": {},
     "outputs": [
      {
       "output_type": "pyout",
       "prompt_number": 69,
       "text": [
        "array([3, 2, 1, 1, 5, 4, 5, 5, 5, 5])"
       ]
      }
     ],
     "prompt_number": 69
    },
    {
     "cell_type": "code",
     "collapsed": false,
     "input": [
      "np.where(a == 5, 6, a)"
     ],
     "language": "python",
     "metadata": {},
     "outputs": [
      {
       "output_type": "pyout",
       "prompt_number": 70,
       "text": [
        "array([3, 2, 1, 1, 6, 4, 6, 6, 6, 6])"
       ]
      }
     ],
     "prompt_number": 70
    },
    {
     "cell_type": "markdown",
     "metadata": {},
     "source": [
      "Mathematics with NumPy\n",
      "======================\n",
      "\n",
      "Being designed for scientific computing, NumPy also contains a host of\n",
      "common mathematical functions, including linear algebra functions, fast\n",
      "Fourier transforms, and probability/statistics functions. While there\n",
      "isn't space to go over ''all'' of these in detail, we will provide an\n",
      "overview of the most common/essential of these.\n",
      "\n",
      "Basics\n",
      "------\n",
      "\n",
      "All NumPy arrays have a collection of basic operations built-in."
     ]
    },
    {
     "cell_type": "code",
     "collapsed": false,
     "input": [
      "a = np.array([random.randint(0, 10) for i in xrange(10)])\n",
      "a"
     ],
     "language": "python",
     "metadata": {},
     "outputs": [
      {
       "output_type": "pyout",
       "prompt_number": 71,
       "text": [
        "array([ 6,  2,  8, 10,  3,  7,  6,  0,  6,  9])"
       ]
      }
     ],
     "prompt_number": 71
    },
    {
     "cell_type": "code",
     "collapsed": false,
     "input": [
      "a.min()"
     ],
     "language": "python",
     "metadata": {},
     "outputs": [
      {
       "output_type": "pyout",
       "prompt_number": 72,
       "text": [
        "0"
       ]
      }
     ],
     "prompt_number": 72
    },
    {
     "cell_type": "code",
     "collapsed": false,
     "input": [
      "a.max()"
     ],
     "language": "python",
     "metadata": {},
     "outputs": [
      {
       "output_type": "pyout",
       "prompt_number": 73,
       "text": [
        "10"
       ]
      }
     ],
     "prompt_number": 73
    },
    {
     "cell_type": "code",
     "collapsed": false,
     "input": [
      "a.argmax()"
     ],
     "language": "python",
     "metadata": {},
     "outputs": [
      {
       "output_type": "pyout",
       "prompt_number": 74,
       "text": [
        "3"
       ]
      }
     ],
     "prompt_number": 74
    },
    {
     "cell_type": "code",
     "collapsed": false,
     "input": [
      "a.mean()"
     ],
     "language": "python",
     "metadata": {},
     "outputs": [
      {
       "output_type": "pyout",
       "prompt_number": 75,
       "text": [
        "5.7000000000000002"
       ]
      }
     ],
     "prompt_number": 75
    },
    {
     "cell_type": "code",
     "collapsed": false,
     "input": [
      "a.std()"
     ],
     "language": "python",
     "metadata": {},
     "outputs": [
      {
       "output_type": "pyout",
       "prompt_number": 76,
       "text": [
        "3.0016662039607271"
       ]
      }
     ],
     "prompt_number": 76
    },
    {
     "cell_type": "code",
     "collapsed": false,
     "input": [
      "a.sum()"
     ],
     "language": "python",
     "metadata": {},
     "outputs": [
      {
       "output_type": "pyout",
       "prompt_number": 77,
       "text": [
        "57"
       ]
      }
     ],
     "prompt_number": 77
    },
    {
     "cell_type": "markdown",
     "metadata": {},
     "source": [
      "For 2-dimensional (or more) arrays, there are some other common\n",
      "operations:"
     ]
    },
    {
     "cell_type": "code",
     "collapsed": false,
     "input": [
      "a = np.arange(16).reshape(4, 4)\n",
      "a"
     ],
     "language": "python",
     "metadata": {},
     "outputs": [
      {
       "output_type": "pyout",
       "prompt_number": 79,
       "text": [
        "array([[ 0,  1,  2,  3],\n",
        "       [ 4,  5,  6,  7],\n",
        "       [ 8,  9, 10, 11],\n",
        "       [12, 13, 14, 15]])"
       ]
      }
     ],
     "prompt_number": 79
    },
    {
     "cell_type": "code",
     "collapsed": false,
     "input": [
      "a.T"
     ],
     "language": "python",
     "metadata": {},
     "outputs": [
      {
       "output_type": "pyout",
       "prompt_number": 80,
       "text": [
        "array([[ 0,  4,  8, 12],\n",
        "       [ 1,  5,  9, 13],\n",
        "       [ 2,  6, 10, 14],\n",
        "       [ 3,  7, 11, 15]])"
       ]
      }
     ],
     "prompt_number": 80
    },
    {
     "cell_type": "code",
     "collapsed": false,
     "input": [
      "a.trace()"
     ],
     "language": "python",
     "metadata": {},
     "outputs": [
      {
       "output_type": "pyout",
       "prompt_number": 81,
       "text": [
        "30"
       ]
      }
     ],
     "prompt_number": 81
    },
    {
     "cell_type": "markdown",
     "metadata": {},
     "source": [
      "The basic operations can be used to operate on a particular axis of an\n",
      "n-dimensional array."
     ]
    },
    {
     "cell_type": "code",
     "collapsed": false,
     "input": [
      "a.max(1)"
     ],
     "language": "python",
     "metadata": {},
     "outputs": [
      {
       "output_type": "pyout",
       "prompt_number": 85,
       "text": [
        "array([ 3,  7, 11, 15])"
       ]
      }
     ],
     "prompt_number": 85
    },
    {
     "cell_type": "code",
     "collapsed": false,
     "input": [
      "a.T.max(0)"
     ],
     "language": "python",
     "metadata": {},
     "outputs": [
      {
       "output_type": "pyout",
       "prompt_number": 87,
       "text": [
        "array([ 3,  7, 11, 15])"
       ]
      }
     ],
     "prompt_number": 87
    },
    {
     "cell_type": "markdown",
     "metadata": {},
     "source": [
      "Matrices\n",
      "--------\n",
      "\n",
      "So far, we've used two-dimensional arrays to represent matrix-like\n",
      "objects. However, NumPy provides a specialized class for this. The\n",
      "matrix class is almost identical to a two-dimensional NumPy array, but\n",
      "has a few changes to the interface to simplify common linear algebraic\n",
      "tasks. These are:\n",
      "\n",
      "* The `*` operator is performs matrix multiplication\n",
      "\n",
      "* The `**` operator performs matrix exponentiation\n",
      "\n",
      "* The property `.I` (or the method `.getI()`) returns the matrix inverse\n",
      "\n",
      "* The property `.H` (or the method `.getH()`) returns the conjugate transpose"
     ]
    },
    {
     "cell_type": "markdown",
     "metadata": {},
     "source": [
      "### Example: Solving a System of Linear Equations"
     ]
    },
    {
     "cell_type": "code",
     "collapsed": false,
     "input": [
      "import numpy.linalg\n",
      "A = numpy.matrix([\n",
      "    [3, 2, -1], \n",
      "    [2, -2, 4], \n",
      "    [-1, .5, -1]\n",
      "])\n",
      "b = numpy.array([1, -2, 0])\n",
      "numpy.linalg.solve(A, b)"
     ],
     "language": "python",
     "metadata": {},
     "outputs": [
      {
       "output_type": "pyout",
       "prompt_number": 89,
       "text": [
        "array([ 1., -2., -2.])"
       ]
      }
     ],
     "prompt_number": 89
    },
    {
     "cell_type": "markdown",
     "metadata": {},
     "source": [
      "Universal Functions\n",
      "===================\n",
      "\n",
      "Universal functions (also called ufuncs) are high-speed, element-wise\n",
      "operations on NumPy arrays. They are, in essence, what allows you to\n",
      "operate on NumPy arrays efficiently. There are a large number of\n",
      "universal functions available covering most of the basic operations that\n",
      "get performed on data, like addition, subtraction, logarithms, and so\n",
      "on. Calling a ufunc is a simple matter:"
     ]
    },
    {
     "cell_type": "code",
     "collapsed": false,
     "input": [
      "a = numpy.arange(1,10)\n",
      "np.log10(a)"
     ],
     "language": "python",
     "metadata": {},
     "outputs": [
      {
       "output_type": "pyout",
       "prompt_number": 91,
       "text": [
        "array([ 0.        ,  0.30103   ,  0.47712125,  0.60205999,  0.69897   ,\n",
        "        0.77815125,  0.84509804,  0.90308999,  0.95424251])"
       ]
      }
     ],
     "prompt_number": 91
    },
    {
     "cell_type": "markdown",
     "metadata": {},
     "source": [
      "### Exercise : Elementwise Operations\n",
      "\n",
      "Using ufuncs, calculate the reciprocals of each element in an\n",
      "array of floats."
     ]
    },
    {
     "cell_type": "code",
     "collapsed": false,
     "input": [],
     "language": "python",
     "metadata": {},
     "outputs": []
    },
    {
     "cell_type": "markdown",
     "metadata": {},
     "source": [
      "Creating NumPy Arrays from a CSV Data File\n",
      "------------------------------------------"
     ]
    },
    {
     "cell_type": "code",
     "collapsed": false,
     "input": [
      "!more decay_data.csv\n"
     ],
     "language": "python",
     "metadata": {},
     "outputs": [
      {
       "output_type": "stream",
       "stream": "stdout",
       "text": [
        "Sample,Time [min],Activity [GBq]\n",
        "1,5,987\n",
        "2,8,874\n",
        "3,11,852\n",
        "4,15,821\n",
        "5,17,735\n",
        "6,21,712\n",
        "7,26,666\n",
        "8,35,642\n",
        "9,48,601\n",
        "10,59,589\n",
        "11,75,522\n"
       ]
      }
     ],
     "prompt_number": 99
    },
    {
     "cell_type": "code",
     "collapsed": false,
     "input": [
      "data = np.genfromtxt('decay_data.csv', delimiter=',', names=True, dtype=['i4', 'f8', 'f8'])\n",
      "data"
     ],
     "language": "python",
     "metadata": {},
     "outputs": [
      {
       "output_type": "pyout",
       "prompt_number": 101,
       "text": [
        "array([(1, 5.0, 987.0), (2, 8.0, 874.0), (3, 11.0, 852.0),\n",
        "       (4, 15.0, 821.0), (5, 17.0, 735.0), (6, 21.0, 712.0),\n",
        "       (7, 26.0, 666.0), (8, 35.0, 642.0), (9, 48.0, 601.0),\n",
        "       (10, 59.0, 589.0), (11, 75.0, 522.0)], \n",
        "      dtype=[('Sample', '<i4'), ('Time_min', '<f8'), ('Activity_GBq', '<f8')])"
       ]
      }
     ],
     "prompt_number": 101
    },
    {
     "cell_type": "code",
     "collapsed": false,
     "input": [
      "data['Activity_GBq']\n"
     ],
     "language": "python",
     "metadata": {},
     "outputs": [
      {
       "output_type": "pyout",
       "prompt_number": 103,
       "text": [
        "array([ 987.,  874.,  852.,  821.,  735.,  712.,  666.,  642.,  601.,\n",
        "        589.,  522.])"
       ]
      }
     ],
     "prompt_number": 103
    }
   ],
   "metadata": {}
  }
 ]
}