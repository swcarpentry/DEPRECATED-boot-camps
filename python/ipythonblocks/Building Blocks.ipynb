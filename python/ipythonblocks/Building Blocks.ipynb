{
 "metadata": {
  "name": "Building Blocks"
 },
 "nbformat": 3,
 "nbformat_minor": 0,
 "worksheets": [
  {
   "cells": [
    {
     "cell_type": "markdown",
     "metadata": {},
     "source": [
      "After going through this set of exercises you will know how to read text files with Python, do some common operations on strings, and encapsulate code for reuse in functions."
     ]
    },
    {
     "cell_type": "code",
     "collapsed": false,
     "input": [
      "from ipythonblocks import BlockGrid"
     ],
     "language": "python",
     "metadata": {},
     "outputs": []
    }
   ],
   "metadata": {}
  }
 ]
}