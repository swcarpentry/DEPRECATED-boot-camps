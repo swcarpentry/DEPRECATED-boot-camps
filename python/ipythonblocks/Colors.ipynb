{
 "metadata": {
  "name": "Colors"
 },
 "nbformat": 3,
 "nbformat_minor": 0,
 "worksheets": [
  {
   "cells": [
    {
     "cell_type": "heading",
     "level": 1,
     "metadata": {},
     "source": [
      "Understanding RGB Colors"
     ]
    },
    {
     "cell_type": "markdown",
     "metadata": {},
     "source": [
      "The goal in this notebook is to help you understand how to manipulate [RGB color values](http://en.wikipedia.org/wiki/RGB_color_model) to make a desired color."
     ]
    },
    {
     "cell_type": "code",
     "collapsed": false,
     "input": [
      "from ipythonblocks import show_color, embed_colorpicker, colors"
     ],
     "language": "python",
     "metadata": {},
     "outputs": []
    },
    {
     "cell_type": "markdown",
     "metadata": {},
     "source": [
      "**Exercise:** Use the `show_color` function to make approximately the following colors:\n",
      "\n",
      "<ul>\n",
      "    <li style=\"background: rgb(0, 0, 150);\"></li>\n",
      "    <li style=\"background: rgb(250, 100, 50);\"></li>\n",
      "    <li style=\"background: rgb(200, 0, 150);\"></li>\n",
      "    <li>Your favorite color.</li>\n",
      "</ul>"
     ]
    },
    {
     "cell_type": "code",
     "collapsed": false,
     "input": [],
     "language": "python",
     "metadata": {},
     "outputs": []
    }
   ],
   "metadata": {}
  }
 ]
}