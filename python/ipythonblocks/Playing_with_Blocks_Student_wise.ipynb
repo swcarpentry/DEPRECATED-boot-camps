{
 "metadata": {
  "name": "Playing_with_Blocks_Instr_wise"
 },
 "nbformat": 3,
 "nbformat_minor": 0,
 "worksheets": [
  {
   "cells": [
    {
     "cell_type": "markdown",
     "metadata": {},
     "source": [
      "After working through the exercises in this notebook you should be familiar with Python variables, indexing, [for loops][for], and [if statements][if].\n",
      "\n",
      "[for]: http://docs.python.org/2/reference/compound_stmts.html#the-for-statement\n",
      "[if]: http://docs.python.org/2/reference/compound_stmts.html#the-if-statement"
     ]
    },
    {
     "cell_type": "code",
     "collapsed": false,
     "input": [
      "from ipythonblocks import BlockGrid, colors"
     ],
     "language": "python",
     "metadata": {},
     "outputs": []
    },
    {
     "cell_type": "code",
     "collapsed": false,
     "input": [
      "BlockGrid(5, 5, fill=colors['Blue'])"
     ],
     "language": "python",
     "metadata": {},
     "outputs": []
    },
    {
     "cell_type": "code",
     "collapsed": false,
     "input": [
      "colors['Blue']"
     ],
     "language": "python",
     "metadata": {},
     "outputs": []
    },
    {
     "cell_type": "code",
     "collapsed": false,
     "input": [
      "grid = BlockGrid(5, 5, fill=colors['Blue'])"
     ],
     "language": "python",
     "metadata": {},
     "outputs": []
    },
    {
     "cell_type": "code",
     "collapsed": false,
     "input": [
      "grid"
     ],
     "language": "python",
     "metadata": {},
     "outputs": []
    },
    {
     "cell_type": "code",
     "collapsed": false,
     "input": [
      "square0 = grid[0, 0]"
     ],
     "language": "python",
     "metadata": {},
     "outputs": []
    },
    {
     "cell_type": "code",
     "collapsed": false,
     "input": [
      "square0"
     ],
     "language": "python",
     "metadata": {},
     "outputs": []
    },
    {
     "cell_type": "code",
     "collapsed": false,
     "input": [
      "square0.rgb = colors['Red']"
     ],
     "language": "python",
     "metadata": {},
     "outputs": []
    },
    {
     "cell_type": "code",
     "collapsed": false,
     "input": [
      "grid"
     ],
     "language": "python",
     "metadata": {},
     "outputs": []
    },
    {
     "cell_type": "code",
     "collapsed": false,
     "input": [
      "square24 = grid[2, 4]\n",
      "square24.rgb = colors['Black']\n",
      "grid"
     ],
     "language": "python",
     "metadata": {},
     "outputs": []
    },
    {
     "cell_type": "code",
     "collapsed": false,
     "input": [
      "block = grid[-1, -1]\n",
      "block.rgb = colors['Yellow']\n",
      "grid"
     ],
     "language": "python",
     "metadata": {},
     "outputs": []
    },
    {
     "cell_type": "code",
     "collapsed": false,
     "input": [
      "block = grid[-5, -5]\n",
      "block.rgb = colors['Green']\n",
      "grid"
     ],
     "language": "python",
     "metadata": {},
     "outputs": []
    },
    {
     "cell_type": "code",
     "collapsed": false,
     "input": [
      "block = grid[-4, -5]\n",
      "block.rgb = colors['White']\n",
      "grid"
     ],
     "language": "python",
     "metadata": {},
     "outputs": []
    },
    {
     "cell_type": "code",
     "collapsed": false,
     "input": [
      "for block in grid:\n",
      "    block.rgb = colors['Orange']\n",
      "grid"
     ],
     "language": "python",
     "metadata": {},
     "outputs": []
    },
    {
     "cell_type": "code",
     "collapsed": false,
     "input": [
      "for block in grid.animate:\n",
      "    block.rgb = colors['SkyBlue']"
     ],
     "language": "python",
     "metadata": {},
     "outputs": []
    },
    {
     "cell_type": "code",
     "collapsed": false,
     "input": [
      "for block in grid.animate:\n",
      "    if block.row == 2:\n",
      "        block.rgb = colors['LightSalmon']"
     ],
     "language": "python",
     "metadata": {},
     "outputs": []
    },
    {
     "cell_type": "code",
     "collapsed": false,
     "input": [
      "for block in grid.animate:\n",
      "    if block.row == 0:\n",
      "        block.rgb = colors['Black']\n",
      "    elif block.row == 2:\n",
      "        block.rgb = colors['White']\n",
      "    else:\n",
      "        block.rgb = colors['Blue']"
     ],
     "language": "python",
     "metadata": {},
     "outputs": []
    },
    {
     "cell_type": "code",
     "collapsed": false,
     "input": [
      "for block in grid.animate:\n",
      "    if block.col == 2 or block.col == 4:\n",
      "        block.rgb = colors['Crimson']"
     ],
     "language": "python",
     "metadata": {},
     "outputs": []
    },
    {
     "cell_type": "code",
     "collapsed": false,
     "input": [
      "for block in grid.animate:\n",
      "    if block.row == 0 or block.row == 4:\n",
      "        block.rgb = colors['Black']"
     ],
     "language": "python",
     "metadata": {},
     "outputs": []
    },
    {
     "cell_type": "code",
     "collapsed": false,
     "input": [
      "for block in grid.animate:\n",
      "    if block.red == 0 and block.green == 0 and block.blue == 0:\n",
      "        block.green = 255"
     ],
     "language": "python",
     "metadata": {},
     "outputs": []
    },
    {
     "cell_type": "code",
     "collapsed": false,
     "input": [
      "range(2, 5, 2)"
     ],
     "language": "python",
     "metadata": {},
     "outputs": []
    },
    {
     "cell_type": "code",
     "collapsed": false,
     "input": [
      "for i in range(grid.width):\n",
      "    block = grid[2, i]\n",
      "    block.rgb = colors['Black']\n",
      "grid.show()"
     ],
     "language": "python",
     "metadata": {},
     "outputs": []
    },
    {
     "cell_type": "code",
     "collapsed": false,
     "input": [
      "grid = BlockGrid(20, 20)"
     ],
     "language": "python",
     "metadata": {},
     "outputs": []
    },
    {
     "cell_type": "code",
     "collapsed": false,
     "input": [
      "for i in range(grid.width):\n",
      "    grid[4, i].rgb = colors['Red']\n",
      "    grid[11, i].rgb = colors['Red']\n",
      "    grid[19, i].rgb = colors['Red']"
     ],
     "language": "python",
     "metadata": {},
     "outputs": []
    },
    {
     "cell_type": "code",
     "collapsed": false,
     "input": [
      "grid"
     ],
     "language": "python",
     "metadata": {},
     "outputs": []
    },
    {
     "cell_type": "code",
     "collapsed": false,
     "input": [
      "for c in range(grid.width):\n",
      "    for r in (4, 11, 19):\n",
      "        grid[r, c].rgb = colors['Green']\n",
      "        grid.flash()\n",
      "grid"
     ],
     "language": "python",
     "metadata": {},
     "outputs": []
    },
    {
     "cell_type": "code",
     "collapsed": false,
     "input": [
      "for row in range(10, grid.height):\n",
      "    for col in range(10):\n",
      "        grid[row, col].rgb = colors['Crimson']\n",
      "        grid.flash()\n",
      "grid"
     ],
     "language": "python",
     "metadata": {},
     "outputs": []
    },
    {
     "cell_type": "code",
     "collapsed": false,
     "input": [
      "grid[1:5, :] = colors['SlateBlue']"
     ],
     "language": "python",
     "metadata": {},
     "outputs": []
    },
    {
     "cell_type": "code",
     "collapsed": false,
     "input": [
      "grid"
     ],
     "language": "python",
     "metadata": {},
     "outputs": []
    },
    {
     "cell_type": "code",
     "collapsed": false,
     "input": [],
     "language": "python",
     "metadata": {},
     "outputs": []
    }
   ],
   "metadata": {}
  }
 ]
}