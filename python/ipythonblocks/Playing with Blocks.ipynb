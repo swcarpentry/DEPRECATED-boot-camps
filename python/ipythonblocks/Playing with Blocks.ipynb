{
 "metadata": {
  "name": "Playing with Blocks"
 },
 "nbformat": 3,
 "nbformat_minor": 0,
 "worksheets": [
  {
   "cells": [
    {
     "cell_type": "markdown",
     "metadata": {},
     "source": [
      "After working through the exercises in this notebook you should be familiar with Python variables, indexing, [for loops][for], and [if statements][if].\n",
      "\n",
      "[for]: http://docs.python.org/2/reference/compound_stmts.html#the-for-statement\n",
      "[if]: http://docs.python.org/2/reference/compound_stmts.html#the-if-statement"
     ]
    },
    {
     "cell_type": "code",
     "collapsed": false,
     "input": [
      "from ipythonblocks import BlockGrid, colors"
     ],
     "language": "python",
     "metadata": {},
     "outputs": []
    }
   ],
   "metadata": {}
  }
 ]
}