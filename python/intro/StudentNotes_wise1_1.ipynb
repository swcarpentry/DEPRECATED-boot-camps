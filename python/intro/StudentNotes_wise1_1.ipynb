{
 "metadata": {
  "name": "PresenterNotes_wise1_1"
 },
 "nbformat": 3,
 "nbformat_minor": 0,
 "worksheets": [
  {
   "cells": [
    {
     "cell_type": "markdown",
     "metadata": {},
     "source": [
      "# Outline\n",
      "## Shell commands in ipython\n",
      "## Python as a calculator\n",
      "* Math\n",
      "* Basic Types\n",
      "* Variables/print\n",
      "\n",
      "##Writing your own python\n",
      "* Containers\n",
      "* Control statements\n",
      "** If/Then\n",
      "** For\n",
      "\n",
      "## Intro to python modules\n",
      "* Python modules\n",
      "\n",
      "## I/O\n",
      "* Reading files\n",
      "* Writing a function to a file\n",
      "\n",
      "## Outside ipython\n",
      "* Calling python from the command line\n",
      "\n",
      "---"
     ]
    },
    {
     "cell_type": "markdown",
     "metadata": {},
     "source": [
      "# Shell commands in ipython\n",
      "***************************\n",
      "\n",
      "In ipython you can use the shell commands you learned earlier this morning to navigate your directory tree (this is one of the reasons I like to use ipython). In a standard python interpreter, you cannot use these commands. We will learn the equivalent python commands shortly."
     ]
    },
    {
     "cell_type": "code",
     "collapsed": false,
     "input": [
      "#go to directory ~/bootcamps/python/intro"
     ],
     "language": "python",
     "metadata": {},
     "outputs": []
    },
    {
     "cell_type": "code",
     "collapsed": false,
     "input": [
      "cd ~/boot-camps/python/intro"
     ],
     "language": "python",
     "metadata": {},
     "outputs": []
    },
    {
     "cell_type": "code",
     "collapsed": false,
     "input": [
      "#list file names and directory names"
     ],
     "language": "python",
     "metadata": {},
     "outputs": []
    },
    {
     "cell_type": "code",
     "collapsed": false,
     "input": [
      "ls"
     ],
     "language": "python",
     "metadata": {},
     "outputs": []
    },
    {
     "cell_type": "code",
     "collapsed": false,
     "input": [
      "#get current working directory"
     ],
     "language": "python",
     "metadata": {},
     "outputs": []
    },
    {
     "cell_type": "code",
     "collapsed": false,
     "input": [
      "pwd"
     ],
     "language": "python",
     "metadata": {},
     "outputs": []
    },
    {
     "cell_type": "code",
     "collapsed": false,
     "input": [
      "#make directory - test_dir"
     ],
     "language": "python",
     "metadata": {},
     "outputs": []
    },
    {
     "cell_type": "code",
     "collapsed": false,
     "input": [
      "mkdir test_dir"
     ],
     "language": "python",
     "metadata": {},
     "outputs": []
    },
    {
     "cell_type": "code",
     "collapsed": false,
     "input": [
      "#list file names and directory names again, notice you added one called test_dir"
     ],
     "language": "python",
     "metadata": {},
     "outputs": []
    },
    {
     "cell_type": "code",
     "collapsed": false,
     "input": [
      "ls"
     ],
     "language": "python",
     "metadata": {},
     "outputs": []
    },
    {
     "cell_type": "markdown",
     "metadata": {},
     "source": [
      "***\n",
      "# Python as a calculator\n",
      "***\n",
      "Another familiar tool that you can replace with python is a calculator. At its most basic, python can add, subtract, multiply, and divide. We will also look at exponents and modulus"
     ]
    },
    {
     "cell_type": "code",
     "collapsed": false,
     "input": [
      "#Add\n",
      "5+4"
     ],
     "language": "python",
     "metadata": {},
     "outputs": []
    },
    {
     "cell_type": "code",
     "collapsed": false,
     "input": [
      "#Subtract\n",
      "6-2"
     ],
     "language": "python",
     "metadata": {},
     "outputs": []
    },
    {
     "cell_type": "code",
     "collapsed": false,
     "input": [
      "#Multiply\n",
      "7*6"
     ],
     "language": "python",
     "metadata": {},
     "outputs": []
    },
    {
     "cell_type": "code",
     "collapsed": false,
     "input": [
      "#Divide\n",
      "42/6"
     ],
     "language": "python",
     "metadata": {},
     "outputs": []
    },
    {
     "cell_type": "markdown",
     "metadata": {},
     "source": [
      "6 divides evenly into 42, what if we chose a number which wasn't evenly divisible by 6"
     ]
    },
    {
     "cell_type": "code",
     "collapsed": false,
     "input": [
      "46/6"
     ],
     "language": "python",
     "metadata": {},
     "outputs": []
    },
    {
     "cell_type": "code",
     "collapsed": false,
     "input": [
      "#What if I put in decimal points?\n",
      "46./6"
     ],
     "language": "python",
     "metadata": {},
     "outputs": []
    },
    {
     "cell_type": "markdown",
     "metadata": {},
     "source": [
      "**Integer division in Python 2 and Python 3**\n",
      "\n",
      "An integer/integer = integer is called integer division. In Python 2.X this is the default behavior for dividing two integers. In Python 3, you must explicitly denote integer division using // instead of /. Python 2.7 understands the // notation and I suggest using it anytime you mean integer division. Note that the behavior is to truncate, not round."
     ]
    },
    {
     "cell_type": "code",
     "collapsed": false,
     "input": [
      "#Exponent (fortran notation)\n",
      "3**2"
     ],
     "language": "python",
     "metadata": {},
     "outputs": []
    },
    {
     "cell_type": "code",
     "collapsed": false,
     "input": [
      "3**0.5"
     ],
     "language": "python",
     "metadata": {},
     "outputs": []
    },
    {
     "cell_type": "code",
     "collapsed": false,
     "input": [
      "#Modulus\n",
      "10%2"
     ],
     "language": "python",
     "metadata": {},
     "outputs": []
    },
    {
     "cell_type": "code",
     "collapsed": false,
     "input": [
      "11%2"
     ],
     "language": "python",
     "metadata": {},
     "outputs": []
    },
    {
     "cell_type": "markdown",
     "metadata": {},
     "source": [
      "*Note*: Using a #mod2 is the quickest way to determine even and odd numbers in python"
     ]
    },
    {
     "cell_type": "markdown",
     "metadata": {},
     "source": [
      "***\n",
      "# Basic Types\n",
      "***\n",
      "We've just seen examples of integers and floating point numbers. Now we will also look at strings and booleans. As we say with division, the same operation can produce a different result when acting on a different type."
     ]
    },
    {
     "cell_type": "code",
     "collapsed": false,
     "input": [
      "#integer (no decimal)\n",
      "4"
     ],
     "language": "python",
     "metadata": {},
     "outputs": []
    },
    {
     "cell_type": "code",
     "collapsed": false,
     "input": [
      "#Floating point (with decimal).\n",
      "4.0"
     ],
     "language": "python",
     "metadata": {},
     "outputs": []
    },
    {
     "cell_type": "markdown",
     "metadata": {},
     "source": [
      "*Note:* Python floating point numbers a double precision by default"
     ]
    },
    {
     "cell_type": "code",
     "collapsed": false,
     "input": [
      "#string\n",
      "'Hello Software Capentry'"
     ],
     "language": "python",
     "metadata": {},
     "outputs": []
    },
    {
     "cell_type": "markdown",
     "metadata": {},
     "source": [
      "*Note:* You can use single or double quotes to denote a string. The only rule is that you must close with the same type you started with"
     ]
    },
    {
     "cell_type": "code",
     "collapsed": false,
     "input": [
      "#Double quotes:\n",
      "\"Hello Software Capentry\""
     ],
     "language": "python",
     "metadata": {},
     "outputs": []
    },
    {
     "cell_type": "code",
     "collapsed": false,
     "input": [
      "#Boolean: True or False - no quotes\n",
      "True"
     ],
     "language": "python",
     "metadata": {},
     "outputs": []
    },
    {
     "cell_type": "markdown",
     "metadata": {},
     "source": [
      "**Reserved Words**\n",
      "\n",
      "There are some words in python that have meaning as soon as you start typing code. Why Python will happily let you redefine these, you should avoid it. <code>True</code> and <code>False</code> are examples of reserved words. Notice that you do not have to put them in quotes. <code>'True'</code> is just a string to python, however <code>True</code> is a boolean.\n",
      "\n",
      "Here is a good starting list of reserved words (a.k.a keywords) <a href = \"http://docs.python.org/2/reference/lexical_analysis.html#keywords\" target = \"blank\">http://docs.python.org/2/reference/lexical_analysis.html#keywords</a>"
     ]
    },
    {
     "cell_type": "code",
     "collapsed": false,
     "input": [
      "#You can find out what type an object is by typing type(object)\n",
      "type(4)"
     ],
     "language": "python",
     "metadata": {},
     "outputs": []
    },
    {
     "cell_type": "code",
     "collapsed": false,
     "input": [
      "type('hello')"
     ],
     "language": "python",
     "metadata": {},
     "outputs": []
    },
    {
     "cell_type": "markdown",
     "metadata": {},
     "source": [
      "***\n",
      "# Exercise 1:\n",
      "1. Calculate the mean of 2, 3, and 10\n",
      "2. Try multipying each type by 2, how does the meaning of multiplication differ for an integer, a floating point, a string, and a boolean? Do you notice different behavior if 2 is an integer or a floating point? What about addition?\n",
      "3. (optional - if you finish early) Try division and subtraction. \n",
      "\n",
      "***"
     ]
    },
    {
     "cell_type": "markdown",
     "metadata": {},
     "source": [
      "***\n",
      "#Assigning and Viewing Variables\n",
      "***\n",
      "\n",
      "So far, python has printed back exactly what we input, but what if you want to save a value to be used later?"
     ]
    },
    {
     "cell_type": "code",
     "collapsed": false,
     "input": [
      "#Assigning a variable. Notice it doesn't output (print) anything\n",
      "a = 2"
     ],
     "language": "python",
     "metadata": {},
     "outputs": []
    },
    {
     "cell_type": "code",
     "collapsed": false,
     "input": [
      "#Variables are case sensitivity and cannot begin with a number\n",
      "b = 3\n",
      "B = 4"
     ],
     "language": "python",
     "metadata": {},
     "outputs": []
    },
    {
     "cell_type": "code",
     "collapsed": false,
     "input": [
      "#Viewing variables\n",
      "print a"
     ],
     "language": "python",
     "metadata": {},
     "outputs": []
    },
    {
     "cell_type": "code",
     "collapsed": false,
     "input": [
      "#printing more than one item\n",
      "print b,B"
     ],
     "language": "python",
     "metadata": {},
     "outputs": []
    },
    {
     "cell_type": "markdown",
     "metadata": {},
     "source": [
      "*Note:* In python 3, printing will change to look like this <code>print(b)</code>. "
     ]
    },
    {
     "cell_type": "code",
     "collapsed": false,
     "input": [
      "#Variables behave just like the types they represent\n",
      "print a+b\n",
      "print b*B"
     ],
     "language": "python",
     "metadata": {},
     "outputs": []
    },
    {
     "cell_type": "code",
     "collapsed": false,
     "input": [
      "c = 'abc'\n",
      "d = c*3\n",
      "print d"
     ],
     "language": "python",
     "metadata": {},
     "outputs": []
    },
    {
     "cell_type": "markdown",
     "metadata": {},
     "source": [
      "***\n",
      "# Containers\n",
      "***\n",
      "\n",
      "Now let's get into containers that can hold sets of things. *Note:* Python is zero indexed\n",
      "\n",
      "Python has lists, dictionaries, tuples and sets\n",
      "We'll focus on lists and some on dictionaries today"
     ]
    },
    {
     "cell_type": "markdown",
     "metadata": {},
     "source": [
      "##Lists\n",
      "* ordered\n",
      "* can mix object types\n",
      "* mutable\n",
      "* defined with square brackets\n",
      "* *Note:* list is a reserved word."
     ]
    },
    {
     "cell_type": "code",
     "collapsed": false,
     "input": [
      "#Defining a list\n",
      "my_list = [2, 'Apples', 3.0, 'oranges', True]"
     ],
     "language": "python",
     "metadata": {},
     "outputs": []
    },
    {
     "cell_type": "code",
     "collapsed": false,
     "input": [
      "my_list"
     ],
     "language": "python",
     "metadata": {},
     "outputs": []
    },
    {
     "cell_type": "code",
     "collapsed": false,
     "input": [
      "#How many items are in list\n",
      "len(my_list)"
     ],
     "language": "python",
     "metadata": {},
     "outputs": []
    },
    {
     "cell_type": "code",
     "collapsed": false,
     "input": [
      "#Selecting an item in a list\n",
      "my_list[2]"
     ],
     "language": "python",
     "metadata": {},
     "outputs": []
    },
    {
     "cell_type": "code",
     "collapsed": false,
     "input": [
      "my_list[4]"
     ],
     "language": "python",
     "metadata": {},
     "outputs": []
    },
    {
     "cell_type": "code",
     "collapsed": false,
     "input": [
      "#Selecting multiple items in a list - this is called slicing\n",
      "my_list[1:3]"
     ],
     "language": "python",
     "metadata": {},
     "outputs": []
    },
    {
     "cell_type": "markdown",
     "metadata": {},
     "source": [
      "*Note:* Python includes the item corresponding to the start index and excludes the item corresponding the end index"
     ]
    },
    {
     "cell_type": "code",
     "collapsed": false,
     "input": [
      "#implicitly starting at the beginning\n",
      "my_list[:2]"
     ],
     "language": "python",
     "metadata": {},
     "outputs": []
    },
    {
     "cell_type": "code",
     "collapsed": false,
     "input": [
      "#inplicitly going to the end\n",
      "my_list[2:]"
     ],
     "language": "python",
     "metadata": {},
     "outputs": []
    },
    {
     "cell_type": "code",
     "collapsed": false,
     "input": [
      "#Negative indexing: Indexing from the end of the array\n",
      "print my_list[-1]\n"
     ],
     "language": "python",
     "metadata": {},
     "outputs": []
    },
    {
     "cell_type": "code",
     "collapsed": false,
     "input": [
      "print my_list[-2]"
     ],
     "language": "python",
     "metadata": {},
     "outputs": []
    },
    {
     "cell_type": "markdown",
     "metadata": {},
     "source": [
      "***\n",
      "###Exercise 2\n",
      "1. Make a list with 6 items in it\n",
      "2. print item 4 to the screen\n",
      "3. print a sublist containing the 3rd, 4th, and 5th item in the list\n",
      "4. Experiment with multiplication and addition on list. How do these operations act on lists?\n",
      "\n",
      "***"
     ]
    },
    {
     "cell_type": "markdown",
     "metadata": {},
     "source": [
      "***\n",
      "#If Statements\n",
      "***\n",
      "\n",
      "Blocks of code in python are identified by having the same indentation level. Therefore, the beginning spacing of a line is very important."
     ]
    },
    {
     "cell_type": "code",
     "collapsed": false,
     "input": [
      "x = 5\n",
      "if x < 0:\n",
      "    print \"x is negative\"\n",
      "    \n"
     ],
     "language": "python",
     "metadata": {},
     "outputs": []
    },
    {
     "cell_type": "markdown",
     "metadata": {},
     "source": [
      "*Note:* that ipython auto-indents after the colon. To write something outside the if statement, you have to un-indent"
     ]
    },
    {
     "cell_type": "code",
     "collapsed": false,
     "input": [
      "x = -5\n",
      "if x < 0:\n",
      "    print \"x is negative\"\n",
      "print \"x = \", x"
     ],
     "language": "python",
     "metadata": {},
     "outputs": []
    },
    {
     "cell_type": "code",
     "collapsed": false,
     "input": [
      "x = -5\n"
     ],
     "language": "python",
     "metadata": {},
     "outputs": []
    },
    {
     "cell_type": "code",
     "collapsed": false,
     "input": [
      "#Adding an else statement\n",
      "x = 5 \n",
      "if x < 0:\n",
      "    print \"x is negative\"\n",
      "else:\n",
      "    print \"x is non-negative\"\n",
      "print \"x = \", x"
     ],
     "language": "python",
     "metadata": {},
     "outputs": []
    },
    {
     "cell_type": "code",
     "collapsed": false,
     "input": [
      "#Adding an else if\n",
      "x = 5\n",
      "if x < 0:\n",
      "    print \"x is negative\"\n",
      "elif x == 0:\n",
      "    print \"x is zero\"\n",
      "else:\n",
      "    print \"x is positive\"\n",
      "print \"x = \", x"
     ],
     "language": "python",
     "metadata": {},
     "outputs": []
    },
    {
     "cell_type": "markdown",
     "metadata": {},
     "source": [
      "***\n",
      "#Exercise 3\n",
      "1. Write an if statement that prints whether x is even or odd (hint: remember the modulus)\n",
      "\n",
      "***"
     ]
    },
    {
     "cell_type": "markdown",
     "metadata": {},
     "source": [
      "***\n",
      "#Looping\n",
      "***"
     ]
    },
    {
     "cell_type": "code",
     "collapsed": false,
     "input": [
      "fruit_list = ['apples', 'oranges', 'pears']\n",
      "for fruit in fruit_list:  #Fruit can be anything\n",
      "    print fruit"
     ],
     "language": "python",
     "metadata": {},
     "outputs": []
    },
    {
     "cell_type": "markdown",
     "metadata": {},
     "source": [
      "*Note:* fruit actually represents each fruit, it does not represent the index number of the fruit. Python is object oriented. In this case each fruit is an object."
     ]
    },
    {
     "cell_type": "code",
     "collapsed": false,
     "input": [
      "#If you need the index\n",
      "for i in range(len(fruit_list)):\n",
      "    print fruit_list[i]  #here i is an index"
     ],
     "language": "python",
     "metadata": {},
     "outputs": []
    },
    {
     "cell_type": "code",
     "collapsed": false,
     "input": [
      "#What if we want to loop over 2 different lists?\n",
      "price_list = [0.49, 0.99, 1.49]\n",
      "\n",
      "#The non-python way:\n",
      "for i in range(len(fruit_list)):\n",
      "    print fruit_list[i], price_list[i]"
     ],
     "language": "python",
     "metadata": {},
     "outputs": []
    },
    {
     "cell_type": "code",
     "collapsed": false,
     "input": [
      "#The python way\n",
      "for fruit, price in zip(fruit_list, price_list):\n",
      "    print fruit, price"
     ],
     "language": "python",
     "metadata": {},
     "outputs": []
    },
    {
     "cell_type": "code",
     "collapsed": false,
     "input": [
      "#In a dictionary:\n",
      "#.items returns a tuple which is unpacked into the variables fruit and price\n",
      "fruit_prices = {'apple':0.49, 'orange':0.99, 'pear':1.49}\n",
      "for fruit, price in fruit_prices.items():\n",
      "    print fruit, \"costs\", price"
     ],
     "language": "python",
     "metadata": {},
     "outputs": []
    },
    {
     "cell_type": "code",
     "collapsed": false,
     "input": [],
     "language": "python",
     "metadata": {},
     "outputs": []
    },
    {
     "cell_type": "markdown",
     "metadata": {},
     "source": [
      "***\n",
      "#Exercise 4:\n",
      "1. Using a loop, find the mean of [3.0, 4.0, 5.0, 2.0, 8.0, 10.0, 14.0, 16.0, 29.0]\n",
      "\n",
      "***"
     ]
    },
    {
     "cell_type": "markdown",
     "metadata": {},
     "source": [
      "***\n",
      "#Modules \n",
      "example: math\n",
      "***\n",
      "\n",
      "Lots of useful things have already been written for Python. One of python's greatest strengths is the ability to import modules. A module is a collection of functions and other python objects. You gain access to these objects by importing them."
     ]
    },
    {
     "cell_type": "code",
     "collapsed": false,
     "input": [
      "import numpy"
     ],
     "language": "python",
     "metadata": {},
     "outputs": []
    },
    {
     "cell_type": "markdown",
     "metadata": {},
     "source": [
      "###Getting information about modules and functions:\n",
      "* dir(numpy)\n",
      "* numpy. < tab > \n",
      "* website: numpy module: <a href = \"http://www.numpy.org\" target = \"blank\">http://www.numpy.org</a>\n",
      "* web (google, stack overflow, etc)"
     ]
    },
    {
     "cell_type": "code",
     "collapsed": false,
     "input": [
      "dir(numpy)"
     ],
     "language": "python",
     "metadata": {},
     "outputs": []
    },
    {
     "cell_type": "code",
     "collapsed": false,
     "input": [
      "numpy.mean(price_list)"
     ],
     "language": "python",
     "metadata": {},
     "outputs": []
    },
    {
     "cell_type": "markdown",
     "metadata": {},
     "source": [
      "There are a lot of other modules you can import that are very useful.  We're going to play with one to do some more work with loops."
     ]
    },
    {
     "cell_type": "markdown",
     "metadata": {},
     "source": [
      "#Go to the IPythonBlocks_Student.ipynb file"
     ]
    },
    {
     "cell_type": "raw",
     "metadata": {},
     "source": [
      "  "
     ]
    },
    {
     "cell_type": "markdown",
     "metadata": {},
     "source": [
      "***\n",
      "#Reading text files\n",
      "***\n",
      "This is the most basic way to read text files. If you are reading columns of data, I strongly suggest the numpy function genfromtxt.\n",
      "\n",
      "\n"
     ]
    },
    {
     "cell_type": "raw",
     "metadata": {},
     "source": [
      "First we're going to create a file.  \n",
      "Go to the terminal\n",
      "Navigate to the ~/boot-camps/python/intro directory\n",
      "\n",
      "Open a text editor\n",
      "Create a four column list of things separated by a space\n",
      "\n",
      "e.g.\n",
      "2013-01-22 sunny 10cm 432\n",
      "2013-01-22 sunny 5cm 121\n",
      "\n",
      "(If you don't want to create a file, there's one already there that you can use)"
     ]
    },
    {
     "cell_type": "code",
     "collapsed": false,
     "input": [
      "#Open the file animals.txt in read only mode\n",
      "open_file = open('animals.txt', 'r')"
     ],
     "language": "python",
     "metadata": {},
     "outputs": []
    },
    {
     "cell_type": "code",
     "collapsed": false,
     "input": [
      "#Read all lines of the file into a list where each line is a string\n",
      "all_lines = open_file.readlines()\n",
      "all_lines"
     ],
     "language": "python",
     "metadata": {},
     "outputs": []
    },
    {
     "cell_type": "code",
     "collapsed": false,
     "input": [
      "#Close file\n",
      "open_file.close()"
     ],
     "language": "python",
     "metadata": {},
     "outputs": []
    },
    {
     "cell_type": "code",
     "collapsed": false,
     "input": [
      "all_lines[0]"
     ],
     "language": "python",
     "metadata": {},
     "outputs": []
    },
    {
     "cell_type": "code",
     "collapsed": false,
     "input": [
      "print all_lines[1]"
     ],
     "language": "python",
     "metadata": {},
     "outputs": []
    },
    {
     "cell_type": "markdown",
     "metadata": {},
     "source": [
      "*Note:* Readlines is a function but it doesn't take any input. Instead it is said to *act on* the open file "
     ]
    },
    {
     "cell_type": "code",
     "collapsed": false,
     "input": [
      "#How long is the files\n",
      "print len(all_lines)"
     ],
     "language": "python",
     "metadata": {},
     "outputs": []
    },
    {
     "cell_type": "code",
     "collapsed": false,
     "input": [
      "#Loop through the list\n",
      "for item in all_lines:\n",
      "    print item"
     ],
     "language": "python",
     "metadata": {},
     "outputs": []
    },
    {
     "cell_type": "code",
     "collapsed": false,
     "input": [
      "#This is a string, how do I get a single element? \n",
      "#the split() function acts on strings to produce a list of each \"word\"\n",
      "for iline in all_lines:\n",
      "    print iline.split()\n"
     ],
     "language": "python",
     "metadata": {},
     "outputs": []
    },
    {
     "cell_type": "markdown",
     "metadata": {},
     "source": [
      "*Note:* by default split() splits on blank space, however, you can chose what you want it to split on. In a CSV file, sometimes you may want to split on the comma split(',')"
     ]
    },
    {
     "cell_type": "markdown",
     "metadata": {},
     "source": [
      "*Note:* split returns all strings"
     ]
    },
    {
     "cell_type": "code",
     "collapsed": false,
     "input": [
      "#Convert string to int\n",
      "print int(all_lines[0].split() [3])"
     ],
     "language": "python",
     "metadata": {},
     "outputs": []
    },
    {
     "cell_type": "code",
     "collapsed": false,
     "input": [
      "#Loop over each line, split each line into individual elements (on the white space) and print out the information\n",
      "for iline in all_lines:\n",
      "    d, t, a, n = iline.split()  #unpacking!\n",
      "    print 'Date:', d\n",
      "    print 'Time:', t\n",
      "    print 'Animal:', a\n",
      "    print 'Number:', n\n",
      "    print iline, '\\n'"
     ],
     "language": "python",
     "metadata": {},
     "outputs": []
    },
    {
     "cell_type": "markdown",
     "metadata": {},
     "source": [
      "***\n",
      "#Exercise\n",
      "\n",
      "1. Loop through your list and print out everything that matches one criteria\n",
      "\n",
      "e.g.\n",
      "\n",
      "Print all data lines that have data from 5cm\n",
      "\n",
      "Hint: You will need an if statement"
     ]
    },
    {
     "cell_type": "markdown",
     "metadata": {},
     "source": [
      "#Putting data in to lists"
     ]
    },
    {
     "cell_type": "code",
     "collapsed": false,
     "input": [
      "#Create empty lists to fill\n",
      "date = []\n",
      "time = []\n",
      "animal = []\n",
      "number = []"
     ],
     "language": "python",
     "metadata": {},
     "outputs": []
    },
    {
     "cell_type": "code",
     "collapsed": false,
     "input": [
      "#Loop over each line, split each line into individual elements (on the white space) and print out the information\n",
      "for iline in all_lines:\n",
      "    d, t, a, n = iline.split()  #unpacking!\n",
      "    #print 'Date:', d\n",
      "    date.append(d)\n",
      "    #print 'Time:', t\n",
      "    time.append(t)\n",
      "    #print 'Animal:', a\n",
      "    animal.append(a)\n",
      "    #print 'Number:', n\n",
      "    number.append(n)"
     ],
     "language": "python",
     "metadata": {},
     "outputs": []
    },
    {
     "cell_type": "code",
     "collapsed": false,
     "input": [
      "date"
     ],
     "language": "python",
     "metadata": {},
     "outputs": []
    },
    {
     "cell_type": "code",
     "collapsed": false,
     "input": [
      "time"
     ],
     "language": "python",
     "metadata": {},
     "outputs": []
    },
    {
     "cell_type": "code",
     "collapsed": false,
     "input": [
      "animal"
     ],
     "language": "python",
     "metadata": {},
     "outputs": []
    },
    {
     "cell_type": "code",
     "collapsed": false,
     "input": [
      "number"
     ],
     "language": "python",
     "metadata": {},
     "outputs": []
    },
    {
     "cell_type": "markdown",
     "metadata": {},
     "source": [
      "***\n",
      "# Optional Exercise 6\n",
      "1. Read the file 'big_animals.txt' and print each line on which more than 10 elk were sighted.\n",
      "\n",
      "\n",
      "***"
     ]
    },
    {
     "cell_type": "markdown",
     "metadata": {},
     "source": [
      "***\n",
      "#Scripting in Python\n",
      "***\n",
      "\n",
      "\n",
      "Everything we've done so far has been interactive, but what if you want to create a script which you can run over and over. Everything we've written can be written to a text file and executed using python.\n",
      "\n",
      "Copy and paste the function you just wrote (Ex 6) into a text file and save the file a count_animals.py\n",
      "\n",
      "Or open count_animals_wise.py and take a look at it.\n",
      "\n",
      "Now we'll run that script at the command line\n"
     ]
    },
    {
     "cell_type": "markdown",
     "metadata": {},
     "source": [
      "***\n",
      "#Optional Exercise 7:\n",
      "\n",
      "1. Add a function to your count_animals module which counts the number wolverine. Don't forget your coding best practices: add a comment, use descriptive variable names\n",
      "\n",
      "***"
     ]
    }
   ],
   "metadata": {}
  }
 ]
}