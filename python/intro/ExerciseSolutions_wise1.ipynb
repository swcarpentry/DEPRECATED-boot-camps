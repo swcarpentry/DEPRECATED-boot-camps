{
 "metadata": {
  "name": "ExerciseSolutions_wise1"
 },
 "nbformat": 3,
 "nbformat_minor": 0,
 "worksheets": [
  {
   "cells": [
    {
     "cell_type": "markdown",
     "metadata": {},
     "source": [
      "***\n",
      "# Exercise 1:\n",
      "1. Calculate the mean of 2, 3, and 10\n",
      "2. Try multipying each type by 2, how does the meaning of multiplication differ for an integer, a floating point, a string, and a boolean? Do you notice different behavior if 2 is an integer or a floating point? What about addition?\n",
      "3. (optional - if you finish early) Try division and subtraction. \n",
      "\n",
      "***"
     ]
    },
    {
     "cell_type": "markdown",
     "metadata": {},
     "source": [
      "Exercise I"
     ]
    },
    {
     "cell_type": "code",
     "collapsed": false,
     "input": [
      "(2+3+10)/3"
     ],
     "language": "python",
     "metadata": {},
     "outputs": [
      {
       "output_type": "pyout",
       "prompt_number": 1,
       "text": [
        "5"
       ]
      }
     ],
     "prompt_number": 1
    },
    {
     "cell_type": "markdown",
     "metadata": {},
     "source": [
      "Exercise II"
     ]
    },
    {
     "cell_type": "code",
     "collapsed": false,
     "input": [
      "4*2"
     ],
     "language": "python",
     "metadata": {},
     "outputs": [
      {
       "output_type": "pyout",
       "prompt_number": 4,
       "text": [
        "8"
       ]
      }
     ],
     "prompt_number": 4
    },
    {
     "cell_type": "code",
     "collapsed": false,
     "input": [
      "4.0 * 2"
     ],
     "language": "python",
     "metadata": {},
     "outputs": [
      {
       "output_type": "pyout",
       "prompt_number": 3,
       "text": [
        "8.0"
       ]
      }
     ],
     "prompt_number": 3
    },
    {
     "cell_type": "code",
     "collapsed": false,
     "input": [
      "'hello' * 2"
     ],
     "language": "python",
     "metadata": {},
     "outputs": [
      {
       "output_type": "pyout",
       "prompt_number": 5,
       "text": [
        "'hellohello'"
       ]
      }
     ],
     "prompt_number": 5
    },
    {
     "cell_type": "code",
     "collapsed": false,
     "input": [
      "True * 2"
     ],
     "language": "python",
     "metadata": {},
     "outputs": [
      {
       "output_type": "pyout",
       "prompt_number": 7,
       "text": [
        "2"
       ]
      }
     ],
     "prompt_number": 7
    },
    {
     "cell_type": "markdown",
     "metadata": {},
     "source": [
      "Exercise III"
     ]
    },
    {
     "cell_type": "code",
     "collapsed": false,
     "input": [
      "8/3"
     ],
     "language": "python",
     "metadata": {},
     "outputs": [
      {
       "output_type": "pyout",
       "prompt_number": 8,
       "text": [
        "2"
       ]
      }
     ],
     "prompt_number": 8
    },
    {
     "cell_type": "code",
     "collapsed": false,
     "input": [
      "8.0/3"
     ],
     "language": "python",
     "metadata": {},
     "outputs": [
      {
       "output_type": "pyout",
       "prompt_number": 9,
       "text": [
        "2.6666666666666665"
       ]
      }
     ],
     "prompt_number": 9
    },
    {
     "cell_type": "code",
     "collapsed": false,
     "input": [
      "'hello'/3"
     ],
     "language": "python",
     "metadata": {},
     "outputs": [
      {
       "ename": "TypeError",
       "evalue": "unsupported operand type(s) for /: 'str' and 'int'",
       "output_type": "pyerr",
       "traceback": [
        "\u001b[0;31m---------------------------------------------------------------------------\u001b[0m\n\u001b[0;31mTypeError\u001b[0m                                 Traceback (most recent call last)",
        "\u001b[0;32m<ipython-input-11-3db38bae344d>\u001b[0m in \u001b[0;36m<module>\u001b[0;34m()\u001b[0m\n\u001b[0;32m----> 1\u001b[0;31m \u001b[0;34m'hello'\u001b[0m\u001b[0;34m/\u001b[0m\u001b[0;36m3\u001b[0m\u001b[0;34m\u001b[0m\u001b[0m\n\u001b[0m",
        "\u001b[0;31mTypeError\u001b[0m: unsupported operand type(s) for /: 'str' and 'int'"
       ]
      }
     ],
     "prompt_number": 11
    },
    {
     "cell_type": "code",
     "collapsed": false,
     "input": [
      "True/3"
     ],
     "language": "python",
     "metadata": {},
     "outputs": [
      {
       "output_type": "pyout",
       "prompt_number": 10,
       "text": [
        "0"
       ]
      }
     ],
     "prompt_number": 10
    },
    {
     "cell_type": "code",
     "collapsed": false,
     "input": [
      "True/3.0"
     ],
     "language": "python",
     "metadata": {},
     "outputs": [
      {
       "output_type": "pyout",
       "prompt_number": 12,
       "text": [
        "0.3333333333333333"
       ]
      }
     ],
     "prompt_number": 12
    },
    {
     "cell_type": "code",
     "collapsed": false,
     "input": [
      "False/3.0"
     ],
     "language": "python",
     "metadata": {},
     "outputs": [
      {
       "output_type": "pyout",
       "prompt_number": 14,
       "text": [
        "0.0"
       ]
      }
     ],
     "prompt_number": 14
    },
    {
     "cell_type": "markdown",
     "metadata": {},
     "source": [
      "***\n",
      "###Exercise 2.1\n",
      "1. Make a list with 6 items in it\n",
      "2. print item 4 to the screen\n",
      "3. print a sublist containing the 3rd, 4th, and 5th item in the list\n",
      "4. Experiment with multiplication and addition on list. How do these operations act on lists?\n",
      "\n",
      "***"
     ]
    },
    {
     "cell_type": "markdown",
     "metadata": {},
     "source": [
      "Exercise I"
     ]
    },
    {
     "cell_type": "code",
     "collapsed": false,
     "input": [
      "fruit_list = ['apple', 'orange', 16.3, 'pear', 4, 'kiwi']"
     ],
     "language": "python",
     "metadata": {},
     "outputs": [],
     "prompt_number": 3
    },
    {
     "cell_type": "markdown",
     "metadata": {},
     "source": [
      "Exercise II"
     ]
    },
    {
     "cell_type": "code",
     "collapsed": false,
     "input": [
      "fruit_list[3]"
     ],
     "language": "python",
     "metadata": {},
     "outputs": [
      {
       "output_type": "pyout",
       "prompt_number": 4,
       "text": [
        "'pear'"
       ]
      }
     ],
     "prompt_number": 4
    },
    {
     "cell_type": "markdown",
     "metadata": {},
     "source": [
      "Exercise III"
     ]
    },
    {
     "cell_type": "code",
     "collapsed": false,
     "input": [
      "fruit_list[2:5]"
     ],
     "language": "python",
     "metadata": {},
     "outputs": [
      {
       "output_type": "pyout",
       "prompt_number": 5,
       "text": [
        "[16.3, 'pear', 4]"
       ]
      }
     ],
     "prompt_number": 5
    },
    {
     "cell_type": "markdown",
     "metadata": {},
     "source": [
      "Exercise IV"
     ]
    },
    {
     "cell_type": "code",
     "collapsed": false,
     "input": [
      "fruit_list * 2"
     ],
     "language": "python",
     "metadata": {},
     "outputs": [
      {
       "output_type": "pyout",
       "prompt_number": 6,
       "text": [
        "['apple',\n",
        " 'orange',\n",
        " 16.3,\n",
        " 'pear',\n",
        " 4,\n",
        " 'kiwi',\n",
        " 'apple',\n",
        " 'orange',\n",
        " 16.3,\n",
        " 'pear',\n",
        " 4,\n",
        " 'kiwi']"
       ]
      }
     ],
     "prompt_number": 6
    },
    {
     "cell_type": "code",
     "collapsed": false,
     "input": [
      "fruit_list + 2"
     ],
     "language": "python",
     "metadata": {},
     "outputs": [
      {
       "ename": "TypeError",
       "evalue": "can only concatenate list (not \"int\") to list",
       "output_type": "pyerr",
       "traceback": [
        "\u001b[0;31m---------------------------------------------------------------------------\u001b[0m\n\u001b[0;31mTypeError\u001b[0m                                 Traceback (most recent call last)",
        "\u001b[0;32m<ipython-input-22-cc9679f872e4>\u001b[0m in \u001b[0;36m<module>\u001b[0;34m()\u001b[0m\n\u001b[0;32m----> 1\u001b[0;31m \u001b[0mfruit_list\u001b[0m \u001b[0;34m+\u001b[0m \u001b[0;36m2\u001b[0m\u001b[0;34m\u001b[0m\u001b[0m\n\u001b[0m",
        "\u001b[0;31mTypeError\u001b[0m: can only concatenate list (not \"int\") to list"
       ]
      }
     ],
     "prompt_number": 22
    },
    {
     "cell_type": "markdown",
     "metadata": {},
     "source": [
      "***\n",
      "###Exercise 2.2\n",
      "1. Make a dictionary and experiment using different types as keys. Which containers, if any, can be keys? Why?\n",
      "2. When would you use a list and a dictionary? student grades, lottery numbers\n",
      "\n",
      "***"
     ]
    },
    {
     "cell_type": "markdown",
     "metadata": {},
     "source": [
      "Exercise I"
     ]
    },
    {
     "cell_type": "code",
     "collapsed": false,
     "input": [
      "animal_dict = {'walk':['elephant','dog','cat'], 'fly':['birds', 'bats'], 'swim':['dolphins','whales']}"
     ],
     "language": "python",
     "metadata": {},
     "outputs": [],
     "prompt_number": 8
    },
    {
     "cell_type": "code",
     "collapsed": false,
     "input": [
      "animal_dict"
     ],
     "language": "python",
     "metadata": {},
     "outputs": [
      {
       "output_type": "pyout",
       "prompt_number": 10,
       "text": [
        "{'fly': ['birds', 'bats'],\n",
        " 'swim': ['dolphins', 'whales'],\n",
        " 'walk': ['elephant', 'dog', 'cat']}"
       ]
      }
     ],
     "prompt_number": 10
    },
    {
     "cell_type": "code",
     "collapsed": false,
     "input": [
      "more_animal_dict = {'walk':['elephant','dog','cat'], 'fly':['birds', 'bats'], 'swim':['dolphins','whales'], ('walk', 'swim'):['penguins', 'seals']}"
     ],
     "language": "python",
     "metadata": {},
     "outputs": [],
     "prompt_number": 9
    },
    {
     "cell_type": "code",
     "collapsed": false,
     "input": [
      "more_animal_dict"
     ],
     "language": "python",
     "metadata": {},
     "outputs": [
      {
       "output_type": "pyout",
       "prompt_number": 11,
       "text": [
        "{'fly': ['birds', 'bats'],\n",
        " 'swim': ['dolphins', 'whales'],\n",
        " 'walk': ['elephant', 'dog', 'cat'],\n",
        " ('walk', 'swim'): ['penguins', 'seals']}"
       ]
      }
     ],
     "prompt_number": 11
    },
    {
     "cell_type": "markdown",
     "metadata": {},
     "source": [
      "***\n",
      "Discussion question:\n",
      "For the two examples given below, discuss whether is would be better to use a dictionary, tuple, or list. There is not necessarily one right answer. Make sure you discuss why you made your choice.\n",
      "\n",
      "1. Lottery numbers\n",
      "2. Student's grades\n",
      "***"
     ]
    },
    {
     "cell_type": "markdown",
     "metadata": {},
     "source": [
      "***\n",
      "#Exercise 3\n",
      "1. Write an if statement that prints whether x is even or odd (hint: remember the modulus)\n",
      "\n",
      "***"
     ]
    },
    {
     "cell_type": "code",
     "collapsed": false,
     "input": [
      "x = 5"
     ],
     "language": "python",
     "metadata": {},
     "outputs": [],
     "prompt_number": 12
    },
    {
     "cell_type": "code",
     "collapsed": false,
     "input": [
      "if x % 2 == 0:\n",
      "    print 'x is even'\n",
      "else:\n",
      "    print 'x is odd'"
     ],
     "language": "python",
     "metadata": {},
     "outputs": [
      {
       "output_type": "stream",
       "stream": "stdout",
       "text": [
        "x is odd\n"
       ]
      }
     ],
     "prompt_number": 13
    },
    {
     "cell_type": "markdown",
     "metadata": {},
     "source": [
      "***\n",
      "#Exercise 4:\n",
      "1. Using a loop, find the mean of [3.0, 4.0, 5.0, 2.0, 8.0, 10.0, 14.0, 16.0, 29.0]\n",
      "\n",
      "***"
     ]
    },
    {
     "cell_type": "code",
     "collapsed": false,
     "input": [
      "number_list = [3.0, 4.0, 5.0, 2.0, 8.0, 10.0, 14.0, 16.0, 29.0]"
     ],
     "language": "python",
     "metadata": {},
     "outputs": [],
     "prompt_number": 16
    },
    {
     "cell_type": "code",
     "collapsed": false,
     "input": [
      "total = 0\n",
      "for num in number_list:\n",
      "    total = total + num\n",
      "mean = total/len(number_list)\n",
      "print mean"
     ],
     "language": "python",
     "metadata": {},
     "outputs": [
      {
       "output_type": "stream",
       "stream": "stdout",
       "text": [
        "10.1111111111\n"
       ]
      }
     ],
     "prompt_number": 17
    },
    {
     "cell_type": "markdown",
     "metadata": {},
     "source": [
      "***\n",
      "#Exercise 5:\n",
      "1. Using your last exercise, create a function which calculates the mean of an input list of numbers\n",
      "\n",
      "***"
     ]
    },
    {
     "cell_type": "code",
     "collapsed": false,
     "input": [
      "def calc_mean(numlist):\n",
      "    '''\n",
      "    This function calculates the mean of a list of numbers\n",
      "    '''\n",
      "    total = 0\n",
      "    for num in numlist:\n",
      "        total = total + num\n",
      "    mean = total/len(numlist)\n",
      "    return mean\n",
      "    "
     ],
     "language": "python",
     "metadata": {},
     "outputs": [],
     "prompt_number": 18
    },
    {
     "cell_type": "code",
     "collapsed": false,
     "input": [
      "calc_mean(number_list)"
     ],
     "language": "python",
     "metadata": {},
     "outputs": [
      {
       "output_type": "pyout",
       "prompt_number": 19,
       "text": [
        "10.11111111111111"
       ]
      }
     ],
     "prompt_number": 19
    },
    {
     "cell_type": "markdown",
     "metadata": {},
     "source": [
      "***\n",
      "# Exercise 6\n",
      "1. Read the file 'big_animals.txt' and print each line on which more than 10 moose were sighted.\n",
      "\n",
      "2. Turn the code for #1 into a function and use it on the files 'merida_animals.txt' and 'fergus_animals.txt'.\n",
      "\n",
      "***"
     ]
    },
    {
     "cell_type": "code",
     "collapsed": false,
     "input": [
      "open_file = open('big_animals.txt', 'r')"
     ],
     "language": "python",
     "metadata": {},
     "outputs": [],
     "prompt_number": 23
    },
    {
     "cell_type": "code",
     "collapsed": false,
     "input": [
      "all_lines = open_file.readlines()\n",
      "all_lines"
     ],
     "language": "python",
     "metadata": {},
     "outputs": [
      {
       "output_type": "pyout",
       "prompt_number": 24,
       "text": [
        "['2011-04-22 10:30 Wolverine 10\\n',\n",
        " '2011-04-22 15:30 Moose 37\\n',\n",
        " '2011-04-23 12:16 Grizzly 25\\n',\n",
        " '2011-04-23 12:32 Grizzly 2\\n',\n",
        " '2011-04-24 22:19 Muskox 16\\n',\n",
        " '2011-04-25 10:32 Muskox 11\\n',\n",
        " '2011-04-25 19:53 Wolverine 1\\n',\n",
        " '2011-04-25 08:10 Wolverine 14\\n',\n",
        " '2011-04-25 13:38 Wolf 7\\n',\n",
        " '2011-04-26 22:28 Elk 22\\n',\n",
        " '2011-04-27 10:04 Moose 1\\n',\n",
        " '2011-04-28 22:18 Muskox 22\\n',\n",
        " '2011-04-28 14:15 Elk 39\\n',\n",
        " '2011-04-28 02:23 Grizzly 27\\n',\n",
        " '2011-04-29 11:23 Wolverine 1\\n',\n",
        " '2011-04-30 12:51 Muskox 2\\n',\n",
        " '2011-04-30 21:30 Fox 5\\n',\n",
        " '2011-05-01 00:26 Elk 12\\n',\n",
        " '2011-05-02 03:32 Moose 14\\n',\n",
        " '2011-05-02 00:25 Wolf 39\\n',\n",
        " '2011-05-03 10:05 Owl 10\\n',\n",
        " '2011-05-04 23:16 Owl 10\\n',\n",
        " '2011-05-04 22:20 Fox 10\\n',\n",
        " '2011-05-05 07:00 Moose 20\\n',\n",
        " '2011-05-05 14:49 Muskox 7\\n',\n",
        " '2011-05-05 02:28 Wolverine 22\\n',\n",
        " '2011-05-05 18:56 Grizzly 1\\n',\n",
        " '2011-05-06 09:54 Wolf 42\\n',\n",
        " '2011-05-06 23:02 Owl 9\\n',\n",
        " '2011-05-06 19:40 Moose 31\\n',\n",
        " '2011-05-06 22:15 Moose 9\\n',\n",
        " '2011-05-06 12:25 Wolverine 8\\n',\n",
        " '2011-05-07 13:10 Ptarmigan 40\\n',\n",
        " '2011-05-07 02:45 Ptarmigan 29\\n',\n",
        " '2011-05-07 02:01 Owl 40\\n',\n",
        " '2011-05-08 04:15 Elk 4\\n',\n",
        " '2011-05-08 01:36 Moose 19\\n',\n",
        " '2011-05-08 21:41 Ptarmigan 32\\n',\n",
        " '2011-05-08 08:11 Elk 31\\n',\n",
        " '2011-05-08 09:39 Moose 35\\n',\n",
        " '2011-05-08 19:39 Wolf 29\\n',\n",
        " '2011-05-08 10:38 Moose 11\\n',\n",
        " '2011-05-09 09:08 Elk 30\\n',\n",
        " '2011-05-09 06:07 Grizzly 14\\n',\n",
        " '2011-05-10 11:32 Wolf 5\\n',\n",
        " '2011-05-10 11:03 Moose 15\\n',\n",
        " '2011-05-10 00:11 Wolverine 21\\n',\n",
        " '2011-05-10 11:30 Moose 5\\n',\n",
        " '2011-05-11 01:45 Ptarmigan 9\\n',\n",
        " '2011-05-12 04:18 Wolverine 3\\n',\n",
        " '2011-05-12 20:54 Grizzly 22\\n',\n",
        " '2011-05-12 10:16 Owl 10\\n',\n",
        " '2011-05-12 21:54 Wolverine 6\\n',\n",
        " '2011-05-12 11:10 Ptarmigan 36\\n',\n",
        " '2011-05-13 20:07 Elk 41\\n',\n",
        " '2011-05-14 15:41 Moose 12\\n',\n",
        " '2011-05-14 12:22 Fox 42\\n',\n",
        " '2011-05-14 15:47 Muskox 19\\n',\n",
        " '2011-05-14 08:12 Ptarmigan 13\\n',\n",
        " '2011-05-15 02:33 Wolf 39\\n',\n",
        " '2011-05-15 18:33 Owl 15\\n',\n",
        " '2011-05-15 20:30 Ptarmigan 27\\n',\n",
        " '2011-05-16 18:08 Wolf 34\\n',\n",
        " '2011-05-16 23:35 Wolf 12\\n',\n",
        " '2011-05-17 06:30 Fox 42\\n',\n",
        " '2011-05-17 11:48 Elk 36\\n',\n",
        " '2011-05-17 05:18 Wolf 31\\n',\n",
        " '2011-05-18 09:58 Wolf 23\\n',\n",
        " '2011-05-19 00:45 Moose 6\\n',\n",
        " '2011-05-19 21:29 Wolf 8\\n',\n",
        " '2011-05-19 20:43 Fox 33\\n',\n",
        " '2011-05-20 10:48 Fox 29\\n',\n",
        " '2011-05-20 06:11 Ptarmigan 17\\n',\n",
        " '2011-05-20 19:50 Fox 1\\n',\n",
        " '2011-05-20 12:30 Ptarmigan 16\\n',\n",
        " '2011-05-21 08:52 Muskox 24\\n',\n",
        " '2011-05-21 06:30 Wolf 26\\n',\n",
        " '2011-05-22 15:21 Wolf 41\\n',\n",
        " '2011-05-22 14:07 Moose 30\\n',\n",
        " '2011-05-22 10:36 Muskox 37\\n',\n",
        " '2011-05-22 16:24 Grizzly 21\\n',\n",
        " '2011-05-23 16:58 Grizzly 19\\n',\n",
        " '2011-05-23 02:31 Grizzly 17\\n',\n",
        " '2011-05-24 21:36 Wolf 1\\n',\n",
        " '2011-05-24 13:36 Fox 26\\n',\n",
        " '2011-05-24 11:03 Grizzly 12\\n',\n",
        " '2011-05-25 09:07 Moose 10\\n',\n",
        " '2011-05-26 19:59 Fox 16\\n',\n",
        " '2011-05-27 01:20 Ptarmigan 29\\n',\n",
        " '2011-05-28 19:23 Owl 22\\n',\n",
        " '2011-05-28 16:52 Fox 5\\n',\n",
        " '2011-05-28 18:15 Fox 22\\n',\n",
        " '2011-05-29 04:15 Grizzly 15\\n',\n",
        " '2011-05-30 12:15 Moose 11\\n',\n",
        " '2011-05-30 16:27 Grizzly 34\\n',\n",
        " '2011-05-30 19:20 Moose 25\\n',\n",
        " '2011-05-31 06:21 Wolverine 31\\n',\n",
        " '2011-05-31 10:19 Muskox 28\\n',\n",
        " '2011-06-01 22:42 Elk 3\\n',\n",
        " '2011-06-01 11:05 Grizzly 14\\n']"
       ]
      }
     ],
     "prompt_number": 24
    },
    {
     "cell_type": "code",
     "collapsed": false,
     "input": [
      "open_file.close()"
     ],
     "language": "python",
     "metadata": {},
     "outputs": [],
     "prompt_number": 25
    },
    {
     "cell_type": "code",
     "collapsed": false,
     "input": [],
     "language": "python",
     "metadata": {},
     "outputs": []
    },
    {
     "cell_type": "markdown",
     "metadata": {},
     "source": [
      "***\n",
      "#Scripting in Python\n",
      "***\n",
      "\n",
      "\n",
      "Everything we've done so far has been interactive, but what if you want to create a script which you can run over and over. Everything we've written can be written to a text file and executed using python.\n",
      "\n",
      "Copy and paste the function you just wrote (Ex 6.2) into a text file and save the file a count_animals.py"
     ]
    },
    {
     "cell_type": "markdown",
     "metadata": {},
     "source": [
      "*Note:* The import statement only works once during a python session. After that, python does not recompile your code, no matter how many times you import it. To make a change, type reload(function_name)"
     ]
    },
    {
     "cell_type": "markdown",
     "metadata": {},
     "source": [
      "***\n",
      "#Exercise 7:\n",
      "\n",
      "1. Add a function to your count_animals module which counts the number wolverine. Don't forget you function best practices: add a doc string, use descriptive function and variable names\n",
      "\n",
      "***"
     ]
    },
    {
     "cell_type": "markdown",
     "metadata": {},
     "source": [
      "***\n",
      "#Modules which have already been written\n",
      "example: os\n",
      "***\n",
      "\n",
      "While you can use all you your shell commands in ipython, when you are writing scripts, you must use built in python functions. One of python's greatest strengths is the ability to import modules. A module is a collection of functions and other python objects. You gain access to these objects by importing them."
     ]
    },
    {
     "cell_type": "markdown",
     "metadata": {},
     "source": [
      "##The os module\n",
      "\n",
      "The os module contains most of the shell commands we covered this morning. os stands for operating system.\n",
      "\n",
      "<table>\n",
      "<tr><th>Shell Command</th><th>Python Command</th></tr>\n",
      "<tr><td>cd directory_name</td><td>os.chdir(directory_name)</td></tr>\n",
      "<tr><td>pwd</td><td>os.getcwd()</td></tr>\n",
      "<tr><td>mkdir directory_name</td><td>os.mkdir(directory_name)</td></tr>\n",
      "<tr><td>ls</td><td>os.listdir(path)</td></tr>\n",
      "<tr><td>rm filename</td><td>os.remove(filename)</td></tr>\n",
      "</table>"
     ]
    },
    {
     "cell_type": "markdown",
     "metadata": {},
     "source": [
      "###Getting information about modules and functions:\n",
      "* dir(os)\n",
      "* os. < tab > \n",
      "* help(os.getcwd)\n",
      "* website: os module: <a href = \"http://docs.python.org/2/library/os.html\" target = \"blank\">http://docs.python.org/2/library/os.html</a>\n",
      "* web (google, stack overflow, etc)"
     ]
    },
    {
     "cell_type": "markdown",
     "metadata": {},
     "source": [
      "***\n",
      "#Exercise 8\n",
      "\n",
      "1. Use the documentation for os to figure out how to create a directory called exercise_8\n",
      "\n",
      "***"
     ]
    }
   ],
   "metadata": {}
  }
 ]
}