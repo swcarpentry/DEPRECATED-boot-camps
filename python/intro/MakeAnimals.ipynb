{
 "metadata": {
  "name": "MakeAnimals"
 },
 "nbformat": 3,
 "nbformat_minor": 0,
 "worksheets": [
  {
   "cells": [
    {
     "cell_type": "code",
     "collapsed": true,
     "input": [
      "animals = ('Moose', 'Elk', 'Fox', 'Owl', 'Wolf', 'Muskox', 'Ptarmigan', 'Grizzly', 'Wolverine')"
     ],
     "language": "python",
     "metadata": {},
     "outputs": [],
     "prompt_number": 14
    },
    {
     "cell_type": "code",
     "collapsed": true,
     "input": [
      "import datetime as dt\n",
      "import random"
     ],
     "language": "python",
     "metadata": {},
     "outputs": [],
     "prompt_number": 15
    },
    {
     "cell_type": "code",
     "collapsed": false,
     "input": [
      "def make_animals(filename, lines=100):\n",
      "    date = dt.date(2011, 4, 22)\n",
      "    one_day = dt.timedelta(days=1)\n",
      "\n",
      "    f = open(filename, 'w')\n",
      "\n",
      "    for _ in xrange(lines):\n",
      "        animal = random.choice(animals)\n",
      "        hour = random.randint(0, 23)\n",
      "        minute = random.randint(0, 59)\n",
      "        number = random.randint(1, 42)\n",
      "    \n",
      "        date_str = '{}-{:02d}-{:02d}'.format(date.year, date.month, date.day)\n",
      "    \n",
      "        time_str = '{:02d}:{:02d}'.format(hour, minute)\n",
      "    \n",
      "        line = '{} {} {} {}\\n'.format(date_str, time_str, animal, number)\n",
      "    \n",
      "        f.write(line)\n",
      "    \n",
      "        if random.choice((True, False)):\n",
      "            date = date + one_day\n",
      "    \n",
      "    f.close()"
     ],
     "language": "python",
     "metadata": {},
     "outputs": [],
     "prompt_number": 22
    },
    {
     "cell_type": "code",
     "collapsed": true,
     "input": [
      "make_animals('animals.txt', 5)"
     ],
     "language": "python",
     "metadata": {},
     "outputs": [],
     "prompt_number": 24
    },
    {
     "cell_type": "code",
     "collapsed": true,
     "input": [
      "make_animals('big_animals.txt')"
     ],
     "language": "python",
     "metadata": {},
     "outputs": [],
     "prompt_number": 23
    },
    {
     "cell_type": "code",
     "collapsed": true,
     "input": [
      "make_animals('merida_animals.txt')"
     ],
     "language": "python",
     "metadata": {},
     "outputs": [],
     "prompt_number": 25
    },
    {
     "cell_type": "code",
     "collapsed": true,
     "input": [
      "make_animals('fergus_animals.txt')"
     ],
     "language": "python",
     "metadata": {},
     "outputs": [],
     "prompt_number": 26
    },
    {
     "cell_type": "code",
     "collapsed": true,
     "input": [
      "make_animals('macguffin_animals.txt')"
     ],
     "language": "python",
     "metadata": {},
     "outputs": [],
     "prompt_number": 27
    },
    {
     "cell_type": "code",
     "collapsed": true,
     "input": [
      "make_animals('dingwall_animals.txt')"
     ],
     "language": "python",
     "metadata": {},
     "outputs": [],
     "prompt_number": 28
    },
    {
     "cell_type": "code",
     "collapsed": true,
     "input": [],
     "language": "python",
     "metadata": {},
     "outputs": []
    }
   ],
   "metadata": {}
  }
 ]
}