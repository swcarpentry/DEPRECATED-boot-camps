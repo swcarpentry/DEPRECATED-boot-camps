{
 "metadata": {
  "name": "PresenterNotes_wise1_2"
 },
 "nbformat": 3,
 "nbformat_minor": 0,
 "worksheets": [
  {
   "cells": [
    {
     "cell_type": "markdown",
     "metadata": {},
     "source": [
      "##Another very powerful type of container\n",
      "##Dictionary\n",
      "* key (immutable), value (mutable), item = (key, value)\n",
      "* defined with curly brackets\n",
      "* keys can be integers, floating point numbers, or strings"
     ]
    },
    {
     "cell_type": "code",
     "collapsed": false,
     "input": [
      "#Defining a dictionary\n",
      "#keys: stars, galaxies\n",
      "#Values: ['sirius', 'deneb'], ['Whirlpool', 'Sombrero', 'Pinwheel']\n",
      "my_dict = {'stars': ['sirius', 'deneb'], 'galaxies': ['Whirlpool', 'Sombrero', 'Pinwheel']}"
     ],
     "language": "python",
     "metadata": {},
     "outputs": []
    },
    {
     "cell_type": "code",
     "collapsed": false,
     "input": [
      "#When I print my_dict, it isn't in the order I input it\n",
      "my_dict"
     ],
     "language": "python",
     "metadata": {},
     "outputs": []
    },
    {
     "cell_type": "markdown",
     "metadata": {},
     "source": [
      "A dictionary is a *hash table*. A hash table is a special and fast way for a computer look-up information. The plus side is that it is fast, the downside is that it is unordered"
     ]
    },
    {
     "cell_type": "code",
     "collapsed": false,
     "input": [
      "#You cannot index a dictionary by position. Instead you must use the keys\n",
      "my_dict['stars']"
     ],
     "language": "python",
     "metadata": {},
     "outputs": []
    },
    {
     "cell_type": "code",
     "collapsed": false,
     "input": [
      "#Adding a key\n",
      "my_dict['nebula'] ='crab'"
     ],
     "language": "python",
     "metadata": {},
     "outputs": []
    },
    {
     "cell_type": "code",
     "collapsed": false,
     "input": [
      "print my_dict"
     ],
     "language": "python",
     "metadata": {},
     "outputs": []
    },
    {
     "cell_type": "code",
     "collapsed": false,
     "input": [
      "#keys can be numbers\n",
      "my_dict[45] = 'forty-five'"
     ],
     "language": "python",
     "metadata": {},
     "outputs": []
    },
    {
     "cell_type": "code",
     "collapsed": false,
     "input": [
      "#viewing keys:\n",
      "print my_dict.keys()"
     ],
     "language": "python",
     "metadata": {},
     "outputs": []
    },
    {
     "cell_type": "code",
     "collapsed": false,
     "input": [
      "#viewing values:\n",
      "print my_dict.values()"
     ],
     "language": "python",
     "metadata": {},
     "outputs": []
    },
    {
     "cell_type": "code",
     "collapsed": false,
     "input": [
      "#viewing items:\n",
      "#items are tuples of keys and values\n",
      "print my_dict.items()"
     ],
     "language": "python",
     "metadata": {},
     "outputs": []
    },
    {
     "cell_type": "markdown",
     "metadata": {},
     "source": [
      "***\n",
      "###Exercise 2.2\n",
      "1. Make a dictionary of your own data type and think about what would be good to use as keys\n",
      "2. When would you use a list and a dictionary? student grades, lottery numbers\n",
      "\n",
      "***"
     ]
    },
    {
     "cell_type": "markdown",
     "metadata": {},
     "source": [
      "##Tuples\n",
      "* ordered\n",
      "* can mix object types\n",
      "* immutable\n",
      "* defined with curved brackets"
     ]
    }
   ],
   "metadata": {}
  }
 ]
}